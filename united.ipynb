{
 "cells": [
  {
   "cell_type": "code",
   "execution_count": 1,
   "id": "initial_id",
   "metadata": {
    "collapsed": true,
    "ExecuteTime": {
     "end_time": "2023-10-09T16:59:34.179686Z",
     "start_time": "2023-10-09T16:59:34.177154Z"
    }
   },
   "outputs": [],
   "source": [
    "import numpy as np\n",
    "import pandas as pd"
   ]
  },
  {
   "cell_type": "markdown",
   "source": [
    "# Data audit: United's dataset for preventive maintenance."
   ],
   "metadata": {
    "collapsed": false
   },
   "id": "e146f9a1b9336796"
  },
  {
   "cell_type": "code",
   "execution_count": 83,
   "outputs": [
    {
     "name": "stderr",
     "output_type": "stream",
     "text": [
      "/var/folders/2k/kp7vx_k946ggnbsk9nnnx0sm0000gp/T/ipykernel_51398/1225511420.py:1: DtypeWarning: Columns (24,35,36,37,38) have mixed types. Specify dtype option on import or set low_memory=False.\n",
      "  df_united = pd.read_csv('./data/gse_telemetry_event_202309281837.csv')\n"
     ]
    }
   ],
   "source": [
    "df_united = pd.read_csv('./data/gse_telemetry_event_202309281837.csv')"
   ],
   "metadata": {
    "collapsed": false,
    "ExecuteTime": {
     "end_time": "2023-10-09T19:33:57.536355Z",
     "start_time": "2023-10-09T19:33:15.996186Z"
    }
   },
   "id": "d11c9008342f2f75"
  },
  {
   "cell_type": "code",
   "execution_count": 4,
   "outputs": [
    {
     "data": {
      "text/plain": "                          asset_code              device_serial_number  \\\n0   f0e62c0d7c98d3ae3e27a3c6dd4bd49f  de04edac04674cc11bee2286fdf5b7d0   \n1   f0e62c0d7c98d3ae3e27a3c6dd4bd49f  de04edac04674cc11bee2286fdf5b7d0   \n2   f0e62c0d7c98d3ae3e27a3c6dd4bd49f  de04edac04674cc11bee2286fdf5b7d0   \n3   f0e62c0d7c98d3ae3e27a3c6dd4bd49f  de04edac04674cc11bee2286fdf5b7d0   \n4   f0e62c0d7c98d3ae3e27a3c6dd4bd49f  de04edac04674cc11bee2286fdf5b7d0   \n5   f0e62c0d7c98d3ae3e27a3c6dd4bd49f  de04edac04674cc11bee2286fdf5b7d0   \n6   f0e62c0d7c98d3ae3e27a3c6dd4bd49f  de04edac04674cc11bee2286fdf5b7d0   \n7   f0e62c0d7c98d3ae3e27a3c6dd4bd49f  de04edac04674cc11bee2286fdf5b7d0   \n8   f0e62c0d7c98d3ae3e27a3c6dd4bd49f  de04edac04674cc11bee2286fdf5b7d0   \n9   f0e62c0d7c98d3ae3e27a3c6dd4bd49f  de04edac04674cc11bee2286fdf5b7d0   \n10  f0e62c0d7c98d3ae3e27a3c6dd4bd49f  de04edac04674cc11bee2286fdf5b7d0   \n11  f0e62c0d7c98d3ae3e27a3c6dd4bd49f  de04edac04674cc11bee2286fdf5b7d0   \n12  f0e62c0d7c98d3ae3e27a3c6dd4bd49f  de04edac04674cc11bee2286fdf5b7d0   \n13  f0e62c0d7c98d3ae3e27a3c6dd4bd49f  de04edac04674cc11bee2286fdf5b7d0   \n14  f0e62c0d7c98d3ae3e27a3c6dd4bd49f  de04edac04674cc11bee2286fdf5b7d0   \n15  f0e62c0d7c98d3ae3e27a3c6dd4bd49f  de04edac04674cc11bee2286fdf5b7d0   \n16  f0e62c0d7c98d3ae3e27a3c6dd4bd49f  de04edac04674cc11bee2286fdf5b7d0   \n17  f0e62c0d7c98d3ae3e27a3c6dd4bd49f  de04edac04674cc11bee2286fdf5b7d0   \n18  f0e62c0d7c98d3ae3e27a3c6dd4bd49f  de04edac04674cc11bee2286fdf5b7d0   \n19  f0e62c0d7c98d3ae3e27a3c6dd4bd49f  de04edac04674cc11bee2286fdf5b7d0   \n\n                   date_add    asset_class asset_maintenance_class  \\\n0   2022-07-30 20:56:39.000  FL - FORKLIFT                GSE-M-FL   \n1   2022-07-30 20:56:39.000  FL - FORKLIFT                GSE-M-FL   \n2   2022-07-30 20:56:49.000  FL - FORKLIFT                GSE-M-FL   \n3   2022-07-30 20:56:49.000  FL - FORKLIFT                GSE-M-FL   \n4   2022-07-30 20:56:49.000  FL - FORKLIFT                GSE-M-FL   \n5   2022-07-30 20:56:49.000  FL - FORKLIFT                GSE-M-FL   \n6   2022-07-30 20:56:49.000  FL - FORKLIFT                GSE-M-FL   \n7   2022-07-30 20:56:49.000  FL - FORKLIFT                GSE-M-FL   \n8   2022-07-30 20:57:09.000  FL - FORKLIFT                GSE-M-FL   \n9   2022-07-30 20:57:09.000  FL - FORKLIFT                GSE-M-FL   \n10  2022-07-30 20:57:35.000  FL - FORKLIFT                GSE-M-FL   \n11  2022-07-30 20:57:35.000  FL - FORKLIFT                GSE-M-FL   \n12  2022-07-30 20:57:48.000  FL - FORKLIFT                GSE-M-FL   \n13  2022-07-30 20:57:48.000  FL - FORKLIFT                GSE-M-FL   \n14  2022-07-30 20:57:48.000  FL - FORKLIFT                GSE-M-FL   \n15  2022-07-30 20:57:48.000  FL - FORKLIFT                GSE-M-FL   \n16  2022-07-30 20:58:04.000  FL - FORKLIFT                GSE-M-FL   \n17  2022-07-30 20:58:04.000  FL - FORKLIFT                GSE-M-FL   \n18  2022-07-30 20:58:09.000  FL - FORKLIFT                GSE-M-FL   \n19  2022-07-30 20:58:09.000  FL - FORKLIFT                GSE-M-FL   \n\n    is_asset_motorized                asset_company_code asset_department  \\\n0                 True  3943d8795e03e8e3307b5b71eac1b669         AO-CARGO   \n1                 True  3943d8795e03e8e3307b5b71eac1b669         AO-CARGO   \n2                 True  3943d8795e03e8e3307b5b71eac1b669         AO-CARGO   \n3                 True  3943d8795e03e8e3307b5b71eac1b669         AO-CARGO   \n4                 True  3943d8795e03e8e3307b5b71eac1b669         AO-CARGO   \n5                 True  3943d8795e03e8e3307b5b71eac1b669         AO-CARGO   \n6                 True  3943d8795e03e8e3307b5b71eac1b669         AO-CARGO   \n7                 True  3943d8795e03e8e3307b5b71eac1b669         AO-CARGO   \n8                 True  3943d8795e03e8e3307b5b71eac1b669         AO-CARGO   \n9                 True  3943d8795e03e8e3307b5b71eac1b669         AO-CARGO   \n10                True  3943d8795e03e8e3307b5b71eac1b669         AO-CARGO   \n11                True  3943d8795e03e8e3307b5b71eac1b669         AO-CARGO   \n12                True  3943d8795e03e8e3307b5b71eac1b669         AO-CARGO   \n13                True  3943d8795e03e8e3307b5b71eac1b669         AO-CARGO   \n14                True  3943d8795e03e8e3307b5b71eac1b669         AO-CARGO   \n15                True  3943d8795e03e8e3307b5b71eac1b669         AO-CARGO   \n16                True  3943d8795e03e8e3307b5b71eac1b669         AO-CARGO   \n17                True  3943d8795e03e8e3307b5b71eac1b669         AO-CARGO   \n18                True  3943d8795e03e8e3307b5b71eac1b669         AO-CARGO   \n19                True  3943d8795e03e8e3307b5b71eac1b669         AO-CARGO   \n\n   asset_energy_type           manufacturer_short_name  ...  \\\n0                  B  e96631e72480d283f74b42e8903b0344  ...   \n1                  B  e96631e72480d283f74b42e8903b0344  ...   \n2                  B  e96631e72480d283f74b42e8903b0344  ...   \n3                  B  e96631e72480d283f74b42e8903b0344  ...   \n4                  B  e96631e72480d283f74b42e8903b0344  ...   \n5                  B  e96631e72480d283f74b42e8903b0344  ...   \n6                  B  e96631e72480d283f74b42e8903b0344  ...   \n7                  B  e96631e72480d283f74b42e8903b0344  ...   \n8                  B  e96631e72480d283f74b42e8903b0344  ...   \n9                  B  e96631e72480d283f74b42e8903b0344  ...   \n10                 B  e96631e72480d283f74b42e8903b0344  ...   \n11                 B  e96631e72480d283f74b42e8903b0344  ...   \n12                 B  e96631e72480d283f74b42e8903b0344  ...   \n13                 B  e96631e72480d283f74b42e8903b0344  ...   \n14                 B  e96631e72480d283f74b42e8903b0344  ...   \n15                 B  e96631e72480d283f74b42e8903b0344  ...   \n16                 B  e96631e72480d283f74b42e8903b0344  ...   \n17                 B  e96631e72480d283f74b42e8903b0344  ...   \n18                 B  e96631e72480d283f74b42e8903b0344  ...   \n19                 B  e96631e72480d283f74b42e8903b0344  ...   \n\n   asset_engine_hours lift_sensor_up_indicator lift_sensor_down_indicator  \\\n0                 0.0                      NaN                        NaN   \n1                 0.0                      NaN                        NaN   \n2                 0.0                      NaN                        NaN   \n3                 0.0                      NaN                        NaN   \n4                 0.0                      NaN                        NaN   \n5                 0.0                      NaN                        NaN   \n6                 0.0                      NaN                        NaN   \n7                 0.0                      NaN                        NaN   \n8                 0.0                      NaN                        NaN   \n9                 0.0                      NaN                        NaN   \n10                0.0                      NaN                        NaN   \n11                0.0                      NaN                        NaN   \n12                0.0                      NaN                        NaN   \n13                0.0                      NaN                        NaN   \n14                0.0                      NaN                        NaN   \n15                0.0                      NaN                        NaN   \n16                0.0                      NaN                        NaN   \n17                0.0                      NaN                        NaN   \n18                0.0                      NaN                        NaN   \n19                0.0                      NaN                        NaN   \n\n   asset_idle_indicator engine_running_indicator  asset_working_indicator  \\\n0                 False                     True                     True   \n1                 False                     True                     True   \n2                 False                     True                     True   \n3                 False                     True                     True   \n4                 False                     True                     True   \n5                 False                     True                     True   \n6                 False                     True                     True   \n7                 False                     True                     True   \n8                 False                     True                     True   \n9                 False                     True                     True   \n10                False                     True                     True   \n11                False                     True                     True   \n12                False                     True                     True   \n13                False                     True                     True   \n14                False                     True                     True   \n15                False                     True                     True   \n16                False                     True                     True   \n17                False                     True                     True   \n18                False                     True                     True   \n19                False                     True                     True   \n\n   asset_moving_indicator is_asset_in_shop  asset_energy_level_percentage  \\\n0                   False             True                            NaN   \n1                   False             True                            NaN   \n2                   False             True                            NaN   \n3                   False             True                            NaN   \n4                   False             True                            NaN   \n5                   False             True                            NaN   \n6                   False             True                            NaN   \n7                   False             True                            NaN   \n8                   False             True                            NaN   \n9                   False             True                            NaN   \n10                  False             True                            NaN   \n11                  False             True                            NaN   \n12                  False             True                            NaN   \n13                  False             True                            NaN   \n14                  False             True                            NaN   \n15                  False             True                            NaN   \n16                  False             True                            NaN   \n17                  False             True                            NaN   \n18                  False             True                            NaN   \n19                  False             True                            NaN   \n\n   def_level_percentage  \n0                   0.0  \n1                   0.0  \n2                   0.0  \n3                   0.0  \n4                   0.0  \n5                   0.0  \n6                   0.0  \n7                   0.0  \n8                   0.0  \n9                   0.0  \n10                  0.0  \n11                  0.0  \n12                  0.0  \n13                  0.0  \n14                  0.0  \n15                  0.0  \n16                  0.0  \n17                  0.0  \n18                  0.0  \n19                  0.0  \n\n[20 rows x 42 columns]",
      "text/html": "<div>\n<style scoped>\n    .dataframe tbody tr th:only-of-type {\n        vertical-align: middle;\n    }\n\n    .dataframe tbody tr th {\n        vertical-align: top;\n    }\n\n    .dataframe thead th {\n        text-align: right;\n    }\n</style>\n<table border=\"1\" class=\"dataframe\">\n  <thead>\n    <tr style=\"text-align: right;\">\n      <th></th>\n      <th>asset_code</th>\n      <th>device_serial_number</th>\n      <th>date_add</th>\n      <th>asset_class</th>\n      <th>asset_maintenance_class</th>\n      <th>is_asset_motorized</th>\n      <th>asset_company_code</th>\n      <th>asset_department</th>\n      <th>asset_energy_type</th>\n      <th>manufacturer_short_name</th>\n      <th>...</th>\n      <th>asset_engine_hours</th>\n      <th>lift_sensor_up_indicator</th>\n      <th>lift_sensor_down_indicator</th>\n      <th>asset_idle_indicator</th>\n      <th>engine_running_indicator</th>\n      <th>asset_working_indicator</th>\n      <th>asset_moving_indicator</th>\n      <th>is_asset_in_shop</th>\n      <th>asset_energy_level_percentage</th>\n      <th>def_level_percentage</th>\n    </tr>\n  </thead>\n  <tbody>\n    <tr>\n      <th>0</th>\n      <td>f0e62c0d7c98d3ae3e27a3c6dd4bd49f</td>\n      <td>de04edac04674cc11bee2286fdf5b7d0</td>\n      <td>2022-07-30 20:56:39.000</td>\n      <td>FL - FORKLIFT</td>\n      <td>GSE-M-FL</td>\n      <td>True</td>\n      <td>3943d8795e03e8e3307b5b71eac1b669</td>\n      <td>AO-CARGO</td>\n      <td>B</td>\n      <td>e96631e72480d283f74b42e8903b0344</td>\n      <td>...</td>\n      <td>0.0</td>\n      <td>NaN</td>\n      <td>NaN</td>\n      <td>False</td>\n      <td>True</td>\n      <td>True</td>\n      <td>False</td>\n      <td>True</td>\n      <td>NaN</td>\n      <td>0.0</td>\n    </tr>\n    <tr>\n      <th>1</th>\n      <td>f0e62c0d7c98d3ae3e27a3c6dd4bd49f</td>\n      <td>de04edac04674cc11bee2286fdf5b7d0</td>\n      <td>2022-07-30 20:56:39.000</td>\n      <td>FL - FORKLIFT</td>\n      <td>GSE-M-FL</td>\n      <td>True</td>\n      <td>3943d8795e03e8e3307b5b71eac1b669</td>\n      <td>AO-CARGO</td>\n      <td>B</td>\n      <td>e96631e72480d283f74b42e8903b0344</td>\n      <td>...</td>\n      <td>0.0</td>\n      <td>NaN</td>\n      <td>NaN</td>\n      <td>False</td>\n      <td>True</td>\n      <td>True</td>\n      <td>False</td>\n      <td>True</td>\n      <td>NaN</td>\n      <td>0.0</td>\n    </tr>\n    <tr>\n      <th>2</th>\n      <td>f0e62c0d7c98d3ae3e27a3c6dd4bd49f</td>\n      <td>de04edac04674cc11bee2286fdf5b7d0</td>\n      <td>2022-07-30 20:56:49.000</td>\n      <td>FL - FORKLIFT</td>\n      <td>GSE-M-FL</td>\n      <td>True</td>\n      <td>3943d8795e03e8e3307b5b71eac1b669</td>\n      <td>AO-CARGO</td>\n      <td>B</td>\n      <td>e96631e72480d283f74b42e8903b0344</td>\n      <td>...</td>\n      <td>0.0</td>\n      <td>NaN</td>\n      <td>NaN</td>\n      <td>False</td>\n      <td>True</td>\n      <td>True</td>\n      <td>False</td>\n      <td>True</td>\n      <td>NaN</td>\n      <td>0.0</td>\n    </tr>\n    <tr>\n      <th>3</th>\n      <td>f0e62c0d7c98d3ae3e27a3c6dd4bd49f</td>\n      <td>de04edac04674cc11bee2286fdf5b7d0</td>\n      <td>2022-07-30 20:56:49.000</td>\n      <td>FL - FORKLIFT</td>\n      <td>GSE-M-FL</td>\n      <td>True</td>\n      <td>3943d8795e03e8e3307b5b71eac1b669</td>\n      <td>AO-CARGO</td>\n      <td>B</td>\n      <td>e96631e72480d283f74b42e8903b0344</td>\n      <td>...</td>\n      <td>0.0</td>\n      <td>NaN</td>\n      <td>NaN</td>\n      <td>False</td>\n      <td>True</td>\n      <td>True</td>\n      <td>False</td>\n      <td>True</td>\n      <td>NaN</td>\n      <td>0.0</td>\n    </tr>\n    <tr>\n      <th>4</th>\n      <td>f0e62c0d7c98d3ae3e27a3c6dd4bd49f</td>\n      <td>de04edac04674cc11bee2286fdf5b7d0</td>\n      <td>2022-07-30 20:56:49.000</td>\n      <td>FL - FORKLIFT</td>\n      <td>GSE-M-FL</td>\n      <td>True</td>\n      <td>3943d8795e03e8e3307b5b71eac1b669</td>\n      <td>AO-CARGO</td>\n      <td>B</td>\n      <td>e96631e72480d283f74b42e8903b0344</td>\n      <td>...</td>\n      <td>0.0</td>\n      <td>NaN</td>\n      <td>NaN</td>\n      <td>False</td>\n      <td>True</td>\n      <td>True</td>\n      <td>False</td>\n      <td>True</td>\n      <td>NaN</td>\n      <td>0.0</td>\n    </tr>\n    <tr>\n      <th>5</th>\n      <td>f0e62c0d7c98d3ae3e27a3c6dd4bd49f</td>\n      <td>de04edac04674cc11bee2286fdf5b7d0</td>\n      <td>2022-07-30 20:56:49.000</td>\n      <td>FL - FORKLIFT</td>\n      <td>GSE-M-FL</td>\n      <td>True</td>\n      <td>3943d8795e03e8e3307b5b71eac1b669</td>\n      <td>AO-CARGO</td>\n      <td>B</td>\n      <td>e96631e72480d283f74b42e8903b0344</td>\n      <td>...</td>\n      <td>0.0</td>\n      <td>NaN</td>\n      <td>NaN</td>\n      <td>False</td>\n      <td>True</td>\n      <td>True</td>\n      <td>False</td>\n      <td>True</td>\n      <td>NaN</td>\n      <td>0.0</td>\n    </tr>\n    <tr>\n      <th>6</th>\n      <td>f0e62c0d7c98d3ae3e27a3c6dd4bd49f</td>\n      <td>de04edac04674cc11bee2286fdf5b7d0</td>\n      <td>2022-07-30 20:56:49.000</td>\n      <td>FL - FORKLIFT</td>\n      <td>GSE-M-FL</td>\n      <td>True</td>\n      <td>3943d8795e03e8e3307b5b71eac1b669</td>\n      <td>AO-CARGO</td>\n      <td>B</td>\n      <td>e96631e72480d283f74b42e8903b0344</td>\n      <td>...</td>\n      <td>0.0</td>\n      <td>NaN</td>\n      <td>NaN</td>\n      <td>False</td>\n      <td>True</td>\n      <td>True</td>\n      <td>False</td>\n      <td>True</td>\n      <td>NaN</td>\n      <td>0.0</td>\n    </tr>\n    <tr>\n      <th>7</th>\n      <td>f0e62c0d7c98d3ae3e27a3c6dd4bd49f</td>\n      <td>de04edac04674cc11bee2286fdf5b7d0</td>\n      <td>2022-07-30 20:56:49.000</td>\n      <td>FL - FORKLIFT</td>\n      <td>GSE-M-FL</td>\n      <td>True</td>\n      <td>3943d8795e03e8e3307b5b71eac1b669</td>\n      <td>AO-CARGO</td>\n      <td>B</td>\n      <td>e96631e72480d283f74b42e8903b0344</td>\n      <td>...</td>\n      <td>0.0</td>\n      <td>NaN</td>\n      <td>NaN</td>\n      <td>False</td>\n      <td>True</td>\n      <td>True</td>\n      <td>False</td>\n      <td>True</td>\n      <td>NaN</td>\n      <td>0.0</td>\n    </tr>\n    <tr>\n      <th>8</th>\n      <td>f0e62c0d7c98d3ae3e27a3c6dd4bd49f</td>\n      <td>de04edac04674cc11bee2286fdf5b7d0</td>\n      <td>2022-07-30 20:57:09.000</td>\n      <td>FL - FORKLIFT</td>\n      <td>GSE-M-FL</td>\n      <td>True</td>\n      <td>3943d8795e03e8e3307b5b71eac1b669</td>\n      <td>AO-CARGO</td>\n      <td>B</td>\n      <td>e96631e72480d283f74b42e8903b0344</td>\n      <td>...</td>\n      <td>0.0</td>\n      <td>NaN</td>\n      <td>NaN</td>\n      <td>False</td>\n      <td>True</td>\n      <td>True</td>\n      <td>False</td>\n      <td>True</td>\n      <td>NaN</td>\n      <td>0.0</td>\n    </tr>\n    <tr>\n      <th>9</th>\n      <td>f0e62c0d7c98d3ae3e27a3c6dd4bd49f</td>\n      <td>de04edac04674cc11bee2286fdf5b7d0</td>\n      <td>2022-07-30 20:57:09.000</td>\n      <td>FL - FORKLIFT</td>\n      <td>GSE-M-FL</td>\n      <td>True</td>\n      <td>3943d8795e03e8e3307b5b71eac1b669</td>\n      <td>AO-CARGO</td>\n      <td>B</td>\n      <td>e96631e72480d283f74b42e8903b0344</td>\n      <td>...</td>\n      <td>0.0</td>\n      <td>NaN</td>\n      <td>NaN</td>\n      <td>False</td>\n      <td>True</td>\n      <td>True</td>\n      <td>False</td>\n      <td>True</td>\n      <td>NaN</td>\n      <td>0.0</td>\n    </tr>\n    <tr>\n      <th>10</th>\n      <td>f0e62c0d7c98d3ae3e27a3c6dd4bd49f</td>\n      <td>de04edac04674cc11bee2286fdf5b7d0</td>\n      <td>2022-07-30 20:57:35.000</td>\n      <td>FL - FORKLIFT</td>\n      <td>GSE-M-FL</td>\n      <td>True</td>\n      <td>3943d8795e03e8e3307b5b71eac1b669</td>\n      <td>AO-CARGO</td>\n      <td>B</td>\n      <td>e96631e72480d283f74b42e8903b0344</td>\n      <td>...</td>\n      <td>0.0</td>\n      <td>NaN</td>\n      <td>NaN</td>\n      <td>False</td>\n      <td>True</td>\n      <td>True</td>\n      <td>False</td>\n      <td>True</td>\n      <td>NaN</td>\n      <td>0.0</td>\n    </tr>\n    <tr>\n      <th>11</th>\n      <td>f0e62c0d7c98d3ae3e27a3c6dd4bd49f</td>\n      <td>de04edac04674cc11bee2286fdf5b7d0</td>\n      <td>2022-07-30 20:57:35.000</td>\n      <td>FL - FORKLIFT</td>\n      <td>GSE-M-FL</td>\n      <td>True</td>\n      <td>3943d8795e03e8e3307b5b71eac1b669</td>\n      <td>AO-CARGO</td>\n      <td>B</td>\n      <td>e96631e72480d283f74b42e8903b0344</td>\n      <td>...</td>\n      <td>0.0</td>\n      <td>NaN</td>\n      <td>NaN</td>\n      <td>False</td>\n      <td>True</td>\n      <td>True</td>\n      <td>False</td>\n      <td>True</td>\n      <td>NaN</td>\n      <td>0.0</td>\n    </tr>\n    <tr>\n      <th>12</th>\n      <td>f0e62c0d7c98d3ae3e27a3c6dd4bd49f</td>\n      <td>de04edac04674cc11bee2286fdf5b7d0</td>\n      <td>2022-07-30 20:57:48.000</td>\n      <td>FL - FORKLIFT</td>\n      <td>GSE-M-FL</td>\n      <td>True</td>\n      <td>3943d8795e03e8e3307b5b71eac1b669</td>\n      <td>AO-CARGO</td>\n      <td>B</td>\n      <td>e96631e72480d283f74b42e8903b0344</td>\n      <td>...</td>\n      <td>0.0</td>\n      <td>NaN</td>\n      <td>NaN</td>\n      <td>False</td>\n      <td>True</td>\n      <td>True</td>\n      <td>False</td>\n      <td>True</td>\n      <td>NaN</td>\n      <td>0.0</td>\n    </tr>\n    <tr>\n      <th>13</th>\n      <td>f0e62c0d7c98d3ae3e27a3c6dd4bd49f</td>\n      <td>de04edac04674cc11bee2286fdf5b7d0</td>\n      <td>2022-07-30 20:57:48.000</td>\n      <td>FL - FORKLIFT</td>\n      <td>GSE-M-FL</td>\n      <td>True</td>\n      <td>3943d8795e03e8e3307b5b71eac1b669</td>\n      <td>AO-CARGO</td>\n      <td>B</td>\n      <td>e96631e72480d283f74b42e8903b0344</td>\n      <td>...</td>\n      <td>0.0</td>\n      <td>NaN</td>\n      <td>NaN</td>\n      <td>False</td>\n      <td>True</td>\n      <td>True</td>\n      <td>False</td>\n      <td>True</td>\n      <td>NaN</td>\n      <td>0.0</td>\n    </tr>\n    <tr>\n      <th>14</th>\n      <td>f0e62c0d7c98d3ae3e27a3c6dd4bd49f</td>\n      <td>de04edac04674cc11bee2286fdf5b7d0</td>\n      <td>2022-07-30 20:57:48.000</td>\n      <td>FL - FORKLIFT</td>\n      <td>GSE-M-FL</td>\n      <td>True</td>\n      <td>3943d8795e03e8e3307b5b71eac1b669</td>\n      <td>AO-CARGO</td>\n      <td>B</td>\n      <td>e96631e72480d283f74b42e8903b0344</td>\n      <td>...</td>\n      <td>0.0</td>\n      <td>NaN</td>\n      <td>NaN</td>\n      <td>False</td>\n      <td>True</td>\n      <td>True</td>\n      <td>False</td>\n      <td>True</td>\n      <td>NaN</td>\n      <td>0.0</td>\n    </tr>\n    <tr>\n      <th>15</th>\n      <td>f0e62c0d7c98d3ae3e27a3c6dd4bd49f</td>\n      <td>de04edac04674cc11bee2286fdf5b7d0</td>\n      <td>2022-07-30 20:57:48.000</td>\n      <td>FL - FORKLIFT</td>\n      <td>GSE-M-FL</td>\n      <td>True</td>\n      <td>3943d8795e03e8e3307b5b71eac1b669</td>\n      <td>AO-CARGO</td>\n      <td>B</td>\n      <td>e96631e72480d283f74b42e8903b0344</td>\n      <td>...</td>\n      <td>0.0</td>\n      <td>NaN</td>\n      <td>NaN</td>\n      <td>False</td>\n      <td>True</td>\n      <td>True</td>\n      <td>False</td>\n      <td>True</td>\n      <td>NaN</td>\n      <td>0.0</td>\n    </tr>\n    <tr>\n      <th>16</th>\n      <td>f0e62c0d7c98d3ae3e27a3c6dd4bd49f</td>\n      <td>de04edac04674cc11bee2286fdf5b7d0</td>\n      <td>2022-07-30 20:58:04.000</td>\n      <td>FL - FORKLIFT</td>\n      <td>GSE-M-FL</td>\n      <td>True</td>\n      <td>3943d8795e03e8e3307b5b71eac1b669</td>\n      <td>AO-CARGO</td>\n      <td>B</td>\n      <td>e96631e72480d283f74b42e8903b0344</td>\n      <td>...</td>\n      <td>0.0</td>\n      <td>NaN</td>\n      <td>NaN</td>\n      <td>False</td>\n      <td>True</td>\n      <td>True</td>\n      <td>False</td>\n      <td>True</td>\n      <td>NaN</td>\n      <td>0.0</td>\n    </tr>\n    <tr>\n      <th>17</th>\n      <td>f0e62c0d7c98d3ae3e27a3c6dd4bd49f</td>\n      <td>de04edac04674cc11bee2286fdf5b7d0</td>\n      <td>2022-07-30 20:58:04.000</td>\n      <td>FL - FORKLIFT</td>\n      <td>GSE-M-FL</td>\n      <td>True</td>\n      <td>3943d8795e03e8e3307b5b71eac1b669</td>\n      <td>AO-CARGO</td>\n      <td>B</td>\n      <td>e96631e72480d283f74b42e8903b0344</td>\n      <td>...</td>\n      <td>0.0</td>\n      <td>NaN</td>\n      <td>NaN</td>\n      <td>False</td>\n      <td>True</td>\n      <td>True</td>\n      <td>False</td>\n      <td>True</td>\n      <td>NaN</td>\n      <td>0.0</td>\n    </tr>\n    <tr>\n      <th>18</th>\n      <td>f0e62c0d7c98d3ae3e27a3c6dd4bd49f</td>\n      <td>de04edac04674cc11bee2286fdf5b7d0</td>\n      <td>2022-07-30 20:58:09.000</td>\n      <td>FL - FORKLIFT</td>\n      <td>GSE-M-FL</td>\n      <td>True</td>\n      <td>3943d8795e03e8e3307b5b71eac1b669</td>\n      <td>AO-CARGO</td>\n      <td>B</td>\n      <td>e96631e72480d283f74b42e8903b0344</td>\n      <td>...</td>\n      <td>0.0</td>\n      <td>NaN</td>\n      <td>NaN</td>\n      <td>False</td>\n      <td>True</td>\n      <td>True</td>\n      <td>False</td>\n      <td>True</td>\n      <td>NaN</td>\n      <td>0.0</td>\n    </tr>\n    <tr>\n      <th>19</th>\n      <td>f0e62c0d7c98d3ae3e27a3c6dd4bd49f</td>\n      <td>de04edac04674cc11bee2286fdf5b7d0</td>\n      <td>2022-07-30 20:58:09.000</td>\n      <td>FL - FORKLIFT</td>\n      <td>GSE-M-FL</td>\n      <td>True</td>\n      <td>3943d8795e03e8e3307b5b71eac1b669</td>\n      <td>AO-CARGO</td>\n      <td>B</td>\n      <td>e96631e72480d283f74b42e8903b0344</td>\n      <td>...</td>\n      <td>0.0</td>\n      <td>NaN</td>\n      <td>NaN</td>\n      <td>False</td>\n      <td>True</td>\n      <td>True</td>\n      <td>False</td>\n      <td>True</td>\n      <td>NaN</td>\n      <td>0.0</td>\n    </tr>\n  </tbody>\n</table>\n<p>20 rows × 42 columns</p>\n</div>"
     },
     "execution_count": 4,
     "metadata": {},
     "output_type": "execute_result"
    }
   ],
   "source": [
    "df_united.head(20)"
   ],
   "metadata": {
    "collapsed": false,
    "ExecuteTime": {
     "end_time": "2023-10-07T18:51:14.334658Z",
     "start_time": "2023-10-07T18:51:14.314123Z"
    }
   },
   "id": "cac670f5f4507523"
  },
  {
   "cell_type": "code",
   "execution_count": 84,
   "outputs": [
    {
     "data": {
      "text/plain": "(3719034, 42)"
     },
     "execution_count": 84,
     "metadata": {},
     "output_type": "execute_result"
    }
   ],
   "source": [
    "df_united.shape"
   ],
   "metadata": {
    "collapsed": false,
    "ExecuteTime": {
     "end_time": "2023-10-09T19:34:41.145958Z",
     "start_time": "2023-10-09T19:34:41.052376Z"
    }
   },
   "id": "71969ac8b34acdd1"
  },
  {
   "cell_type": "markdown",
   "source": [
    "## 1. Drop columns with an only unique value - useless for a model."
   ],
   "metadata": {
    "collapsed": false
   },
   "id": "ba595333045e197c"
  },
  {
   "cell_type": "code",
   "execution_count": 39,
   "outputs": [
    {
     "data": {
      "text/plain": "['asset_company_code',\n 'location_airport_code',\n 'airport_code',\n 'geofence_kingdom',\n 'def_level_percentage',\n 'asset_year',\n 'lift_sensor_up_indicator',\n 'lift_sensor_down_indicator',\n 'asset_energy_level_percentage']"
     },
     "execution_count": 39,
     "metadata": {},
     "output_type": "execute_result"
    }
   ],
   "source": [
    "def list_one_unique_or_na(df):\n",
    "    counts = df.nunique()\n",
    "    to_drop = [k for k in counts.index if counts.loc[k] == 1 ]\n",
    "    df.isna().all(axis=0)\n",
    "    to_drop.extend(df_united.columns[df_united.isna().all(axis=0)].tolist())\n",
    "    return to_drop\n",
    "\n",
    "to_drop = list_one_unique_or_na(df_united)\n",
    "to_drop\n",
    "    "
   ],
   "metadata": {
    "collapsed": false,
    "ExecuteTime": {
     "end_time": "2023-10-08T18:19:07.072312Z",
     "start_time": "2023-10-08T18:18:53.450008Z"
    }
   },
   "id": "c112cfb7fd983e87"
  },
  {
   "cell_type": "code",
   "execution_count": 40,
   "outputs": [],
   "source": [
    "df_united.drop(to_drop, inplace=True, axis=1)"
   ],
   "metadata": {
    "collapsed": false,
    "ExecuteTime": {
     "end_time": "2023-10-08T18:19:10.542295Z",
     "start_time": "2023-10-08T18:19:10.138173Z"
    }
   },
   "id": "b00e8086282a08ea"
  },
  {
   "cell_type": "markdown",
   "source": [
    "## 2. Drop columns with no additional information (don’t create unique pairs)."
   ],
   "metadata": {
    "collapsed": false
   },
   "id": "de85b0d994d92a31"
  },
  {
   "cell_type": "code",
   "execution_count": 41,
   "outputs": [
    {
     "data": {
      "text/plain": "asset_code                              60\ndevice_serial_number                    61\ndate_add                           1410193\nasset_class                             18\nasset_maintenance_class                  3\nis_asset_motorized                       2\nasset_department                        11\nasset_energy_type                        8\nmanufacturer_short_name                 10\nasset_manufacturer                      10\nmanufacturer_asset_class                 3\nasset_model                             39\nasset_serial_number                     60\nasset_status_code                        2\ndevice_manufacturer                      2\ndevice_model                             3\ndevice_battery_level_percentage         33\nasset_speed                             86\nlatitude_degrees                     88043\nlongitude_degrees                    93142\nzone_id                                280\ngate_number                             93\nzone_key                               280\ngeofence_long_name                     280\ngeofence_short_name                    280\ngeofence_type                           10\ngeofence_kind                          276\nasset_engine_hours                   38509\nasset_idle_indicator                     2\nengine_running_indicator                 2\nasset_working_indicator                  2\nasset_moving_indicator                   2\nis_asset_in_shop                         2\ndtype: int64"
     },
     "execution_count": 41,
     "metadata": {},
     "output_type": "execute_result"
    }
   ],
   "source": [
    "# def del_eq_col(df):\n",
    "ctable = df_united.nunique()\n",
    "ctable"
   ],
   "metadata": {
    "collapsed": false,
    "ExecuteTime": {
     "end_time": "2023-10-08T18:19:59.543324Z",
     "start_time": "2023-10-08T18:19:53.898059Z"
    }
   },
   "id": "69902f70e6537edd"
  },
  {
   "cell_type": "code",
   "execution_count": 42,
   "outputs": [],
   "source": [
    "def excl_dubl_inf(df):\n",
    "    def ccat(tr):\n",
    "        return [i for [i,_] in tr.values]\n",
    "    \n",
    "    def comp_count(df, ci, cj):\n",
    "        count = []\n",
    "        for a in zip(df[ci].values,df[cj].values):\n",
    "            if a not in count: count.append(a)\n",
    "        return len(count)\n",
    "    \n",
    "    ctable = df.nunique()\n",
    "    \n",
    "    ff = ctable.reset_index().groupby(0).apply(ccat)\n",
    "    ff.index.name = 'count'\n",
    "    ff1 = ff.reset_index()\n",
    "    \n",
    "    cp = set()\n",
    "    for cnt, c in zip(ff1['count'],ff1[0]):\n",
    "        if len(c) > 1:\n",
    "            for i in range(len(c)-1):\n",
    "                for j in range(i+1,len(c)):\n",
    "                    if comp_count(df, c[i], c[j]) == cnt: cp.add(c[j])\n",
    "    return [i for i in cp]"
   ],
   "metadata": {
    "collapsed": false,
    "ExecuteTime": {
     "end_time": "2023-10-08T18:20:02.338769Z",
     "start_time": "2023-10-08T18:20:02.334152Z"
    }
   },
   "id": "364c16a07a6a4fd6"
  },
  {
   "cell_type": "code",
   "execution_count": 43,
   "outputs": [],
   "source": [
    "to_drop2 = excl_dubl_inf(df_united)"
   ],
   "metadata": {
    "collapsed": false,
    "ExecuteTime": {
     "end_time": "2023-10-08T18:21:24.818020Z",
     "start_time": "2023-10-08T18:20:04.751708Z"
    }
   },
   "id": "5ed58586149bdbe7"
  },
  {
   "cell_type": "code",
   "execution_count": 44,
   "outputs": [
    {
     "data": {
      "text/plain": "['device_model',\n 'asset_manufacturer',\n 'device_manufacturer',\n 'zone_key',\n 'geofence_long_name',\n 'geofence_short_name',\n 'asset_serial_number',\n 'manufacturer_asset_class']"
     },
     "execution_count": 44,
     "metadata": {},
     "output_type": "execute_result"
    }
   ],
   "source": [
    "to_drop2"
   ],
   "metadata": {
    "collapsed": false,
    "ExecuteTime": {
     "end_time": "2023-10-08T18:21:39.817269Z",
     "start_time": "2023-10-08T18:21:39.793007Z"
    }
   },
   "id": "e153e04d5834ed10"
  },
  {
   "cell_type": "code",
   "execution_count": 45,
   "outputs": [],
   "source": [
    "df_united.drop(to_drop2, inplace=True, axis=1)"
   ],
   "metadata": {
    "collapsed": false,
    "ExecuteTime": {
     "end_time": "2023-10-08T18:21:43.612081Z",
     "start_time": "2023-10-08T18:21:43.213746Z"
    }
   },
   "id": "59b429a0ee72cf2f"
  },
  {
   "cell_type": "code",
   "execution_count": 46,
   "outputs": [
    {
     "data": {
      "text/plain": "(3719034, 25)"
     },
     "execution_count": 46,
     "metadata": {},
     "output_type": "execute_result"
    }
   ],
   "source": [
    "df_united.shape"
   ],
   "metadata": {
    "collapsed": false,
    "ExecuteTime": {
     "end_time": "2023-10-08T18:21:48.014938Z",
     "start_time": "2023-10-08T18:21:47.980486Z"
    }
   },
   "id": "2eb921bf0bc69d54"
  },
  {
   "cell_type": "markdown",
   "source": [],
   "metadata": {
    "collapsed": false
   },
   "id": "60cb40231ff0ed1"
  },
  {
   "cell_type": "code",
   "execution_count": 14,
   "outputs": [
    {
     "data": {
      "text/plain": "                         asset_code              device_serial_number  \\\n0  f0e62c0d7c98d3ae3e27a3c6dd4bd49f  de04edac04674cc11bee2286fdf5b7d0   \n1  f0e62c0d7c98d3ae3e27a3c6dd4bd49f  de04edac04674cc11bee2286fdf5b7d0   \n2  f0e62c0d7c98d3ae3e27a3c6dd4bd49f  de04edac04674cc11bee2286fdf5b7d0   \n3  f0e62c0d7c98d3ae3e27a3c6dd4bd49f  de04edac04674cc11bee2286fdf5b7d0   \n4  f0e62c0d7c98d3ae3e27a3c6dd4bd49f  de04edac04674cc11bee2286fdf5b7d0   \n5  f0e62c0d7c98d3ae3e27a3c6dd4bd49f  de04edac04674cc11bee2286fdf5b7d0   \n6  f0e62c0d7c98d3ae3e27a3c6dd4bd49f  de04edac04674cc11bee2286fdf5b7d0   \n7  f0e62c0d7c98d3ae3e27a3c6dd4bd49f  de04edac04674cc11bee2286fdf5b7d0   \n8  f0e62c0d7c98d3ae3e27a3c6dd4bd49f  de04edac04674cc11bee2286fdf5b7d0   \n9  f0e62c0d7c98d3ae3e27a3c6dd4bd49f  de04edac04674cc11bee2286fdf5b7d0   \n\n                  date_add    asset_class asset_maintenance_class  \\\n0  2022-07-30 20:56:39.000  FL - FORKLIFT                GSE-M-FL   \n1  2022-07-30 20:56:39.000  FL - FORKLIFT                GSE-M-FL   \n2  2022-07-30 20:56:49.000  FL - FORKLIFT                GSE-M-FL   \n3  2022-07-30 20:56:49.000  FL - FORKLIFT                GSE-M-FL   \n4  2022-07-30 20:56:49.000  FL - FORKLIFT                GSE-M-FL   \n5  2022-07-30 20:56:49.000  FL - FORKLIFT                GSE-M-FL   \n6  2022-07-30 20:56:49.000  FL - FORKLIFT                GSE-M-FL   \n7  2022-07-30 20:56:49.000  FL - FORKLIFT                GSE-M-FL   \n8  2022-07-30 20:57:09.000  FL - FORKLIFT                GSE-M-FL   \n9  2022-07-30 20:57:09.000  FL - FORKLIFT                GSE-M-FL   \n\n   is_asset_motorized asset_department asset_energy_type  \\\n0                True         AO-CARGO                 B   \n1                True         AO-CARGO                 B   \n2                True         AO-CARGO                 B   \n3                True         AO-CARGO                 B   \n4                True         AO-CARGO                 B   \n5                True         AO-CARGO                 B   \n6                True         AO-CARGO                 B   \n7                True         AO-CARGO                 B   \n8                True         AO-CARGO                 B   \n9                True         AO-CARGO                 B   \n\n            manufacturer_short_name asset_model  ...  \\\n0  e96631e72480d283f74b42e8903b0344    E50XM-33  ...   \n1  e96631e72480d283f74b42e8903b0344    E50XM-33  ...   \n2  e96631e72480d283f74b42e8903b0344    E50XM-33  ...   \n3  e96631e72480d283f74b42e8903b0344    E50XM-33  ...   \n4  e96631e72480d283f74b42e8903b0344    E50XM-33  ...   \n5  e96631e72480d283f74b42e8903b0344    E50XM-33  ...   \n6  e96631e72480d283f74b42e8903b0344    E50XM-33  ...   \n7  e96631e72480d283f74b42e8903b0344    E50XM-33  ...   \n8  e96631e72480d283f74b42e8903b0344    E50XM-33  ...   \n9  e96631e72480d283f74b42e8903b0344    E50XM-33  ...   \n\n                                zone_id  gate_number  geofence_type  \\\n0  5edbfd7d-01ce-b39e-da73-ba45d73e8953          NaN           Shop   \n1  b675d382-2a22-0d5c-637f-1b097dc7028c          NaN        Airport   \n2  5edbfd7d-01ce-b39e-da73-ba45d73e8953          NaN           Shop   \n3  b675d382-2a22-0d5c-637f-1b097dc7028c          NaN        Airport   \n4  5edbfd7d-01ce-b39e-da73-ba45d73e8953          NaN           Shop   \n5  b675d382-2a22-0d5c-637f-1b097dc7028c          NaN        Airport   \n6  5edbfd7d-01ce-b39e-da73-ba45d73e8953          NaN           Shop   \n7  b675d382-2a22-0d5c-637f-1b097dc7028c          NaN        Airport   \n8  b675d382-2a22-0d5c-637f-1b097dc7028c          NaN        Airport   \n9  5edbfd7d-01ce-b39e-da73-ba45d73e8953          NaN           Shop   \n\n   geofence_kind  asset_engine_hours asset_idle_indicator  \\\n0            NaN                 0.0                False   \n1            ORD                 0.0                False   \n2            NaN                 0.0                False   \n3            ORD                 0.0                False   \n4            NaN                 0.0                False   \n5            ORD                 0.0                False   \n6            NaN                 0.0                False   \n7            ORD                 0.0                False   \n8            ORD                 0.0                False   \n9            NaN                 0.0                False   \n\n  engine_running_indicator asset_working_indicator asset_moving_indicator  \\\n0                     True                    True                  False   \n1                     True                    True                  False   \n2                     True                    True                  False   \n3                     True                    True                  False   \n4                     True                    True                  False   \n5                     True                    True                  False   \n6                     True                    True                  False   \n7                     True                    True                  False   \n8                     True                    True                  False   \n9                     True                    True                  False   \n\n   is_asset_in_shop  \n0              True  \n1              True  \n2              True  \n3              True  \n4              True  \n5              True  \n6              True  \n7              True  \n8              True  \n9              True  \n\n[10 rows x 25 columns]",
      "text/html": "<div>\n<style scoped>\n    .dataframe tbody tr th:only-of-type {\n        vertical-align: middle;\n    }\n\n    .dataframe tbody tr th {\n        vertical-align: top;\n    }\n\n    .dataframe thead th {\n        text-align: right;\n    }\n</style>\n<table border=\"1\" class=\"dataframe\">\n  <thead>\n    <tr style=\"text-align: right;\">\n      <th></th>\n      <th>asset_code</th>\n      <th>device_serial_number</th>\n      <th>date_add</th>\n      <th>asset_class</th>\n      <th>asset_maintenance_class</th>\n      <th>is_asset_motorized</th>\n      <th>asset_department</th>\n      <th>asset_energy_type</th>\n      <th>manufacturer_short_name</th>\n      <th>asset_model</th>\n      <th>...</th>\n      <th>zone_id</th>\n      <th>gate_number</th>\n      <th>geofence_type</th>\n      <th>geofence_kind</th>\n      <th>asset_engine_hours</th>\n      <th>asset_idle_indicator</th>\n      <th>engine_running_indicator</th>\n      <th>asset_working_indicator</th>\n      <th>asset_moving_indicator</th>\n      <th>is_asset_in_shop</th>\n    </tr>\n  </thead>\n  <tbody>\n    <tr>\n      <th>0</th>\n      <td>f0e62c0d7c98d3ae3e27a3c6dd4bd49f</td>\n      <td>de04edac04674cc11bee2286fdf5b7d0</td>\n      <td>2022-07-30 20:56:39.000</td>\n      <td>FL - FORKLIFT</td>\n      <td>GSE-M-FL</td>\n      <td>True</td>\n      <td>AO-CARGO</td>\n      <td>B</td>\n      <td>e96631e72480d283f74b42e8903b0344</td>\n      <td>E50XM-33</td>\n      <td>...</td>\n      <td>5edbfd7d-01ce-b39e-da73-ba45d73e8953</td>\n      <td>NaN</td>\n      <td>Shop</td>\n      <td>NaN</td>\n      <td>0.0</td>\n      <td>False</td>\n      <td>True</td>\n      <td>True</td>\n      <td>False</td>\n      <td>True</td>\n    </tr>\n    <tr>\n      <th>1</th>\n      <td>f0e62c0d7c98d3ae3e27a3c6dd4bd49f</td>\n      <td>de04edac04674cc11bee2286fdf5b7d0</td>\n      <td>2022-07-30 20:56:39.000</td>\n      <td>FL - FORKLIFT</td>\n      <td>GSE-M-FL</td>\n      <td>True</td>\n      <td>AO-CARGO</td>\n      <td>B</td>\n      <td>e96631e72480d283f74b42e8903b0344</td>\n      <td>E50XM-33</td>\n      <td>...</td>\n      <td>b675d382-2a22-0d5c-637f-1b097dc7028c</td>\n      <td>NaN</td>\n      <td>Airport</td>\n      <td>ORD</td>\n      <td>0.0</td>\n      <td>False</td>\n      <td>True</td>\n      <td>True</td>\n      <td>False</td>\n      <td>True</td>\n    </tr>\n    <tr>\n      <th>2</th>\n      <td>f0e62c0d7c98d3ae3e27a3c6dd4bd49f</td>\n      <td>de04edac04674cc11bee2286fdf5b7d0</td>\n      <td>2022-07-30 20:56:49.000</td>\n      <td>FL - FORKLIFT</td>\n      <td>GSE-M-FL</td>\n      <td>True</td>\n      <td>AO-CARGO</td>\n      <td>B</td>\n      <td>e96631e72480d283f74b42e8903b0344</td>\n      <td>E50XM-33</td>\n      <td>...</td>\n      <td>5edbfd7d-01ce-b39e-da73-ba45d73e8953</td>\n      <td>NaN</td>\n      <td>Shop</td>\n      <td>NaN</td>\n      <td>0.0</td>\n      <td>False</td>\n      <td>True</td>\n      <td>True</td>\n      <td>False</td>\n      <td>True</td>\n    </tr>\n    <tr>\n      <th>3</th>\n      <td>f0e62c0d7c98d3ae3e27a3c6dd4bd49f</td>\n      <td>de04edac04674cc11bee2286fdf5b7d0</td>\n      <td>2022-07-30 20:56:49.000</td>\n      <td>FL - FORKLIFT</td>\n      <td>GSE-M-FL</td>\n      <td>True</td>\n      <td>AO-CARGO</td>\n      <td>B</td>\n      <td>e96631e72480d283f74b42e8903b0344</td>\n      <td>E50XM-33</td>\n      <td>...</td>\n      <td>b675d382-2a22-0d5c-637f-1b097dc7028c</td>\n      <td>NaN</td>\n      <td>Airport</td>\n      <td>ORD</td>\n      <td>0.0</td>\n      <td>False</td>\n      <td>True</td>\n      <td>True</td>\n      <td>False</td>\n      <td>True</td>\n    </tr>\n    <tr>\n      <th>4</th>\n      <td>f0e62c0d7c98d3ae3e27a3c6dd4bd49f</td>\n      <td>de04edac04674cc11bee2286fdf5b7d0</td>\n      <td>2022-07-30 20:56:49.000</td>\n      <td>FL - FORKLIFT</td>\n      <td>GSE-M-FL</td>\n      <td>True</td>\n      <td>AO-CARGO</td>\n      <td>B</td>\n      <td>e96631e72480d283f74b42e8903b0344</td>\n      <td>E50XM-33</td>\n      <td>...</td>\n      <td>5edbfd7d-01ce-b39e-da73-ba45d73e8953</td>\n      <td>NaN</td>\n      <td>Shop</td>\n      <td>NaN</td>\n      <td>0.0</td>\n      <td>False</td>\n      <td>True</td>\n      <td>True</td>\n      <td>False</td>\n      <td>True</td>\n    </tr>\n    <tr>\n      <th>5</th>\n      <td>f0e62c0d7c98d3ae3e27a3c6dd4bd49f</td>\n      <td>de04edac04674cc11bee2286fdf5b7d0</td>\n      <td>2022-07-30 20:56:49.000</td>\n      <td>FL - FORKLIFT</td>\n      <td>GSE-M-FL</td>\n      <td>True</td>\n      <td>AO-CARGO</td>\n      <td>B</td>\n      <td>e96631e72480d283f74b42e8903b0344</td>\n      <td>E50XM-33</td>\n      <td>...</td>\n      <td>b675d382-2a22-0d5c-637f-1b097dc7028c</td>\n      <td>NaN</td>\n      <td>Airport</td>\n      <td>ORD</td>\n      <td>0.0</td>\n      <td>False</td>\n      <td>True</td>\n      <td>True</td>\n      <td>False</td>\n      <td>True</td>\n    </tr>\n    <tr>\n      <th>6</th>\n      <td>f0e62c0d7c98d3ae3e27a3c6dd4bd49f</td>\n      <td>de04edac04674cc11bee2286fdf5b7d0</td>\n      <td>2022-07-30 20:56:49.000</td>\n      <td>FL - FORKLIFT</td>\n      <td>GSE-M-FL</td>\n      <td>True</td>\n      <td>AO-CARGO</td>\n      <td>B</td>\n      <td>e96631e72480d283f74b42e8903b0344</td>\n      <td>E50XM-33</td>\n      <td>...</td>\n      <td>5edbfd7d-01ce-b39e-da73-ba45d73e8953</td>\n      <td>NaN</td>\n      <td>Shop</td>\n      <td>NaN</td>\n      <td>0.0</td>\n      <td>False</td>\n      <td>True</td>\n      <td>True</td>\n      <td>False</td>\n      <td>True</td>\n    </tr>\n    <tr>\n      <th>7</th>\n      <td>f0e62c0d7c98d3ae3e27a3c6dd4bd49f</td>\n      <td>de04edac04674cc11bee2286fdf5b7d0</td>\n      <td>2022-07-30 20:56:49.000</td>\n      <td>FL - FORKLIFT</td>\n      <td>GSE-M-FL</td>\n      <td>True</td>\n      <td>AO-CARGO</td>\n      <td>B</td>\n      <td>e96631e72480d283f74b42e8903b0344</td>\n      <td>E50XM-33</td>\n      <td>...</td>\n      <td>b675d382-2a22-0d5c-637f-1b097dc7028c</td>\n      <td>NaN</td>\n      <td>Airport</td>\n      <td>ORD</td>\n      <td>0.0</td>\n      <td>False</td>\n      <td>True</td>\n      <td>True</td>\n      <td>False</td>\n      <td>True</td>\n    </tr>\n    <tr>\n      <th>8</th>\n      <td>f0e62c0d7c98d3ae3e27a3c6dd4bd49f</td>\n      <td>de04edac04674cc11bee2286fdf5b7d0</td>\n      <td>2022-07-30 20:57:09.000</td>\n      <td>FL - FORKLIFT</td>\n      <td>GSE-M-FL</td>\n      <td>True</td>\n      <td>AO-CARGO</td>\n      <td>B</td>\n      <td>e96631e72480d283f74b42e8903b0344</td>\n      <td>E50XM-33</td>\n      <td>...</td>\n      <td>b675d382-2a22-0d5c-637f-1b097dc7028c</td>\n      <td>NaN</td>\n      <td>Airport</td>\n      <td>ORD</td>\n      <td>0.0</td>\n      <td>False</td>\n      <td>True</td>\n      <td>True</td>\n      <td>False</td>\n      <td>True</td>\n    </tr>\n    <tr>\n      <th>9</th>\n      <td>f0e62c0d7c98d3ae3e27a3c6dd4bd49f</td>\n      <td>de04edac04674cc11bee2286fdf5b7d0</td>\n      <td>2022-07-30 20:57:09.000</td>\n      <td>FL - FORKLIFT</td>\n      <td>GSE-M-FL</td>\n      <td>True</td>\n      <td>AO-CARGO</td>\n      <td>B</td>\n      <td>e96631e72480d283f74b42e8903b0344</td>\n      <td>E50XM-33</td>\n      <td>...</td>\n      <td>5edbfd7d-01ce-b39e-da73-ba45d73e8953</td>\n      <td>NaN</td>\n      <td>Shop</td>\n      <td>NaN</td>\n      <td>0.0</td>\n      <td>False</td>\n      <td>True</td>\n      <td>True</td>\n      <td>False</td>\n      <td>True</td>\n    </tr>\n  </tbody>\n</table>\n<p>10 rows × 25 columns</p>\n</div>"
     },
     "execution_count": 14,
     "metadata": {},
     "output_type": "execute_result"
    }
   ],
   "source": [
    "df_united.head(10)"
   ],
   "metadata": {
    "collapsed": false,
    "ExecuteTime": {
     "end_time": "2023-10-07T18:54:54.551471Z",
     "start_time": "2023-10-07T18:54:54.524975Z"
    }
   },
   "id": "f5287173fe234884"
  },
  {
   "cell_type": "code",
   "execution_count": 47,
   "outputs": [],
   "source": [
    "df_united.to_csv('./data/itter1.csv', index=False)"
   ],
   "metadata": {
    "collapsed": false,
    "ExecuteTime": {
     "end_time": "2023-10-08T18:23:08.619557Z",
     "start_time": "2023-10-08T18:22:16.018732Z"
    }
   },
   "id": "e474b2d957f63e3d"
  },
  {
   "cell_type": "code",
   "execution_count": 48,
   "outputs": [
    {
     "name": "stderr",
     "output_type": "stream",
     "text": [
      "/var/folders/2k/kp7vx_k946ggnbsk9nnnx0sm0000gp/T/ipykernel_41984/2147404543.py:1: DtypeWarning: Columns (16,20,21,22,23) have mixed types. Specify dtype option on import or set low_memory=False.\n",
      "  df_united = pd.read_csv('./data/itter1.csv')\n"
     ]
    }
   ],
   "source": [
    "df_united = pd.read_csv('./data/itter1.csv')"
   ],
   "metadata": {
    "collapsed": false,
    "ExecuteTime": {
     "end_time": "2023-10-08T18:23:39.843623Z",
     "start_time": "2023-10-08T18:23:15.677229Z"
    }
   },
   "id": "7f374ddbd04985a7"
  },
  {
   "cell_type": "markdown",
   "source": [
    "### Standartize date format (and round to seconds)."
   ],
   "metadata": {
    "collapsed": false
   },
   "id": "bf36d88054248a23"
  },
  {
   "cell_type": "code",
   "execution_count": 49,
   "outputs": [],
   "source": [
    "df_united['date_add'] = pd.to_datetime(df_united[\"date_add\"], format='%Y-%m-%d %H:%M:%S.%f')"
   ],
   "metadata": {
    "collapsed": false,
    "ExecuteTime": {
     "end_time": "2023-10-08T18:24:16.947845Z",
     "start_time": "2023-10-08T18:24:14.621657Z"
    }
   },
   "id": "c7c279aee1e294a2"
  },
  {
   "cell_type": "code",
   "execution_count": 50,
   "outputs": [
    {
     "data": {
      "text/plain": "                         asset_code              device_serial_number  \\\n0  f0e62c0d7c98d3ae3e27a3c6dd4bd49f  de04edac04674cc11bee2286fdf5b7d0   \n1  f0e62c0d7c98d3ae3e27a3c6dd4bd49f  de04edac04674cc11bee2286fdf5b7d0   \n2  f0e62c0d7c98d3ae3e27a3c6dd4bd49f  de04edac04674cc11bee2286fdf5b7d0   \n3  f0e62c0d7c98d3ae3e27a3c6dd4bd49f  de04edac04674cc11bee2286fdf5b7d0   \n4  f0e62c0d7c98d3ae3e27a3c6dd4bd49f  de04edac04674cc11bee2286fdf5b7d0   \n5  f0e62c0d7c98d3ae3e27a3c6dd4bd49f  de04edac04674cc11bee2286fdf5b7d0   \n6  f0e62c0d7c98d3ae3e27a3c6dd4bd49f  de04edac04674cc11bee2286fdf5b7d0   \n7  f0e62c0d7c98d3ae3e27a3c6dd4bd49f  de04edac04674cc11bee2286fdf5b7d0   \n8  f0e62c0d7c98d3ae3e27a3c6dd4bd49f  de04edac04674cc11bee2286fdf5b7d0   \n9  f0e62c0d7c98d3ae3e27a3c6dd4bd49f  de04edac04674cc11bee2286fdf5b7d0   \n\n             date_add    asset_class asset_maintenance_class  \\\n0 2022-07-30 20:56:39  FL - FORKLIFT                GSE-M-FL   \n1 2022-07-30 20:56:39  FL - FORKLIFT                GSE-M-FL   \n2 2022-07-30 20:56:49  FL - FORKLIFT                GSE-M-FL   \n3 2022-07-30 20:56:49  FL - FORKLIFT                GSE-M-FL   \n4 2022-07-30 20:56:49  FL - FORKLIFT                GSE-M-FL   \n5 2022-07-30 20:56:49  FL - FORKLIFT                GSE-M-FL   \n6 2022-07-30 20:56:49  FL - FORKLIFT                GSE-M-FL   \n7 2022-07-30 20:56:49  FL - FORKLIFT                GSE-M-FL   \n8 2022-07-30 20:57:09  FL - FORKLIFT                GSE-M-FL   \n9 2022-07-30 20:57:09  FL - FORKLIFT                GSE-M-FL   \n\n   is_asset_motorized asset_department asset_energy_type  \\\n0                True         AO-CARGO                 B   \n1                True         AO-CARGO                 B   \n2                True         AO-CARGO                 B   \n3                True         AO-CARGO                 B   \n4                True         AO-CARGO                 B   \n5                True         AO-CARGO                 B   \n6                True         AO-CARGO                 B   \n7                True         AO-CARGO                 B   \n8                True         AO-CARGO                 B   \n9                True         AO-CARGO                 B   \n\n            manufacturer_short_name asset_model  ...  \\\n0  e96631e72480d283f74b42e8903b0344    E50XM-33  ...   \n1  e96631e72480d283f74b42e8903b0344    E50XM-33  ...   \n2  e96631e72480d283f74b42e8903b0344    E50XM-33  ...   \n3  e96631e72480d283f74b42e8903b0344    E50XM-33  ...   \n4  e96631e72480d283f74b42e8903b0344    E50XM-33  ...   \n5  e96631e72480d283f74b42e8903b0344    E50XM-33  ...   \n6  e96631e72480d283f74b42e8903b0344    E50XM-33  ...   \n7  e96631e72480d283f74b42e8903b0344    E50XM-33  ...   \n8  e96631e72480d283f74b42e8903b0344    E50XM-33  ...   \n9  e96631e72480d283f74b42e8903b0344    E50XM-33  ...   \n\n                                zone_id  gate_number  geofence_type  \\\n0  5edbfd7d-01ce-b39e-da73-ba45d73e8953          NaN           Shop   \n1  b675d382-2a22-0d5c-637f-1b097dc7028c          NaN        Airport   \n2  5edbfd7d-01ce-b39e-da73-ba45d73e8953          NaN           Shop   \n3  b675d382-2a22-0d5c-637f-1b097dc7028c          NaN        Airport   \n4  5edbfd7d-01ce-b39e-da73-ba45d73e8953          NaN           Shop   \n5  b675d382-2a22-0d5c-637f-1b097dc7028c          NaN        Airport   \n6  5edbfd7d-01ce-b39e-da73-ba45d73e8953          NaN           Shop   \n7  b675d382-2a22-0d5c-637f-1b097dc7028c          NaN        Airport   \n8  b675d382-2a22-0d5c-637f-1b097dc7028c          NaN        Airport   \n9  5edbfd7d-01ce-b39e-da73-ba45d73e8953          NaN           Shop   \n\n   geofence_kind  asset_engine_hours asset_idle_indicator  \\\n0            NaN                 0.0                False   \n1            ORD                 0.0                False   \n2            NaN                 0.0                False   \n3            ORD                 0.0                False   \n4            NaN                 0.0                False   \n5            ORD                 0.0                False   \n6            NaN                 0.0                False   \n7            ORD                 0.0                False   \n8            ORD                 0.0                False   \n9            NaN                 0.0                False   \n\n  engine_running_indicator asset_working_indicator asset_moving_indicator  \\\n0                     True                    True                  False   \n1                     True                    True                  False   \n2                     True                    True                  False   \n3                     True                    True                  False   \n4                     True                    True                  False   \n5                     True                    True                  False   \n6                     True                    True                  False   \n7                     True                    True                  False   \n8                     True                    True                  False   \n9                     True                    True                  False   \n\n   is_asset_in_shop  \n0              True  \n1              True  \n2              True  \n3              True  \n4              True  \n5              True  \n6              True  \n7              True  \n8              True  \n9              True  \n\n[10 rows x 25 columns]",
      "text/html": "<div>\n<style scoped>\n    .dataframe tbody tr th:only-of-type {\n        vertical-align: middle;\n    }\n\n    .dataframe tbody tr th {\n        vertical-align: top;\n    }\n\n    .dataframe thead th {\n        text-align: right;\n    }\n</style>\n<table border=\"1\" class=\"dataframe\">\n  <thead>\n    <tr style=\"text-align: right;\">\n      <th></th>\n      <th>asset_code</th>\n      <th>device_serial_number</th>\n      <th>date_add</th>\n      <th>asset_class</th>\n      <th>asset_maintenance_class</th>\n      <th>is_asset_motorized</th>\n      <th>asset_department</th>\n      <th>asset_energy_type</th>\n      <th>manufacturer_short_name</th>\n      <th>asset_model</th>\n      <th>...</th>\n      <th>zone_id</th>\n      <th>gate_number</th>\n      <th>geofence_type</th>\n      <th>geofence_kind</th>\n      <th>asset_engine_hours</th>\n      <th>asset_idle_indicator</th>\n      <th>engine_running_indicator</th>\n      <th>asset_working_indicator</th>\n      <th>asset_moving_indicator</th>\n      <th>is_asset_in_shop</th>\n    </tr>\n  </thead>\n  <tbody>\n    <tr>\n      <th>0</th>\n      <td>f0e62c0d7c98d3ae3e27a3c6dd4bd49f</td>\n      <td>de04edac04674cc11bee2286fdf5b7d0</td>\n      <td>2022-07-30 20:56:39</td>\n      <td>FL - FORKLIFT</td>\n      <td>GSE-M-FL</td>\n      <td>True</td>\n      <td>AO-CARGO</td>\n      <td>B</td>\n      <td>e96631e72480d283f74b42e8903b0344</td>\n      <td>E50XM-33</td>\n      <td>...</td>\n      <td>5edbfd7d-01ce-b39e-da73-ba45d73e8953</td>\n      <td>NaN</td>\n      <td>Shop</td>\n      <td>NaN</td>\n      <td>0.0</td>\n      <td>False</td>\n      <td>True</td>\n      <td>True</td>\n      <td>False</td>\n      <td>True</td>\n    </tr>\n    <tr>\n      <th>1</th>\n      <td>f0e62c0d7c98d3ae3e27a3c6dd4bd49f</td>\n      <td>de04edac04674cc11bee2286fdf5b7d0</td>\n      <td>2022-07-30 20:56:39</td>\n      <td>FL - FORKLIFT</td>\n      <td>GSE-M-FL</td>\n      <td>True</td>\n      <td>AO-CARGO</td>\n      <td>B</td>\n      <td>e96631e72480d283f74b42e8903b0344</td>\n      <td>E50XM-33</td>\n      <td>...</td>\n      <td>b675d382-2a22-0d5c-637f-1b097dc7028c</td>\n      <td>NaN</td>\n      <td>Airport</td>\n      <td>ORD</td>\n      <td>0.0</td>\n      <td>False</td>\n      <td>True</td>\n      <td>True</td>\n      <td>False</td>\n      <td>True</td>\n    </tr>\n    <tr>\n      <th>2</th>\n      <td>f0e62c0d7c98d3ae3e27a3c6dd4bd49f</td>\n      <td>de04edac04674cc11bee2286fdf5b7d0</td>\n      <td>2022-07-30 20:56:49</td>\n      <td>FL - FORKLIFT</td>\n      <td>GSE-M-FL</td>\n      <td>True</td>\n      <td>AO-CARGO</td>\n      <td>B</td>\n      <td>e96631e72480d283f74b42e8903b0344</td>\n      <td>E50XM-33</td>\n      <td>...</td>\n      <td>5edbfd7d-01ce-b39e-da73-ba45d73e8953</td>\n      <td>NaN</td>\n      <td>Shop</td>\n      <td>NaN</td>\n      <td>0.0</td>\n      <td>False</td>\n      <td>True</td>\n      <td>True</td>\n      <td>False</td>\n      <td>True</td>\n    </tr>\n    <tr>\n      <th>3</th>\n      <td>f0e62c0d7c98d3ae3e27a3c6dd4bd49f</td>\n      <td>de04edac04674cc11bee2286fdf5b7d0</td>\n      <td>2022-07-30 20:56:49</td>\n      <td>FL - FORKLIFT</td>\n      <td>GSE-M-FL</td>\n      <td>True</td>\n      <td>AO-CARGO</td>\n      <td>B</td>\n      <td>e96631e72480d283f74b42e8903b0344</td>\n      <td>E50XM-33</td>\n      <td>...</td>\n      <td>b675d382-2a22-0d5c-637f-1b097dc7028c</td>\n      <td>NaN</td>\n      <td>Airport</td>\n      <td>ORD</td>\n      <td>0.0</td>\n      <td>False</td>\n      <td>True</td>\n      <td>True</td>\n      <td>False</td>\n      <td>True</td>\n    </tr>\n    <tr>\n      <th>4</th>\n      <td>f0e62c0d7c98d3ae3e27a3c6dd4bd49f</td>\n      <td>de04edac04674cc11bee2286fdf5b7d0</td>\n      <td>2022-07-30 20:56:49</td>\n      <td>FL - FORKLIFT</td>\n      <td>GSE-M-FL</td>\n      <td>True</td>\n      <td>AO-CARGO</td>\n      <td>B</td>\n      <td>e96631e72480d283f74b42e8903b0344</td>\n      <td>E50XM-33</td>\n      <td>...</td>\n      <td>5edbfd7d-01ce-b39e-da73-ba45d73e8953</td>\n      <td>NaN</td>\n      <td>Shop</td>\n      <td>NaN</td>\n      <td>0.0</td>\n      <td>False</td>\n      <td>True</td>\n      <td>True</td>\n      <td>False</td>\n      <td>True</td>\n    </tr>\n    <tr>\n      <th>5</th>\n      <td>f0e62c0d7c98d3ae3e27a3c6dd4bd49f</td>\n      <td>de04edac04674cc11bee2286fdf5b7d0</td>\n      <td>2022-07-30 20:56:49</td>\n      <td>FL - FORKLIFT</td>\n      <td>GSE-M-FL</td>\n      <td>True</td>\n      <td>AO-CARGO</td>\n      <td>B</td>\n      <td>e96631e72480d283f74b42e8903b0344</td>\n      <td>E50XM-33</td>\n      <td>...</td>\n      <td>b675d382-2a22-0d5c-637f-1b097dc7028c</td>\n      <td>NaN</td>\n      <td>Airport</td>\n      <td>ORD</td>\n      <td>0.0</td>\n      <td>False</td>\n      <td>True</td>\n      <td>True</td>\n      <td>False</td>\n      <td>True</td>\n    </tr>\n    <tr>\n      <th>6</th>\n      <td>f0e62c0d7c98d3ae3e27a3c6dd4bd49f</td>\n      <td>de04edac04674cc11bee2286fdf5b7d0</td>\n      <td>2022-07-30 20:56:49</td>\n      <td>FL - FORKLIFT</td>\n      <td>GSE-M-FL</td>\n      <td>True</td>\n      <td>AO-CARGO</td>\n      <td>B</td>\n      <td>e96631e72480d283f74b42e8903b0344</td>\n      <td>E50XM-33</td>\n      <td>...</td>\n      <td>5edbfd7d-01ce-b39e-da73-ba45d73e8953</td>\n      <td>NaN</td>\n      <td>Shop</td>\n      <td>NaN</td>\n      <td>0.0</td>\n      <td>False</td>\n      <td>True</td>\n      <td>True</td>\n      <td>False</td>\n      <td>True</td>\n    </tr>\n    <tr>\n      <th>7</th>\n      <td>f0e62c0d7c98d3ae3e27a3c6dd4bd49f</td>\n      <td>de04edac04674cc11bee2286fdf5b7d0</td>\n      <td>2022-07-30 20:56:49</td>\n      <td>FL - FORKLIFT</td>\n      <td>GSE-M-FL</td>\n      <td>True</td>\n      <td>AO-CARGO</td>\n      <td>B</td>\n      <td>e96631e72480d283f74b42e8903b0344</td>\n      <td>E50XM-33</td>\n      <td>...</td>\n      <td>b675d382-2a22-0d5c-637f-1b097dc7028c</td>\n      <td>NaN</td>\n      <td>Airport</td>\n      <td>ORD</td>\n      <td>0.0</td>\n      <td>False</td>\n      <td>True</td>\n      <td>True</td>\n      <td>False</td>\n      <td>True</td>\n    </tr>\n    <tr>\n      <th>8</th>\n      <td>f0e62c0d7c98d3ae3e27a3c6dd4bd49f</td>\n      <td>de04edac04674cc11bee2286fdf5b7d0</td>\n      <td>2022-07-30 20:57:09</td>\n      <td>FL - FORKLIFT</td>\n      <td>GSE-M-FL</td>\n      <td>True</td>\n      <td>AO-CARGO</td>\n      <td>B</td>\n      <td>e96631e72480d283f74b42e8903b0344</td>\n      <td>E50XM-33</td>\n      <td>...</td>\n      <td>b675d382-2a22-0d5c-637f-1b097dc7028c</td>\n      <td>NaN</td>\n      <td>Airport</td>\n      <td>ORD</td>\n      <td>0.0</td>\n      <td>False</td>\n      <td>True</td>\n      <td>True</td>\n      <td>False</td>\n      <td>True</td>\n    </tr>\n    <tr>\n      <th>9</th>\n      <td>f0e62c0d7c98d3ae3e27a3c6dd4bd49f</td>\n      <td>de04edac04674cc11bee2286fdf5b7d0</td>\n      <td>2022-07-30 20:57:09</td>\n      <td>FL - FORKLIFT</td>\n      <td>GSE-M-FL</td>\n      <td>True</td>\n      <td>AO-CARGO</td>\n      <td>B</td>\n      <td>e96631e72480d283f74b42e8903b0344</td>\n      <td>E50XM-33</td>\n      <td>...</td>\n      <td>5edbfd7d-01ce-b39e-da73-ba45d73e8953</td>\n      <td>NaN</td>\n      <td>Shop</td>\n      <td>NaN</td>\n      <td>0.0</td>\n      <td>False</td>\n      <td>True</td>\n      <td>True</td>\n      <td>False</td>\n      <td>True</td>\n    </tr>\n  </tbody>\n</table>\n<p>10 rows × 25 columns</p>\n</div>"
     },
     "execution_count": 50,
     "metadata": {},
     "output_type": "execute_result"
    }
   ],
   "source": [
    "df_united.head(10)"
   ],
   "metadata": {
    "collapsed": false,
    "ExecuteTime": {
     "end_time": "2023-10-08T18:24:19.635887Z",
     "start_time": "2023-10-08T18:24:19.572318Z"
    }
   },
   "id": "93f8124323554c23"
  },
  {
   "cell_type": "code",
   "execution_count": 52,
   "outputs": [],
   "source": [
    "df_united['date_add'] = df_united['date_add'].dt.round('S')"
   ],
   "metadata": {
    "collapsed": false,
    "ExecuteTime": {
     "end_time": "2023-10-08T18:31:50.370835Z",
     "start_time": "2023-10-08T18:31:50.309722Z"
    }
   },
   "id": "96dca00f218ecb51"
  },
  {
   "cell_type": "markdown",
   "source": [
    "### and delete duplicates."
   ],
   "metadata": {
    "collapsed": false
   },
   "id": "5bfc8c89fd18ace8"
  },
  {
   "cell_type": "code",
   "execution_count": 53,
   "outputs": [],
   "source": [
    "indx = df_united.duplicated(keep='first')"
   ],
   "metadata": {
    "collapsed": false,
    "ExecuteTime": {
     "end_time": "2023-10-08T18:32:00.221999Z",
     "start_time": "2023-10-08T18:31:52.956993Z"
    }
   },
   "id": "1f7f31ed136e2f83"
  },
  {
   "cell_type": "code",
   "execution_count": 54,
   "outputs": [],
   "source": [
    "df_united = df_united[~indx]"
   ],
   "metadata": {
    "collapsed": false,
    "ExecuteTime": {
     "end_time": "2023-10-08T18:32:06.744907Z",
     "start_time": "2023-10-08T18:32:05.079992Z"
    }
   },
   "id": "d37dedd01adea766"
  },
  {
   "cell_type": "code",
   "execution_count": 55,
   "outputs": [
    {
     "data": {
      "text/plain": "                          asset_code              device_serial_number  \\\n0   f0e62c0d7c98d3ae3e27a3c6dd4bd49f  de04edac04674cc11bee2286fdf5b7d0   \n1   f0e62c0d7c98d3ae3e27a3c6dd4bd49f  de04edac04674cc11bee2286fdf5b7d0   \n2   f0e62c0d7c98d3ae3e27a3c6dd4bd49f  de04edac04674cc11bee2286fdf5b7d0   \n3   f0e62c0d7c98d3ae3e27a3c6dd4bd49f  de04edac04674cc11bee2286fdf5b7d0   \n8   f0e62c0d7c98d3ae3e27a3c6dd4bd49f  de04edac04674cc11bee2286fdf5b7d0   \n9   f0e62c0d7c98d3ae3e27a3c6dd4bd49f  de04edac04674cc11bee2286fdf5b7d0   \n10  f0e62c0d7c98d3ae3e27a3c6dd4bd49f  de04edac04674cc11bee2286fdf5b7d0   \n11  f0e62c0d7c98d3ae3e27a3c6dd4bd49f  de04edac04674cc11bee2286fdf5b7d0   \n12  f0e62c0d7c98d3ae3e27a3c6dd4bd49f  de04edac04674cc11bee2286fdf5b7d0   \n13  f0e62c0d7c98d3ae3e27a3c6dd4bd49f  de04edac04674cc11bee2286fdf5b7d0   \n\n              date_add    asset_class asset_maintenance_class  \\\n0  2022-07-30 20:56:39  FL - FORKLIFT                GSE-M-FL   \n1  2022-07-30 20:56:39  FL - FORKLIFT                GSE-M-FL   \n2  2022-07-30 20:56:49  FL - FORKLIFT                GSE-M-FL   \n3  2022-07-30 20:56:49  FL - FORKLIFT                GSE-M-FL   \n8  2022-07-30 20:57:09  FL - FORKLIFT                GSE-M-FL   \n9  2022-07-30 20:57:09  FL - FORKLIFT                GSE-M-FL   \n10 2022-07-30 20:57:35  FL - FORKLIFT                GSE-M-FL   \n11 2022-07-30 20:57:35  FL - FORKLIFT                GSE-M-FL   \n12 2022-07-30 20:57:48  FL - FORKLIFT                GSE-M-FL   \n13 2022-07-30 20:57:48  FL - FORKLIFT                GSE-M-FL   \n\n    is_asset_motorized asset_department asset_energy_type  \\\n0                 True         AO-CARGO                 B   \n1                 True         AO-CARGO                 B   \n2                 True         AO-CARGO                 B   \n3                 True         AO-CARGO                 B   \n8                 True         AO-CARGO                 B   \n9                 True         AO-CARGO                 B   \n10                True         AO-CARGO                 B   \n11                True         AO-CARGO                 B   \n12                True         AO-CARGO                 B   \n13                True         AO-CARGO                 B   \n\n             manufacturer_short_name asset_model  ...  \\\n0   e96631e72480d283f74b42e8903b0344    E50XM-33  ...   \n1   e96631e72480d283f74b42e8903b0344    E50XM-33  ...   \n2   e96631e72480d283f74b42e8903b0344    E50XM-33  ...   \n3   e96631e72480d283f74b42e8903b0344    E50XM-33  ...   \n8   e96631e72480d283f74b42e8903b0344    E50XM-33  ...   \n9   e96631e72480d283f74b42e8903b0344    E50XM-33  ...   \n10  e96631e72480d283f74b42e8903b0344    E50XM-33  ...   \n11  e96631e72480d283f74b42e8903b0344    E50XM-33  ...   \n12  e96631e72480d283f74b42e8903b0344    E50XM-33  ...   \n13  e96631e72480d283f74b42e8903b0344    E50XM-33  ...   \n\n                                 zone_id  gate_number  geofence_type  \\\n0   5edbfd7d-01ce-b39e-da73-ba45d73e8953          NaN           Shop   \n1   b675d382-2a22-0d5c-637f-1b097dc7028c          NaN        Airport   \n2   5edbfd7d-01ce-b39e-da73-ba45d73e8953          NaN           Shop   \n3   b675d382-2a22-0d5c-637f-1b097dc7028c          NaN        Airport   \n8   b675d382-2a22-0d5c-637f-1b097dc7028c          NaN        Airport   \n9   5edbfd7d-01ce-b39e-da73-ba45d73e8953          NaN           Shop   \n10  5edbfd7d-01ce-b39e-da73-ba45d73e8953          NaN           Shop   \n11  b675d382-2a22-0d5c-637f-1b097dc7028c          NaN        Airport   \n12  5edbfd7d-01ce-b39e-da73-ba45d73e8953          NaN           Shop   \n13  b675d382-2a22-0d5c-637f-1b097dc7028c          NaN        Airport   \n\n    geofence_kind  asset_engine_hours asset_idle_indicator  \\\n0             NaN                 0.0                False   \n1             ORD                 0.0                False   \n2             NaN                 0.0                False   \n3             ORD                 0.0                False   \n8             ORD                 0.0                False   \n9             NaN                 0.0                False   \n10            NaN                 0.0                False   \n11            ORD                 0.0                False   \n12            NaN                 0.0                False   \n13            ORD                 0.0                False   \n\n   engine_running_indicator asset_working_indicator asset_moving_indicator  \\\n0                      True                    True                  False   \n1                      True                    True                  False   \n2                      True                    True                  False   \n3                      True                    True                  False   \n8                      True                    True                  False   \n9                      True                    True                  False   \n10                     True                    True                  False   \n11                     True                    True                  False   \n12                     True                    True                  False   \n13                     True                    True                  False   \n\n    is_asset_in_shop  \n0               True  \n1               True  \n2               True  \n3               True  \n8               True  \n9               True  \n10              True  \n11              True  \n12              True  \n13              True  \n\n[10 rows x 25 columns]",
      "text/html": "<div>\n<style scoped>\n    .dataframe tbody tr th:only-of-type {\n        vertical-align: middle;\n    }\n\n    .dataframe tbody tr th {\n        vertical-align: top;\n    }\n\n    .dataframe thead th {\n        text-align: right;\n    }\n</style>\n<table border=\"1\" class=\"dataframe\">\n  <thead>\n    <tr style=\"text-align: right;\">\n      <th></th>\n      <th>asset_code</th>\n      <th>device_serial_number</th>\n      <th>date_add</th>\n      <th>asset_class</th>\n      <th>asset_maintenance_class</th>\n      <th>is_asset_motorized</th>\n      <th>asset_department</th>\n      <th>asset_energy_type</th>\n      <th>manufacturer_short_name</th>\n      <th>asset_model</th>\n      <th>...</th>\n      <th>zone_id</th>\n      <th>gate_number</th>\n      <th>geofence_type</th>\n      <th>geofence_kind</th>\n      <th>asset_engine_hours</th>\n      <th>asset_idle_indicator</th>\n      <th>engine_running_indicator</th>\n      <th>asset_working_indicator</th>\n      <th>asset_moving_indicator</th>\n      <th>is_asset_in_shop</th>\n    </tr>\n  </thead>\n  <tbody>\n    <tr>\n      <th>0</th>\n      <td>f0e62c0d7c98d3ae3e27a3c6dd4bd49f</td>\n      <td>de04edac04674cc11bee2286fdf5b7d0</td>\n      <td>2022-07-30 20:56:39</td>\n      <td>FL - FORKLIFT</td>\n      <td>GSE-M-FL</td>\n      <td>True</td>\n      <td>AO-CARGO</td>\n      <td>B</td>\n      <td>e96631e72480d283f74b42e8903b0344</td>\n      <td>E50XM-33</td>\n      <td>...</td>\n      <td>5edbfd7d-01ce-b39e-da73-ba45d73e8953</td>\n      <td>NaN</td>\n      <td>Shop</td>\n      <td>NaN</td>\n      <td>0.0</td>\n      <td>False</td>\n      <td>True</td>\n      <td>True</td>\n      <td>False</td>\n      <td>True</td>\n    </tr>\n    <tr>\n      <th>1</th>\n      <td>f0e62c0d7c98d3ae3e27a3c6dd4bd49f</td>\n      <td>de04edac04674cc11bee2286fdf5b7d0</td>\n      <td>2022-07-30 20:56:39</td>\n      <td>FL - FORKLIFT</td>\n      <td>GSE-M-FL</td>\n      <td>True</td>\n      <td>AO-CARGO</td>\n      <td>B</td>\n      <td>e96631e72480d283f74b42e8903b0344</td>\n      <td>E50XM-33</td>\n      <td>...</td>\n      <td>b675d382-2a22-0d5c-637f-1b097dc7028c</td>\n      <td>NaN</td>\n      <td>Airport</td>\n      <td>ORD</td>\n      <td>0.0</td>\n      <td>False</td>\n      <td>True</td>\n      <td>True</td>\n      <td>False</td>\n      <td>True</td>\n    </tr>\n    <tr>\n      <th>2</th>\n      <td>f0e62c0d7c98d3ae3e27a3c6dd4bd49f</td>\n      <td>de04edac04674cc11bee2286fdf5b7d0</td>\n      <td>2022-07-30 20:56:49</td>\n      <td>FL - FORKLIFT</td>\n      <td>GSE-M-FL</td>\n      <td>True</td>\n      <td>AO-CARGO</td>\n      <td>B</td>\n      <td>e96631e72480d283f74b42e8903b0344</td>\n      <td>E50XM-33</td>\n      <td>...</td>\n      <td>5edbfd7d-01ce-b39e-da73-ba45d73e8953</td>\n      <td>NaN</td>\n      <td>Shop</td>\n      <td>NaN</td>\n      <td>0.0</td>\n      <td>False</td>\n      <td>True</td>\n      <td>True</td>\n      <td>False</td>\n      <td>True</td>\n    </tr>\n    <tr>\n      <th>3</th>\n      <td>f0e62c0d7c98d3ae3e27a3c6dd4bd49f</td>\n      <td>de04edac04674cc11bee2286fdf5b7d0</td>\n      <td>2022-07-30 20:56:49</td>\n      <td>FL - FORKLIFT</td>\n      <td>GSE-M-FL</td>\n      <td>True</td>\n      <td>AO-CARGO</td>\n      <td>B</td>\n      <td>e96631e72480d283f74b42e8903b0344</td>\n      <td>E50XM-33</td>\n      <td>...</td>\n      <td>b675d382-2a22-0d5c-637f-1b097dc7028c</td>\n      <td>NaN</td>\n      <td>Airport</td>\n      <td>ORD</td>\n      <td>0.0</td>\n      <td>False</td>\n      <td>True</td>\n      <td>True</td>\n      <td>False</td>\n      <td>True</td>\n    </tr>\n    <tr>\n      <th>8</th>\n      <td>f0e62c0d7c98d3ae3e27a3c6dd4bd49f</td>\n      <td>de04edac04674cc11bee2286fdf5b7d0</td>\n      <td>2022-07-30 20:57:09</td>\n      <td>FL - FORKLIFT</td>\n      <td>GSE-M-FL</td>\n      <td>True</td>\n      <td>AO-CARGO</td>\n      <td>B</td>\n      <td>e96631e72480d283f74b42e8903b0344</td>\n      <td>E50XM-33</td>\n      <td>...</td>\n      <td>b675d382-2a22-0d5c-637f-1b097dc7028c</td>\n      <td>NaN</td>\n      <td>Airport</td>\n      <td>ORD</td>\n      <td>0.0</td>\n      <td>False</td>\n      <td>True</td>\n      <td>True</td>\n      <td>False</td>\n      <td>True</td>\n    </tr>\n    <tr>\n      <th>9</th>\n      <td>f0e62c0d7c98d3ae3e27a3c6dd4bd49f</td>\n      <td>de04edac04674cc11bee2286fdf5b7d0</td>\n      <td>2022-07-30 20:57:09</td>\n      <td>FL - FORKLIFT</td>\n      <td>GSE-M-FL</td>\n      <td>True</td>\n      <td>AO-CARGO</td>\n      <td>B</td>\n      <td>e96631e72480d283f74b42e8903b0344</td>\n      <td>E50XM-33</td>\n      <td>...</td>\n      <td>5edbfd7d-01ce-b39e-da73-ba45d73e8953</td>\n      <td>NaN</td>\n      <td>Shop</td>\n      <td>NaN</td>\n      <td>0.0</td>\n      <td>False</td>\n      <td>True</td>\n      <td>True</td>\n      <td>False</td>\n      <td>True</td>\n    </tr>\n    <tr>\n      <th>10</th>\n      <td>f0e62c0d7c98d3ae3e27a3c6dd4bd49f</td>\n      <td>de04edac04674cc11bee2286fdf5b7d0</td>\n      <td>2022-07-30 20:57:35</td>\n      <td>FL - FORKLIFT</td>\n      <td>GSE-M-FL</td>\n      <td>True</td>\n      <td>AO-CARGO</td>\n      <td>B</td>\n      <td>e96631e72480d283f74b42e8903b0344</td>\n      <td>E50XM-33</td>\n      <td>...</td>\n      <td>5edbfd7d-01ce-b39e-da73-ba45d73e8953</td>\n      <td>NaN</td>\n      <td>Shop</td>\n      <td>NaN</td>\n      <td>0.0</td>\n      <td>False</td>\n      <td>True</td>\n      <td>True</td>\n      <td>False</td>\n      <td>True</td>\n    </tr>\n    <tr>\n      <th>11</th>\n      <td>f0e62c0d7c98d3ae3e27a3c6dd4bd49f</td>\n      <td>de04edac04674cc11bee2286fdf5b7d0</td>\n      <td>2022-07-30 20:57:35</td>\n      <td>FL - FORKLIFT</td>\n      <td>GSE-M-FL</td>\n      <td>True</td>\n      <td>AO-CARGO</td>\n      <td>B</td>\n      <td>e96631e72480d283f74b42e8903b0344</td>\n      <td>E50XM-33</td>\n      <td>...</td>\n      <td>b675d382-2a22-0d5c-637f-1b097dc7028c</td>\n      <td>NaN</td>\n      <td>Airport</td>\n      <td>ORD</td>\n      <td>0.0</td>\n      <td>False</td>\n      <td>True</td>\n      <td>True</td>\n      <td>False</td>\n      <td>True</td>\n    </tr>\n    <tr>\n      <th>12</th>\n      <td>f0e62c0d7c98d3ae3e27a3c6dd4bd49f</td>\n      <td>de04edac04674cc11bee2286fdf5b7d0</td>\n      <td>2022-07-30 20:57:48</td>\n      <td>FL - FORKLIFT</td>\n      <td>GSE-M-FL</td>\n      <td>True</td>\n      <td>AO-CARGO</td>\n      <td>B</td>\n      <td>e96631e72480d283f74b42e8903b0344</td>\n      <td>E50XM-33</td>\n      <td>...</td>\n      <td>5edbfd7d-01ce-b39e-da73-ba45d73e8953</td>\n      <td>NaN</td>\n      <td>Shop</td>\n      <td>NaN</td>\n      <td>0.0</td>\n      <td>False</td>\n      <td>True</td>\n      <td>True</td>\n      <td>False</td>\n      <td>True</td>\n    </tr>\n    <tr>\n      <th>13</th>\n      <td>f0e62c0d7c98d3ae3e27a3c6dd4bd49f</td>\n      <td>de04edac04674cc11bee2286fdf5b7d0</td>\n      <td>2022-07-30 20:57:48</td>\n      <td>FL - FORKLIFT</td>\n      <td>GSE-M-FL</td>\n      <td>True</td>\n      <td>AO-CARGO</td>\n      <td>B</td>\n      <td>e96631e72480d283f74b42e8903b0344</td>\n      <td>E50XM-33</td>\n      <td>...</td>\n      <td>b675d382-2a22-0d5c-637f-1b097dc7028c</td>\n      <td>NaN</td>\n      <td>Airport</td>\n      <td>ORD</td>\n      <td>0.0</td>\n      <td>False</td>\n      <td>True</td>\n      <td>True</td>\n      <td>False</td>\n      <td>True</td>\n    </tr>\n  </tbody>\n</table>\n<p>10 rows × 25 columns</p>\n</div>"
     },
     "execution_count": 55,
     "metadata": {},
     "output_type": "execute_result"
    }
   ],
   "source": [
    "df_united.head(10)"
   ],
   "metadata": {
    "collapsed": false,
    "ExecuteTime": {
     "end_time": "2023-10-08T18:32:12.133504Z",
     "start_time": "2023-10-08T18:32:12.117041Z"
    }
   },
   "id": "b88b3c5b8bfca442"
  },
  {
   "cell_type": "code",
   "execution_count": 56,
   "outputs": [],
   "source": [
    "df_united.to_csv('./data/itter2.csv', index=False)"
   ],
   "metadata": {
    "collapsed": false,
    "ExecuteTime": {
     "end_time": "2023-10-08T18:33:30.068531Z",
     "start_time": "2023-10-08T18:32:32.115214Z"
    }
   },
   "id": "2530995fe50acb7a"
  },
  {
   "cell_type": "code",
   "execution_count": 2,
   "outputs": [
    {
     "name": "stderr",
     "output_type": "stream",
     "text": [
      "/var/folders/2k/kp7vx_k946ggnbsk9nnnx0sm0000gp/T/ipykernel_51398/3104307169.py:1: DtypeWarning: Columns (16,20,21,22,23) have mixed types. Specify dtype option on import or set low_memory=False.\n",
      "  df_united = pd.read_csv('./data/itter2.csv')\n"
     ]
    }
   ],
   "source": [
    "df_united = pd.read_csv('./data/itter2.csv')"
   ],
   "metadata": {
    "collapsed": false,
    "ExecuteTime": {
     "end_time": "2023-10-09T17:00:44.032460Z",
     "start_time": "2023-10-09T17:00:19.020709Z"
    }
   },
   "id": "617b56774f1bedd9"
  },
  {
   "cell_type": "markdown",
   "source": [
    "## 3. Search for a target variable."
   ],
   "metadata": {
    "collapsed": false
   },
   "id": "12a9d79ba8c78796"
  },
  {
   "cell_type": "code",
   "execution_count": 3,
   "outputs": [
    {
     "data": {
      "text/plain": "array(['Shop', 'Airport', 'zone', 'gates', 'gate', 'cargo', 'maintenance',\n       'road', 'terminal', 'remoteparking'], dtype=object)"
     },
     "execution_count": 3,
     "metadata": {},
     "output_type": "execute_result"
    }
   ],
   "source": [
    "df_united.geofence_type.unique()"
   ],
   "metadata": {
    "collapsed": false,
    "ExecuteTime": {
     "end_time": "2023-10-09T17:00:55.592606Z",
     "start_time": "2023-10-09T17:00:55.487528Z"
    }
   },
   "id": "1b5f1a570198b25d"
  },
  {
   "cell_type": "code",
   "execution_count": 4,
   "outputs": [
    {
     "data": {
      "text/plain": "0"
     },
     "execution_count": 4,
     "metadata": {},
     "output_type": "execute_result"
    }
   ],
   "source": [
    "df_united[df_united.geofence_type == 'maintenance'].is_asset_in_shop.sum()"
   ],
   "metadata": {
    "collapsed": false,
    "ExecuteTime": {
     "end_time": "2023-10-09T17:01:02.138288Z",
     "start_time": "2023-10-09T17:01:01.989832Z"
    }
   },
   "id": "b9ac981f73a754b6"
  },
  {
   "cell_type": "code",
   "execution_count": 5,
   "outputs": [
    {
     "data": {
      "text/plain": "array(['Airport', 'zone', 'gates', 'gate', 'cargo', 'maintenance', 'road',\n       'terminal', 'remoteparking'], dtype=object)"
     },
     "execution_count": 5,
     "metadata": {},
     "output_type": "execute_result"
    }
   ],
   "source": [
    "df_united[~df_united.is_asset_in_shop].geofence_type.unique()"
   ],
   "metadata": {
    "collapsed": false,
    "ExecuteTime": {
     "end_time": "2023-10-09T17:01:14.756111Z",
     "start_time": "2023-10-09T17:01:13.837288Z"
    }
   },
   "id": "389ac840a190e3e8"
  },
  {
   "cell_type": "markdown",
   "source": [
    "# Important: not is_asset_in_shop doesn't mean 'maintenance\" and probably can't be used as a target! On the other hand, 'remoteparking could be due out of order.\n",
    "We'll go with the assumption, that our target variable is geofence_type with value 'maintenance'."
   ],
   "metadata": {
    "collapsed": false
   },
   "id": "6a5b7a3bdb43b9e0"
  },
  {
   "cell_type": "code",
   "execution_count": 6,
   "outputs": [
    {
     "data": {
      "text/plain": "geofence_type\nAirport          1482789\ngates             541044\nzone              514140\ngate              315752\nShop              280538\nmaintenance       278652\nroad              139327\ncargo              71692\nterminal             282\nremoteparking        150\nName: count, dtype: int64"
     },
     "execution_count": 6,
     "metadata": {},
     "output_type": "execute_result"
    }
   ],
   "source": [
    "df_united.geofence_type.value_counts()"
   ],
   "metadata": {
    "collapsed": false,
    "ExecuteTime": {
     "end_time": "2023-10-09T17:01:26.428807Z",
     "start_time": "2023-10-09T17:01:26.415720Z"
    }
   },
   "id": "f19fccd9d3c1da75"
  },
  {
   "cell_type": "code",
   "execution_count": 7,
   "outputs": [],
   "source": [
    "def hlp1(df):\n",
    "    return tuple(set([i for i in df['geofence_type']]))\n",
    "research = df_united[['asset_code','date_add','geofence_type']].groupby(['asset_code','date_add']).apply(hlp1)"
   ],
   "metadata": {
    "collapsed": false,
    "ExecuteTime": {
     "end_time": "2023-10-09T17:02:51.954548Z",
     "start_time": "2023-10-09T17:01:32.697795Z"
    }
   },
   "id": "6f37e074ee1f07bf"
  },
  {
   "cell_type": "code",
   "execution_count": 8,
   "outputs": [
    {
     "data": {
      "text/plain": "0\n(gates, zone, gate, Airport)          298667\n(Shop, Airport)                       276768\n(maintenance, Airport)                273730\n(gates, zone, Airport)                211171\n(Airport,)                            169796\n(road, Airport)                       137361\n(cargo, Airport)                       71450\n(gates, Airport)                       21172\n(gates, gate, Airport)                  7288\n(terminal, Airport)                      128\n(Airport, terminal, remoteparking)        74\n(terminal, remoteparking, Airport)        73\n(road, maintenance, Airport)              14\n(gates, road, Airport)                     9\nName: count, dtype: int64"
     },
     "execution_count": 8,
     "metadata": {},
     "output_type": "execute_result"
    }
   ],
   "source": [
    "research.reset_index()[0].value_counts()"
   ],
   "metadata": {
    "collapsed": false,
    "ExecuteTime": {
     "end_time": "2023-10-09T17:03:23.944862Z",
     "start_time": "2023-10-09T17:03:23.584162Z"
    }
   },
   "id": "1f06eb995eb92679"
  },
  {
   "cell_type": "markdown",
   "source": [
    "### An equipment can't be in two places at the same time. We can simplify the variable by replacing it with binary 'maintenance' where 1 if 'maintenance' is in list of values and 0 if not "
   ],
   "metadata": {
    "collapsed": false
   },
   "id": "182f1c11a01cca7"
  },
  {
   "cell_type": "code",
   "execution_count": 9,
   "outputs": [],
   "source": [
    "def hlp2(df):\n",
    "    sk = [i for i in df['geofence_type']]\n",
    "    if 'maintenance' in sk: return 1\n",
    "    return 0\n",
    "    \n",
    "state = df_united[['asset_code','date_add','geofence_type']].groupby(['asset_code','date_add']).apply(hlp2)"
   ],
   "metadata": {
    "collapsed": false,
    "ExecuteTime": {
     "end_time": "2023-10-09T17:05:04.556198Z",
     "start_time": "2023-10-09T17:03:42.090445Z"
    }
   },
   "id": "a2e2b378e64ef606"
  },
  {
   "cell_type": "code",
   "execution_count": 10,
   "outputs": [
    {
     "data": {
      "text/plain": "                          asset_code             date_add  maintenance\n0   01305fdba7a7c5b8bb94391666f8ed05  2022-11-07 16:35:01            0\n1   01305fdba7a7c5b8bb94391666f8ed05  2022-11-07 17:19:49            0\n2   01305fdba7a7c5b8bb94391666f8ed05  2022-11-07 17:20:10            0\n3   01305fdba7a7c5b8bb94391666f8ed05  2022-11-07 17:20:40            0\n4   01305fdba7a7c5b8bb94391666f8ed05  2022-11-08 02:07:45            0\n5   01305fdba7a7c5b8bb94391666f8ed05  2022-11-08 02:08:15            0\n6   01305fdba7a7c5b8bb94391666f8ed05  2022-11-08 02:08:45            0\n7   01305fdba7a7c5b8bb94391666f8ed05  2022-11-08 02:09:05            0\n8   01305fdba7a7c5b8bb94391666f8ed05  2022-11-08 02:09:34            0\n9   01305fdba7a7c5b8bb94391666f8ed05  2022-11-08 02:09:35            0\n10  01305fdba7a7c5b8bb94391666f8ed05  2022-11-08 02:10:05            0\n11  01305fdba7a7c5b8bb94391666f8ed05  2022-11-08 02:10:35            0\n12  01305fdba7a7c5b8bb94391666f8ed05  2022-11-08 02:11:05            0\n13  01305fdba7a7c5b8bb94391666f8ed05  2022-11-08 02:11:09            0\n14  01305fdba7a7c5b8bb94391666f8ed05  2022-11-08 02:11:10            0\n15  01305fdba7a7c5b8bb94391666f8ed05  2022-11-08 02:11:40            0\n16  01305fdba7a7c5b8bb94391666f8ed05  2022-11-08 02:12:04            0\n17  01305fdba7a7c5b8bb94391666f8ed05  2022-11-08 02:12:05            0\n18  01305fdba7a7c5b8bb94391666f8ed05  2022-11-08 02:12:35            0\n19  01305fdba7a7c5b8bb94391666f8ed05  2022-11-08 02:12:47            0",
      "text/html": "<div>\n<style scoped>\n    .dataframe tbody tr th:only-of-type {\n        vertical-align: middle;\n    }\n\n    .dataframe tbody tr th {\n        vertical-align: top;\n    }\n\n    .dataframe thead th {\n        text-align: right;\n    }\n</style>\n<table border=\"1\" class=\"dataframe\">\n  <thead>\n    <tr style=\"text-align: right;\">\n      <th></th>\n      <th>asset_code</th>\n      <th>date_add</th>\n      <th>maintenance</th>\n    </tr>\n  </thead>\n  <tbody>\n    <tr>\n      <th>0</th>\n      <td>01305fdba7a7c5b8bb94391666f8ed05</td>\n      <td>2022-11-07 16:35:01</td>\n      <td>0</td>\n    </tr>\n    <tr>\n      <th>1</th>\n      <td>01305fdba7a7c5b8bb94391666f8ed05</td>\n      <td>2022-11-07 17:19:49</td>\n      <td>0</td>\n    </tr>\n    <tr>\n      <th>2</th>\n      <td>01305fdba7a7c5b8bb94391666f8ed05</td>\n      <td>2022-11-07 17:20:10</td>\n      <td>0</td>\n    </tr>\n    <tr>\n      <th>3</th>\n      <td>01305fdba7a7c5b8bb94391666f8ed05</td>\n      <td>2022-11-07 17:20:40</td>\n      <td>0</td>\n    </tr>\n    <tr>\n      <th>4</th>\n      <td>01305fdba7a7c5b8bb94391666f8ed05</td>\n      <td>2022-11-08 02:07:45</td>\n      <td>0</td>\n    </tr>\n    <tr>\n      <th>5</th>\n      <td>01305fdba7a7c5b8bb94391666f8ed05</td>\n      <td>2022-11-08 02:08:15</td>\n      <td>0</td>\n    </tr>\n    <tr>\n      <th>6</th>\n      <td>01305fdba7a7c5b8bb94391666f8ed05</td>\n      <td>2022-11-08 02:08:45</td>\n      <td>0</td>\n    </tr>\n    <tr>\n      <th>7</th>\n      <td>01305fdba7a7c5b8bb94391666f8ed05</td>\n      <td>2022-11-08 02:09:05</td>\n      <td>0</td>\n    </tr>\n    <tr>\n      <th>8</th>\n      <td>01305fdba7a7c5b8bb94391666f8ed05</td>\n      <td>2022-11-08 02:09:34</td>\n      <td>0</td>\n    </tr>\n    <tr>\n      <th>9</th>\n      <td>01305fdba7a7c5b8bb94391666f8ed05</td>\n      <td>2022-11-08 02:09:35</td>\n      <td>0</td>\n    </tr>\n    <tr>\n      <th>10</th>\n      <td>01305fdba7a7c5b8bb94391666f8ed05</td>\n      <td>2022-11-08 02:10:05</td>\n      <td>0</td>\n    </tr>\n    <tr>\n      <th>11</th>\n      <td>01305fdba7a7c5b8bb94391666f8ed05</td>\n      <td>2022-11-08 02:10:35</td>\n      <td>0</td>\n    </tr>\n    <tr>\n      <th>12</th>\n      <td>01305fdba7a7c5b8bb94391666f8ed05</td>\n      <td>2022-11-08 02:11:05</td>\n      <td>0</td>\n    </tr>\n    <tr>\n      <th>13</th>\n      <td>01305fdba7a7c5b8bb94391666f8ed05</td>\n      <td>2022-11-08 02:11:09</td>\n      <td>0</td>\n    </tr>\n    <tr>\n      <th>14</th>\n      <td>01305fdba7a7c5b8bb94391666f8ed05</td>\n      <td>2022-11-08 02:11:10</td>\n      <td>0</td>\n    </tr>\n    <tr>\n      <th>15</th>\n      <td>01305fdba7a7c5b8bb94391666f8ed05</td>\n      <td>2022-11-08 02:11:40</td>\n      <td>0</td>\n    </tr>\n    <tr>\n      <th>16</th>\n      <td>01305fdba7a7c5b8bb94391666f8ed05</td>\n      <td>2022-11-08 02:12:04</td>\n      <td>0</td>\n    </tr>\n    <tr>\n      <th>17</th>\n      <td>01305fdba7a7c5b8bb94391666f8ed05</td>\n      <td>2022-11-08 02:12:05</td>\n      <td>0</td>\n    </tr>\n    <tr>\n      <th>18</th>\n      <td>01305fdba7a7c5b8bb94391666f8ed05</td>\n      <td>2022-11-08 02:12:35</td>\n      <td>0</td>\n    </tr>\n    <tr>\n      <th>19</th>\n      <td>01305fdba7a7c5b8bb94391666f8ed05</td>\n      <td>2022-11-08 02:12:47</td>\n      <td>0</td>\n    </tr>\n  </tbody>\n</table>\n</div>"
     },
     "execution_count": 10,
     "metadata": {},
     "output_type": "execute_result"
    }
   ],
   "source": [
    "state1 = state.reset_index()\n",
    "state1.rename(columns={0:'maintenance'}, inplace=True)\n",
    "state1.head(20)"
   ],
   "metadata": {
    "collapsed": false,
    "ExecuteTime": {
     "end_time": "2023-10-09T17:05:07.000363Z",
     "start_time": "2023-10-09T17:05:06.849197Z"
    }
   },
   "id": "51c330e536968536"
  },
  {
   "cell_type": "code",
   "execution_count": 11,
   "outputs": [],
   "source": [
    "united_m = pd.merge(df_united, state1, left_on=[\"asset_code\",'date_add'],right_on=[\"asset_code\",'date_add'])"
   ],
   "metadata": {
    "collapsed": false,
    "ExecuteTime": {
     "end_time": "2023-10-09T17:05:16.662090Z",
     "start_time": "2023-10-09T17:05:12.796529Z"
    }
   },
   "id": "145e804e08b1c303"
  },
  {
   "cell_type": "code",
   "execution_count": 12,
   "outputs": [
    {
     "data": {
      "text/plain": "                         asset_code              device_serial_number  \\\n0  f0e62c0d7c98d3ae3e27a3c6dd4bd49f  de04edac04674cc11bee2286fdf5b7d0   \n1  f0e62c0d7c98d3ae3e27a3c6dd4bd49f  de04edac04674cc11bee2286fdf5b7d0   \n2  f0e62c0d7c98d3ae3e27a3c6dd4bd49f  de04edac04674cc11bee2286fdf5b7d0   \n3  f0e62c0d7c98d3ae3e27a3c6dd4bd49f  de04edac04674cc11bee2286fdf5b7d0   \n4  f0e62c0d7c98d3ae3e27a3c6dd4bd49f  de04edac04674cc11bee2286fdf5b7d0   \n\n              date_add    asset_class asset_maintenance_class  \\\n0  2022-07-30 20:56:39  FL - FORKLIFT                GSE-M-FL   \n1  2022-07-30 20:56:39  FL - FORKLIFT                GSE-M-FL   \n2  2022-07-30 20:56:49  FL - FORKLIFT                GSE-M-FL   \n3  2022-07-30 20:56:49  FL - FORKLIFT                GSE-M-FL   \n4  2022-07-30 20:57:09  FL - FORKLIFT                GSE-M-FL   \n\n   is_asset_motorized asset_department asset_energy_type  \\\n0                True         AO-CARGO                 B   \n1                True         AO-CARGO                 B   \n2                True         AO-CARGO                 B   \n3                True         AO-CARGO                 B   \n4                True         AO-CARGO                 B   \n\n            manufacturer_short_name asset_model  ... gate_number  \\\n0  e96631e72480d283f74b42e8903b0344    E50XM-33  ...         NaN   \n1  e96631e72480d283f74b42e8903b0344    E50XM-33  ...         NaN   \n2  e96631e72480d283f74b42e8903b0344    E50XM-33  ...         NaN   \n3  e96631e72480d283f74b42e8903b0344    E50XM-33  ...         NaN   \n4  e96631e72480d283f74b42e8903b0344    E50XM-33  ...         NaN   \n\n   geofence_type  geofence_kind  asset_engine_hours  asset_idle_indicator  \\\n0           Shop            NaN                 0.0                 False   \n1        Airport            ORD                 0.0                 False   \n2           Shop            NaN                 0.0                 False   \n3        Airport            ORD                 0.0                 False   \n4        Airport            ORD                 0.0                 False   \n\n  engine_running_indicator asset_working_indicator asset_moving_indicator  \\\n0                     True                    True                  False   \n1                     True                    True                  False   \n2                     True                    True                  False   \n3                     True                    True                  False   \n4                     True                    True                  False   \n\n  is_asset_in_shop  maintenance  \n0             True            0  \n1             True            0  \n2             True            0  \n3             True            0  \n4             True            0  \n\n[5 rows x 26 columns]",
      "text/html": "<div>\n<style scoped>\n    .dataframe tbody tr th:only-of-type {\n        vertical-align: middle;\n    }\n\n    .dataframe tbody tr th {\n        vertical-align: top;\n    }\n\n    .dataframe thead th {\n        text-align: right;\n    }\n</style>\n<table border=\"1\" class=\"dataframe\">\n  <thead>\n    <tr style=\"text-align: right;\">\n      <th></th>\n      <th>asset_code</th>\n      <th>device_serial_number</th>\n      <th>date_add</th>\n      <th>asset_class</th>\n      <th>asset_maintenance_class</th>\n      <th>is_asset_motorized</th>\n      <th>asset_department</th>\n      <th>asset_energy_type</th>\n      <th>manufacturer_short_name</th>\n      <th>asset_model</th>\n      <th>...</th>\n      <th>gate_number</th>\n      <th>geofence_type</th>\n      <th>geofence_kind</th>\n      <th>asset_engine_hours</th>\n      <th>asset_idle_indicator</th>\n      <th>engine_running_indicator</th>\n      <th>asset_working_indicator</th>\n      <th>asset_moving_indicator</th>\n      <th>is_asset_in_shop</th>\n      <th>maintenance</th>\n    </tr>\n  </thead>\n  <tbody>\n    <tr>\n      <th>0</th>\n      <td>f0e62c0d7c98d3ae3e27a3c6dd4bd49f</td>\n      <td>de04edac04674cc11bee2286fdf5b7d0</td>\n      <td>2022-07-30 20:56:39</td>\n      <td>FL - FORKLIFT</td>\n      <td>GSE-M-FL</td>\n      <td>True</td>\n      <td>AO-CARGO</td>\n      <td>B</td>\n      <td>e96631e72480d283f74b42e8903b0344</td>\n      <td>E50XM-33</td>\n      <td>...</td>\n      <td>NaN</td>\n      <td>Shop</td>\n      <td>NaN</td>\n      <td>0.0</td>\n      <td>False</td>\n      <td>True</td>\n      <td>True</td>\n      <td>False</td>\n      <td>True</td>\n      <td>0</td>\n    </tr>\n    <tr>\n      <th>1</th>\n      <td>f0e62c0d7c98d3ae3e27a3c6dd4bd49f</td>\n      <td>de04edac04674cc11bee2286fdf5b7d0</td>\n      <td>2022-07-30 20:56:39</td>\n      <td>FL - FORKLIFT</td>\n      <td>GSE-M-FL</td>\n      <td>True</td>\n      <td>AO-CARGO</td>\n      <td>B</td>\n      <td>e96631e72480d283f74b42e8903b0344</td>\n      <td>E50XM-33</td>\n      <td>...</td>\n      <td>NaN</td>\n      <td>Airport</td>\n      <td>ORD</td>\n      <td>0.0</td>\n      <td>False</td>\n      <td>True</td>\n      <td>True</td>\n      <td>False</td>\n      <td>True</td>\n      <td>0</td>\n    </tr>\n    <tr>\n      <th>2</th>\n      <td>f0e62c0d7c98d3ae3e27a3c6dd4bd49f</td>\n      <td>de04edac04674cc11bee2286fdf5b7d0</td>\n      <td>2022-07-30 20:56:49</td>\n      <td>FL - FORKLIFT</td>\n      <td>GSE-M-FL</td>\n      <td>True</td>\n      <td>AO-CARGO</td>\n      <td>B</td>\n      <td>e96631e72480d283f74b42e8903b0344</td>\n      <td>E50XM-33</td>\n      <td>...</td>\n      <td>NaN</td>\n      <td>Shop</td>\n      <td>NaN</td>\n      <td>0.0</td>\n      <td>False</td>\n      <td>True</td>\n      <td>True</td>\n      <td>False</td>\n      <td>True</td>\n      <td>0</td>\n    </tr>\n    <tr>\n      <th>3</th>\n      <td>f0e62c0d7c98d3ae3e27a3c6dd4bd49f</td>\n      <td>de04edac04674cc11bee2286fdf5b7d0</td>\n      <td>2022-07-30 20:56:49</td>\n      <td>FL - FORKLIFT</td>\n      <td>GSE-M-FL</td>\n      <td>True</td>\n      <td>AO-CARGO</td>\n      <td>B</td>\n      <td>e96631e72480d283f74b42e8903b0344</td>\n      <td>E50XM-33</td>\n      <td>...</td>\n      <td>NaN</td>\n      <td>Airport</td>\n      <td>ORD</td>\n      <td>0.0</td>\n      <td>False</td>\n      <td>True</td>\n      <td>True</td>\n      <td>False</td>\n      <td>True</td>\n      <td>0</td>\n    </tr>\n    <tr>\n      <th>4</th>\n      <td>f0e62c0d7c98d3ae3e27a3c6dd4bd49f</td>\n      <td>de04edac04674cc11bee2286fdf5b7d0</td>\n      <td>2022-07-30 20:57:09</td>\n      <td>FL - FORKLIFT</td>\n      <td>GSE-M-FL</td>\n      <td>True</td>\n      <td>AO-CARGO</td>\n      <td>B</td>\n      <td>e96631e72480d283f74b42e8903b0344</td>\n      <td>E50XM-33</td>\n      <td>...</td>\n      <td>NaN</td>\n      <td>Airport</td>\n      <td>ORD</td>\n      <td>0.0</td>\n      <td>False</td>\n      <td>True</td>\n      <td>True</td>\n      <td>False</td>\n      <td>True</td>\n      <td>0</td>\n    </tr>\n  </tbody>\n</table>\n<p>5 rows × 26 columns</p>\n</div>"
     },
     "execution_count": 12,
     "metadata": {},
     "output_type": "execute_result"
    }
   ],
   "source": [
    "united_m.head()"
   ],
   "metadata": {
    "collapsed": false,
    "ExecuteTime": {
     "end_time": "2023-10-09T17:05:19.179199Z",
     "start_time": "2023-10-09T17:05:19.158984Z"
    }
   },
   "id": "dc309dbb260950ec"
  },
  {
   "cell_type": "code",
   "execution_count": 13,
   "outputs": [],
   "source": [
    "united_m.drop('geofence_type', axis = 1, inplace=True)\n",
    "indx = united_m.duplicated(keep='first')\n",
    "united_m = united_m[~indx]"
   ],
   "metadata": {
    "collapsed": false,
    "ExecuteTime": {
     "end_time": "2023-10-09T17:06:55.052250Z",
     "start_time": "2023-10-09T17:06:45.521680Z"
    }
   },
   "id": "a8f4608ed716c78d"
  },
  {
   "cell_type": "code",
   "execution_count": 14,
   "outputs": [
    {
     "data": {
      "text/plain": "(3624366, 25)"
     },
     "execution_count": 14,
     "metadata": {},
     "output_type": "execute_result"
    }
   ],
   "source": [
    "united_m.shape"
   ],
   "metadata": {
    "collapsed": false,
    "ExecuteTime": {
     "end_time": "2023-10-09T17:06:57.630141Z",
     "start_time": "2023-10-09T17:06:57.594910Z"
    }
   },
   "id": "60ad71db386e435c"
  },
  {
   "cell_type": "code",
   "execution_count": 15,
   "outputs": [
    {
     "data": {
      "text/plain": "                         asset_code              device_serial_number  \\\n0  f0e62c0d7c98d3ae3e27a3c6dd4bd49f  de04edac04674cc11bee2286fdf5b7d0   \n1  f0e62c0d7c98d3ae3e27a3c6dd4bd49f  de04edac04674cc11bee2286fdf5b7d0   \n2  f0e62c0d7c98d3ae3e27a3c6dd4bd49f  de04edac04674cc11bee2286fdf5b7d0   \n3  f0e62c0d7c98d3ae3e27a3c6dd4bd49f  de04edac04674cc11bee2286fdf5b7d0   \n4  f0e62c0d7c98d3ae3e27a3c6dd4bd49f  de04edac04674cc11bee2286fdf5b7d0   \n5  f0e62c0d7c98d3ae3e27a3c6dd4bd49f  de04edac04674cc11bee2286fdf5b7d0   \n6  f0e62c0d7c98d3ae3e27a3c6dd4bd49f  de04edac04674cc11bee2286fdf5b7d0   \n7  f0e62c0d7c98d3ae3e27a3c6dd4bd49f  de04edac04674cc11bee2286fdf5b7d0   \n8  f0e62c0d7c98d3ae3e27a3c6dd4bd49f  de04edac04674cc11bee2286fdf5b7d0   \n9  f0e62c0d7c98d3ae3e27a3c6dd4bd49f  de04edac04674cc11bee2286fdf5b7d0   \n\n              date_add    asset_class asset_maintenance_class  \\\n0  2022-07-30 20:56:39  FL - FORKLIFT                GSE-M-FL   \n1  2022-07-30 20:56:39  FL - FORKLIFT                GSE-M-FL   \n2  2022-07-30 20:56:49  FL - FORKLIFT                GSE-M-FL   \n3  2022-07-30 20:56:49  FL - FORKLIFT                GSE-M-FL   \n4  2022-07-30 20:57:09  FL - FORKLIFT                GSE-M-FL   \n5  2022-07-30 20:57:09  FL - FORKLIFT                GSE-M-FL   \n6  2022-07-30 20:57:35  FL - FORKLIFT                GSE-M-FL   \n7  2022-07-30 20:57:35  FL - FORKLIFT                GSE-M-FL   \n8  2022-07-30 20:57:48  FL - FORKLIFT                GSE-M-FL   \n9  2022-07-30 20:57:48  FL - FORKLIFT                GSE-M-FL   \n\n   is_asset_motorized asset_department asset_energy_type  \\\n0                True         AO-CARGO                 B   \n1                True         AO-CARGO                 B   \n2                True         AO-CARGO                 B   \n3                True         AO-CARGO                 B   \n4                True         AO-CARGO                 B   \n5                True         AO-CARGO                 B   \n6                True         AO-CARGO                 B   \n7                True         AO-CARGO                 B   \n8                True         AO-CARGO                 B   \n9                True         AO-CARGO                 B   \n\n            manufacturer_short_name asset_model  ...  \\\n0  e96631e72480d283f74b42e8903b0344    E50XM-33  ...   \n1  e96631e72480d283f74b42e8903b0344    E50XM-33  ...   \n2  e96631e72480d283f74b42e8903b0344    E50XM-33  ...   \n3  e96631e72480d283f74b42e8903b0344    E50XM-33  ...   \n4  e96631e72480d283f74b42e8903b0344    E50XM-33  ...   \n5  e96631e72480d283f74b42e8903b0344    E50XM-33  ...   \n6  e96631e72480d283f74b42e8903b0344    E50XM-33  ...   \n7  e96631e72480d283f74b42e8903b0344    E50XM-33  ...   \n8  e96631e72480d283f74b42e8903b0344    E50XM-33  ...   \n9  e96631e72480d283f74b42e8903b0344    E50XM-33  ...   \n\n                                zone_id  gate_number  geofence_kind  \\\n0  5edbfd7d-01ce-b39e-da73-ba45d73e8953          NaN            NaN   \n1  b675d382-2a22-0d5c-637f-1b097dc7028c          NaN            ORD   \n2  5edbfd7d-01ce-b39e-da73-ba45d73e8953          NaN            NaN   \n3  b675d382-2a22-0d5c-637f-1b097dc7028c          NaN            ORD   \n4  b675d382-2a22-0d5c-637f-1b097dc7028c          NaN            ORD   \n5  5edbfd7d-01ce-b39e-da73-ba45d73e8953          NaN            NaN   \n6  5edbfd7d-01ce-b39e-da73-ba45d73e8953          NaN            NaN   \n7  b675d382-2a22-0d5c-637f-1b097dc7028c          NaN            ORD   \n8  5edbfd7d-01ce-b39e-da73-ba45d73e8953          NaN            NaN   \n9  b675d382-2a22-0d5c-637f-1b097dc7028c          NaN            ORD   \n\n   asset_engine_hours  asset_idle_indicator engine_running_indicator  \\\n0                 0.0                 False                     True   \n1                 0.0                 False                     True   \n2                 0.0                 False                     True   \n3                 0.0                 False                     True   \n4                 0.0                 False                     True   \n5                 0.0                 False                     True   \n6                 0.0                 False                     True   \n7                 0.0                 False                     True   \n8                 0.0                 False                     True   \n9                 0.0                 False                     True   \n\n  asset_working_indicator asset_moving_indicator  is_asset_in_shop maintenance  \n0                    True                  False              True           0  \n1                    True                  False              True           0  \n2                    True                  False              True           0  \n3                    True                  False              True           0  \n4                    True                  False              True           0  \n5                    True                  False              True           0  \n6                    True                  False              True           0  \n7                    True                  False              True           0  \n8                    True                  False              True           0  \n9                    True                  False              True           0  \n\n[10 rows x 25 columns]",
      "text/html": "<div>\n<style scoped>\n    .dataframe tbody tr th:only-of-type {\n        vertical-align: middle;\n    }\n\n    .dataframe tbody tr th {\n        vertical-align: top;\n    }\n\n    .dataframe thead th {\n        text-align: right;\n    }\n</style>\n<table border=\"1\" class=\"dataframe\">\n  <thead>\n    <tr style=\"text-align: right;\">\n      <th></th>\n      <th>asset_code</th>\n      <th>device_serial_number</th>\n      <th>date_add</th>\n      <th>asset_class</th>\n      <th>asset_maintenance_class</th>\n      <th>is_asset_motorized</th>\n      <th>asset_department</th>\n      <th>asset_energy_type</th>\n      <th>manufacturer_short_name</th>\n      <th>asset_model</th>\n      <th>...</th>\n      <th>zone_id</th>\n      <th>gate_number</th>\n      <th>geofence_kind</th>\n      <th>asset_engine_hours</th>\n      <th>asset_idle_indicator</th>\n      <th>engine_running_indicator</th>\n      <th>asset_working_indicator</th>\n      <th>asset_moving_indicator</th>\n      <th>is_asset_in_shop</th>\n      <th>maintenance</th>\n    </tr>\n  </thead>\n  <tbody>\n    <tr>\n      <th>0</th>\n      <td>f0e62c0d7c98d3ae3e27a3c6dd4bd49f</td>\n      <td>de04edac04674cc11bee2286fdf5b7d0</td>\n      <td>2022-07-30 20:56:39</td>\n      <td>FL - FORKLIFT</td>\n      <td>GSE-M-FL</td>\n      <td>True</td>\n      <td>AO-CARGO</td>\n      <td>B</td>\n      <td>e96631e72480d283f74b42e8903b0344</td>\n      <td>E50XM-33</td>\n      <td>...</td>\n      <td>5edbfd7d-01ce-b39e-da73-ba45d73e8953</td>\n      <td>NaN</td>\n      <td>NaN</td>\n      <td>0.0</td>\n      <td>False</td>\n      <td>True</td>\n      <td>True</td>\n      <td>False</td>\n      <td>True</td>\n      <td>0</td>\n    </tr>\n    <tr>\n      <th>1</th>\n      <td>f0e62c0d7c98d3ae3e27a3c6dd4bd49f</td>\n      <td>de04edac04674cc11bee2286fdf5b7d0</td>\n      <td>2022-07-30 20:56:39</td>\n      <td>FL - FORKLIFT</td>\n      <td>GSE-M-FL</td>\n      <td>True</td>\n      <td>AO-CARGO</td>\n      <td>B</td>\n      <td>e96631e72480d283f74b42e8903b0344</td>\n      <td>E50XM-33</td>\n      <td>...</td>\n      <td>b675d382-2a22-0d5c-637f-1b097dc7028c</td>\n      <td>NaN</td>\n      <td>ORD</td>\n      <td>0.0</td>\n      <td>False</td>\n      <td>True</td>\n      <td>True</td>\n      <td>False</td>\n      <td>True</td>\n      <td>0</td>\n    </tr>\n    <tr>\n      <th>2</th>\n      <td>f0e62c0d7c98d3ae3e27a3c6dd4bd49f</td>\n      <td>de04edac04674cc11bee2286fdf5b7d0</td>\n      <td>2022-07-30 20:56:49</td>\n      <td>FL - FORKLIFT</td>\n      <td>GSE-M-FL</td>\n      <td>True</td>\n      <td>AO-CARGO</td>\n      <td>B</td>\n      <td>e96631e72480d283f74b42e8903b0344</td>\n      <td>E50XM-33</td>\n      <td>...</td>\n      <td>5edbfd7d-01ce-b39e-da73-ba45d73e8953</td>\n      <td>NaN</td>\n      <td>NaN</td>\n      <td>0.0</td>\n      <td>False</td>\n      <td>True</td>\n      <td>True</td>\n      <td>False</td>\n      <td>True</td>\n      <td>0</td>\n    </tr>\n    <tr>\n      <th>3</th>\n      <td>f0e62c0d7c98d3ae3e27a3c6dd4bd49f</td>\n      <td>de04edac04674cc11bee2286fdf5b7d0</td>\n      <td>2022-07-30 20:56:49</td>\n      <td>FL - FORKLIFT</td>\n      <td>GSE-M-FL</td>\n      <td>True</td>\n      <td>AO-CARGO</td>\n      <td>B</td>\n      <td>e96631e72480d283f74b42e8903b0344</td>\n      <td>E50XM-33</td>\n      <td>...</td>\n      <td>b675d382-2a22-0d5c-637f-1b097dc7028c</td>\n      <td>NaN</td>\n      <td>ORD</td>\n      <td>0.0</td>\n      <td>False</td>\n      <td>True</td>\n      <td>True</td>\n      <td>False</td>\n      <td>True</td>\n      <td>0</td>\n    </tr>\n    <tr>\n      <th>4</th>\n      <td>f0e62c0d7c98d3ae3e27a3c6dd4bd49f</td>\n      <td>de04edac04674cc11bee2286fdf5b7d0</td>\n      <td>2022-07-30 20:57:09</td>\n      <td>FL - FORKLIFT</td>\n      <td>GSE-M-FL</td>\n      <td>True</td>\n      <td>AO-CARGO</td>\n      <td>B</td>\n      <td>e96631e72480d283f74b42e8903b0344</td>\n      <td>E50XM-33</td>\n      <td>...</td>\n      <td>b675d382-2a22-0d5c-637f-1b097dc7028c</td>\n      <td>NaN</td>\n      <td>ORD</td>\n      <td>0.0</td>\n      <td>False</td>\n      <td>True</td>\n      <td>True</td>\n      <td>False</td>\n      <td>True</td>\n      <td>0</td>\n    </tr>\n    <tr>\n      <th>5</th>\n      <td>f0e62c0d7c98d3ae3e27a3c6dd4bd49f</td>\n      <td>de04edac04674cc11bee2286fdf5b7d0</td>\n      <td>2022-07-30 20:57:09</td>\n      <td>FL - FORKLIFT</td>\n      <td>GSE-M-FL</td>\n      <td>True</td>\n      <td>AO-CARGO</td>\n      <td>B</td>\n      <td>e96631e72480d283f74b42e8903b0344</td>\n      <td>E50XM-33</td>\n      <td>...</td>\n      <td>5edbfd7d-01ce-b39e-da73-ba45d73e8953</td>\n      <td>NaN</td>\n      <td>NaN</td>\n      <td>0.0</td>\n      <td>False</td>\n      <td>True</td>\n      <td>True</td>\n      <td>False</td>\n      <td>True</td>\n      <td>0</td>\n    </tr>\n    <tr>\n      <th>6</th>\n      <td>f0e62c0d7c98d3ae3e27a3c6dd4bd49f</td>\n      <td>de04edac04674cc11bee2286fdf5b7d0</td>\n      <td>2022-07-30 20:57:35</td>\n      <td>FL - FORKLIFT</td>\n      <td>GSE-M-FL</td>\n      <td>True</td>\n      <td>AO-CARGO</td>\n      <td>B</td>\n      <td>e96631e72480d283f74b42e8903b0344</td>\n      <td>E50XM-33</td>\n      <td>...</td>\n      <td>5edbfd7d-01ce-b39e-da73-ba45d73e8953</td>\n      <td>NaN</td>\n      <td>NaN</td>\n      <td>0.0</td>\n      <td>False</td>\n      <td>True</td>\n      <td>True</td>\n      <td>False</td>\n      <td>True</td>\n      <td>0</td>\n    </tr>\n    <tr>\n      <th>7</th>\n      <td>f0e62c0d7c98d3ae3e27a3c6dd4bd49f</td>\n      <td>de04edac04674cc11bee2286fdf5b7d0</td>\n      <td>2022-07-30 20:57:35</td>\n      <td>FL - FORKLIFT</td>\n      <td>GSE-M-FL</td>\n      <td>True</td>\n      <td>AO-CARGO</td>\n      <td>B</td>\n      <td>e96631e72480d283f74b42e8903b0344</td>\n      <td>E50XM-33</td>\n      <td>...</td>\n      <td>b675d382-2a22-0d5c-637f-1b097dc7028c</td>\n      <td>NaN</td>\n      <td>ORD</td>\n      <td>0.0</td>\n      <td>False</td>\n      <td>True</td>\n      <td>True</td>\n      <td>False</td>\n      <td>True</td>\n      <td>0</td>\n    </tr>\n    <tr>\n      <th>8</th>\n      <td>f0e62c0d7c98d3ae3e27a3c6dd4bd49f</td>\n      <td>de04edac04674cc11bee2286fdf5b7d0</td>\n      <td>2022-07-30 20:57:48</td>\n      <td>FL - FORKLIFT</td>\n      <td>GSE-M-FL</td>\n      <td>True</td>\n      <td>AO-CARGO</td>\n      <td>B</td>\n      <td>e96631e72480d283f74b42e8903b0344</td>\n      <td>E50XM-33</td>\n      <td>...</td>\n      <td>5edbfd7d-01ce-b39e-da73-ba45d73e8953</td>\n      <td>NaN</td>\n      <td>NaN</td>\n      <td>0.0</td>\n      <td>False</td>\n      <td>True</td>\n      <td>True</td>\n      <td>False</td>\n      <td>True</td>\n      <td>0</td>\n    </tr>\n    <tr>\n      <th>9</th>\n      <td>f0e62c0d7c98d3ae3e27a3c6dd4bd49f</td>\n      <td>de04edac04674cc11bee2286fdf5b7d0</td>\n      <td>2022-07-30 20:57:48</td>\n      <td>FL - FORKLIFT</td>\n      <td>GSE-M-FL</td>\n      <td>True</td>\n      <td>AO-CARGO</td>\n      <td>B</td>\n      <td>e96631e72480d283f74b42e8903b0344</td>\n      <td>E50XM-33</td>\n      <td>...</td>\n      <td>b675d382-2a22-0d5c-637f-1b097dc7028c</td>\n      <td>NaN</td>\n      <td>ORD</td>\n      <td>0.0</td>\n      <td>False</td>\n      <td>True</td>\n      <td>True</td>\n      <td>False</td>\n      <td>True</td>\n      <td>0</td>\n    </tr>\n  </tbody>\n</table>\n<p>10 rows × 25 columns</p>\n</div>"
     },
     "execution_count": 15,
     "metadata": {},
     "output_type": "execute_result"
    }
   ],
   "source": [
    "united_m.head(10)"
   ],
   "metadata": {
    "collapsed": false,
    "ExecuteTime": {
     "end_time": "2023-10-09T17:07:04.973202Z",
     "start_time": "2023-10-09T17:07:04.911656Z"
    }
   },
   "id": "d91148be2b5f0616"
  },
  {
   "cell_type": "code",
   "execution_count": 16,
   "outputs": [],
   "source": [
    "united_m.to_csv('./data/itter3.csv', index=False)"
   ],
   "metadata": {
    "collapsed": false,
    "ExecuteTime": {
     "end_time": "2023-10-09T17:08:20.708111Z",
     "start_time": "2023-10-09T17:07:23.757041Z"
    }
   },
   "id": "e3b0f89ab23dd4f2"
  },
  {
   "cell_type": "code",
   "execution_count": 54,
   "outputs": [
    {
     "name": "stderr",
     "output_type": "stream",
     "text": [
      "/var/folders/2k/kp7vx_k946ggnbsk9nnnx0sm0000gp/T/ipykernel_51398/925300397.py:1: DtypeWarning: Columns (16,19,20,21,22) have mixed types. Specify dtype option on import or set low_memory=False.\n",
      "  df_united = pd.read_csv('./data/itter3.csv')\n"
     ]
    }
   ],
   "source": [
    "df_united = pd.read_csv('./data/itter3.csv')"
   ],
   "metadata": {
    "collapsed": false,
    "ExecuteTime": {
     "end_time": "2023-10-09T18:19:23.098146Z",
     "start_time": "2023-10-09T18:18:58.706115Z"
    }
   },
   "id": "7f9d04d2f9a812bd"
  },
  {
   "cell_type": "code",
   "execution_count": 55,
   "outputs": [
    {
     "data": {
      "text/plain": "                         asset_code              device_serial_number  \\\n0  f0e62c0d7c98d3ae3e27a3c6dd4bd49f  de04edac04674cc11bee2286fdf5b7d0   \n1  f0e62c0d7c98d3ae3e27a3c6dd4bd49f  de04edac04674cc11bee2286fdf5b7d0   \n2  f0e62c0d7c98d3ae3e27a3c6dd4bd49f  de04edac04674cc11bee2286fdf5b7d0   \n3  f0e62c0d7c98d3ae3e27a3c6dd4bd49f  de04edac04674cc11bee2286fdf5b7d0   \n4  f0e62c0d7c98d3ae3e27a3c6dd4bd49f  de04edac04674cc11bee2286fdf5b7d0   \n5  f0e62c0d7c98d3ae3e27a3c6dd4bd49f  de04edac04674cc11bee2286fdf5b7d0   \n6  f0e62c0d7c98d3ae3e27a3c6dd4bd49f  de04edac04674cc11bee2286fdf5b7d0   \n7  f0e62c0d7c98d3ae3e27a3c6dd4bd49f  de04edac04674cc11bee2286fdf5b7d0   \n8  f0e62c0d7c98d3ae3e27a3c6dd4bd49f  de04edac04674cc11bee2286fdf5b7d0   \n9  f0e62c0d7c98d3ae3e27a3c6dd4bd49f  de04edac04674cc11bee2286fdf5b7d0   \n\n              date_add    asset_class asset_maintenance_class  \\\n0  2022-07-30 20:56:39  FL - FORKLIFT                GSE-M-FL   \n1  2022-07-30 20:56:39  FL - FORKLIFT                GSE-M-FL   \n2  2022-07-30 20:56:49  FL - FORKLIFT                GSE-M-FL   \n3  2022-07-30 20:56:49  FL - FORKLIFT                GSE-M-FL   \n4  2022-07-30 20:57:09  FL - FORKLIFT                GSE-M-FL   \n5  2022-07-30 20:57:09  FL - FORKLIFT                GSE-M-FL   \n6  2022-07-30 20:57:35  FL - FORKLIFT                GSE-M-FL   \n7  2022-07-30 20:57:35  FL - FORKLIFT                GSE-M-FL   \n8  2022-07-30 20:57:48  FL - FORKLIFT                GSE-M-FL   \n9  2022-07-30 20:57:48  FL - FORKLIFT                GSE-M-FL   \n\n   is_asset_motorized asset_department asset_energy_type  \\\n0                True         AO-CARGO                 B   \n1                True         AO-CARGO                 B   \n2                True         AO-CARGO                 B   \n3                True         AO-CARGO                 B   \n4                True         AO-CARGO                 B   \n5                True         AO-CARGO                 B   \n6                True         AO-CARGO                 B   \n7                True         AO-CARGO                 B   \n8                True         AO-CARGO                 B   \n9                True         AO-CARGO                 B   \n\n            manufacturer_short_name asset_model  ...  \\\n0  e96631e72480d283f74b42e8903b0344    E50XM-33  ...   \n1  e96631e72480d283f74b42e8903b0344    E50XM-33  ...   \n2  e96631e72480d283f74b42e8903b0344    E50XM-33  ...   \n3  e96631e72480d283f74b42e8903b0344    E50XM-33  ...   \n4  e96631e72480d283f74b42e8903b0344    E50XM-33  ...   \n5  e96631e72480d283f74b42e8903b0344    E50XM-33  ...   \n6  e96631e72480d283f74b42e8903b0344    E50XM-33  ...   \n7  e96631e72480d283f74b42e8903b0344    E50XM-33  ...   \n8  e96631e72480d283f74b42e8903b0344    E50XM-33  ...   \n9  e96631e72480d283f74b42e8903b0344    E50XM-33  ...   \n\n                                zone_id  gate_number  geofence_kind  \\\n0  5edbfd7d-01ce-b39e-da73-ba45d73e8953          NaN            NaN   \n1  b675d382-2a22-0d5c-637f-1b097dc7028c          NaN            ORD   \n2  5edbfd7d-01ce-b39e-da73-ba45d73e8953          NaN            NaN   \n3  b675d382-2a22-0d5c-637f-1b097dc7028c          NaN            ORD   \n4  b675d382-2a22-0d5c-637f-1b097dc7028c          NaN            ORD   \n5  5edbfd7d-01ce-b39e-da73-ba45d73e8953          NaN            NaN   \n6  5edbfd7d-01ce-b39e-da73-ba45d73e8953          NaN            NaN   \n7  b675d382-2a22-0d5c-637f-1b097dc7028c          NaN            ORD   \n8  5edbfd7d-01ce-b39e-da73-ba45d73e8953          NaN            NaN   \n9  b675d382-2a22-0d5c-637f-1b097dc7028c          NaN            ORD   \n\n   asset_engine_hours  asset_idle_indicator engine_running_indicator  \\\n0                 0.0                 False                     True   \n1                 0.0                 False                     True   \n2                 0.0                 False                     True   \n3                 0.0                 False                     True   \n4                 0.0                 False                     True   \n5                 0.0                 False                     True   \n6                 0.0                 False                     True   \n7                 0.0                 False                     True   \n8                 0.0                 False                     True   \n9                 0.0                 False                     True   \n\n  asset_working_indicator asset_moving_indicator  is_asset_in_shop maintenance  \n0                    True                  False              True           0  \n1                    True                  False              True           0  \n2                    True                  False              True           0  \n3                    True                  False              True           0  \n4                    True                  False              True           0  \n5                    True                  False              True           0  \n6                    True                  False              True           0  \n7                    True                  False              True           0  \n8                    True                  False              True           0  \n9                    True                  False              True           0  \n\n[10 rows x 25 columns]",
      "text/html": "<div>\n<style scoped>\n    .dataframe tbody tr th:only-of-type {\n        vertical-align: middle;\n    }\n\n    .dataframe tbody tr th {\n        vertical-align: top;\n    }\n\n    .dataframe thead th {\n        text-align: right;\n    }\n</style>\n<table border=\"1\" class=\"dataframe\">\n  <thead>\n    <tr style=\"text-align: right;\">\n      <th></th>\n      <th>asset_code</th>\n      <th>device_serial_number</th>\n      <th>date_add</th>\n      <th>asset_class</th>\n      <th>asset_maintenance_class</th>\n      <th>is_asset_motorized</th>\n      <th>asset_department</th>\n      <th>asset_energy_type</th>\n      <th>manufacturer_short_name</th>\n      <th>asset_model</th>\n      <th>...</th>\n      <th>zone_id</th>\n      <th>gate_number</th>\n      <th>geofence_kind</th>\n      <th>asset_engine_hours</th>\n      <th>asset_idle_indicator</th>\n      <th>engine_running_indicator</th>\n      <th>asset_working_indicator</th>\n      <th>asset_moving_indicator</th>\n      <th>is_asset_in_shop</th>\n      <th>maintenance</th>\n    </tr>\n  </thead>\n  <tbody>\n    <tr>\n      <th>0</th>\n      <td>f0e62c0d7c98d3ae3e27a3c6dd4bd49f</td>\n      <td>de04edac04674cc11bee2286fdf5b7d0</td>\n      <td>2022-07-30 20:56:39</td>\n      <td>FL - FORKLIFT</td>\n      <td>GSE-M-FL</td>\n      <td>True</td>\n      <td>AO-CARGO</td>\n      <td>B</td>\n      <td>e96631e72480d283f74b42e8903b0344</td>\n      <td>E50XM-33</td>\n      <td>...</td>\n      <td>5edbfd7d-01ce-b39e-da73-ba45d73e8953</td>\n      <td>NaN</td>\n      <td>NaN</td>\n      <td>0.0</td>\n      <td>False</td>\n      <td>True</td>\n      <td>True</td>\n      <td>False</td>\n      <td>True</td>\n      <td>0</td>\n    </tr>\n    <tr>\n      <th>1</th>\n      <td>f0e62c0d7c98d3ae3e27a3c6dd4bd49f</td>\n      <td>de04edac04674cc11bee2286fdf5b7d0</td>\n      <td>2022-07-30 20:56:39</td>\n      <td>FL - FORKLIFT</td>\n      <td>GSE-M-FL</td>\n      <td>True</td>\n      <td>AO-CARGO</td>\n      <td>B</td>\n      <td>e96631e72480d283f74b42e8903b0344</td>\n      <td>E50XM-33</td>\n      <td>...</td>\n      <td>b675d382-2a22-0d5c-637f-1b097dc7028c</td>\n      <td>NaN</td>\n      <td>ORD</td>\n      <td>0.0</td>\n      <td>False</td>\n      <td>True</td>\n      <td>True</td>\n      <td>False</td>\n      <td>True</td>\n      <td>0</td>\n    </tr>\n    <tr>\n      <th>2</th>\n      <td>f0e62c0d7c98d3ae3e27a3c6dd4bd49f</td>\n      <td>de04edac04674cc11bee2286fdf5b7d0</td>\n      <td>2022-07-30 20:56:49</td>\n      <td>FL - FORKLIFT</td>\n      <td>GSE-M-FL</td>\n      <td>True</td>\n      <td>AO-CARGO</td>\n      <td>B</td>\n      <td>e96631e72480d283f74b42e8903b0344</td>\n      <td>E50XM-33</td>\n      <td>...</td>\n      <td>5edbfd7d-01ce-b39e-da73-ba45d73e8953</td>\n      <td>NaN</td>\n      <td>NaN</td>\n      <td>0.0</td>\n      <td>False</td>\n      <td>True</td>\n      <td>True</td>\n      <td>False</td>\n      <td>True</td>\n      <td>0</td>\n    </tr>\n    <tr>\n      <th>3</th>\n      <td>f0e62c0d7c98d3ae3e27a3c6dd4bd49f</td>\n      <td>de04edac04674cc11bee2286fdf5b7d0</td>\n      <td>2022-07-30 20:56:49</td>\n      <td>FL - FORKLIFT</td>\n      <td>GSE-M-FL</td>\n      <td>True</td>\n      <td>AO-CARGO</td>\n      <td>B</td>\n      <td>e96631e72480d283f74b42e8903b0344</td>\n      <td>E50XM-33</td>\n      <td>...</td>\n      <td>b675d382-2a22-0d5c-637f-1b097dc7028c</td>\n      <td>NaN</td>\n      <td>ORD</td>\n      <td>0.0</td>\n      <td>False</td>\n      <td>True</td>\n      <td>True</td>\n      <td>False</td>\n      <td>True</td>\n      <td>0</td>\n    </tr>\n    <tr>\n      <th>4</th>\n      <td>f0e62c0d7c98d3ae3e27a3c6dd4bd49f</td>\n      <td>de04edac04674cc11bee2286fdf5b7d0</td>\n      <td>2022-07-30 20:57:09</td>\n      <td>FL - FORKLIFT</td>\n      <td>GSE-M-FL</td>\n      <td>True</td>\n      <td>AO-CARGO</td>\n      <td>B</td>\n      <td>e96631e72480d283f74b42e8903b0344</td>\n      <td>E50XM-33</td>\n      <td>...</td>\n      <td>b675d382-2a22-0d5c-637f-1b097dc7028c</td>\n      <td>NaN</td>\n      <td>ORD</td>\n      <td>0.0</td>\n      <td>False</td>\n      <td>True</td>\n      <td>True</td>\n      <td>False</td>\n      <td>True</td>\n      <td>0</td>\n    </tr>\n    <tr>\n      <th>5</th>\n      <td>f0e62c0d7c98d3ae3e27a3c6dd4bd49f</td>\n      <td>de04edac04674cc11bee2286fdf5b7d0</td>\n      <td>2022-07-30 20:57:09</td>\n      <td>FL - FORKLIFT</td>\n      <td>GSE-M-FL</td>\n      <td>True</td>\n      <td>AO-CARGO</td>\n      <td>B</td>\n      <td>e96631e72480d283f74b42e8903b0344</td>\n      <td>E50XM-33</td>\n      <td>...</td>\n      <td>5edbfd7d-01ce-b39e-da73-ba45d73e8953</td>\n      <td>NaN</td>\n      <td>NaN</td>\n      <td>0.0</td>\n      <td>False</td>\n      <td>True</td>\n      <td>True</td>\n      <td>False</td>\n      <td>True</td>\n      <td>0</td>\n    </tr>\n    <tr>\n      <th>6</th>\n      <td>f0e62c0d7c98d3ae3e27a3c6dd4bd49f</td>\n      <td>de04edac04674cc11bee2286fdf5b7d0</td>\n      <td>2022-07-30 20:57:35</td>\n      <td>FL - FORKLIFT</td>\n      <td>GSE-M-FL</td>\n      <td>True</td>\n      <td>AO-CARGO</td>\n      <td>B</td>\n      <td>e96631e72480d283f74b42e8903b0344</td>\n      <td>E50XM-33</td>\n      <td>...</td>\n      <td>5edbfd7d-01ce-b39e-da73-ba45d73e8953</td>\n      <td>NaN</td>\n      <td>NaN</td>\n      <td>0.0</td>\n      <td>False</td>\n      <td>True</td>\n      <td>True</td>\n      <td>False</td>\n      <td>True</td>\n      <td>0</td>\n    </tr>\n    <tr>\n      <th>7</th>\n      <td>f0e62c0d7c98d3ae3e27a3c6dd4bd49f</td>\n      <td>de04edac04674cc11bee2286fdf5b7d0</td>\n      <td>2022-07-30 20:57:35</td>\n      <td>FL - FORKLIFT</td>\n      <td>GSE-M-FL</td>\n      <td>True</td>\n      <td>AO-CARGO</td>\n      <td>B</td>\n      <td>e96631e72480d283f74b42e8903b0344</td>\n      <td>E50XM-33</td>\n      <td>...</td>\n      <td>b675d382-2a22-0d5c-637f-1b097dc7028c</td>\n      <td>NaN</td>\n      <td>ORD</td>\n      <td>0.0</td>\n      <td>False</td>\n      <td>True</td>\n      <td>True</td>\n      <td>False</td>\n      <td>True</td>\n      <td>0</td>\n    </tr>\n    <tr>\n      <th>8</th>\n      <td>f0e62c0d7c98d3ae3e27a3c6dd4bd49f</td>\n      <td>de04edac04674cc11bee2286fdf5b7d0</td>\n      <td>2022-07-30 20:57:48</td>\n      <td>FL - FORKLIFT</td>\n      <td>GSE-M-FL</td>\n      <td>True</td>\n      <td>AO-CARGO</td>\n      <td>B</td>\n      <td>e96631e72480d283f74b42e8903b0344</td>\n      <td>E50XM-33</td>\n      <td>...</td>\n      <td>5edbfd7d-01ce-b39e-da73-ba45d73e8953</td>\n      <td>NaN</td>\n      <td>NaN</td>\n      <td>0.0</td>\n      <td>False</td>\n      <td>True</td>\n      <td>True</td>\n      <td>False</td>\n      <td>True</td>\n      <td>0</td>\n    </tr>\n    <tr>\n      <th>9</th>\n      <td>f0e62c0d7c98d3ae3e27a3c6dd4bd49f</td>\n      <td>de04edac04674cc11bee2286fdf5b7d0</td>\n      <td>2022-07-30 20:57:48</td>\n      <td>FL - FORKLIFT</td>\n      <td>GSE-M-FL</td>\n      <td>True</td>\n      <td>AO-CARGO</td>\n      <td>B</td>\n      <td>e96631e72480d283f74b42e8903b0344</td>\n      <td>E50XM-33</td>\n      <td>...</td>\n      <td>b675d382-2a22-0d5c-637f-1b097dc7028c</td>\n      <td>NaN</td>\n      <td>ORD</td>\n      <td>0.0</td>\n      <td>False</td>\n      <td>True</td>\n      <td>True</td>\n      <td>False</td>\n      <td>True</td>\n      <td>0</td>\n    </tr>\n  </tbody>\n</table>\n<p>10 rows × 25 columns</p>\n</div>"
     },
     "execution_count": 55,
     "metadata": {},
     "output_type": "execute_result"
    }
   ],
   "source": [
    "df_united.head(10)"
   ],
   "metadata": {
    "collapsed": false,
    "ExecuteTime": {
     "end_time": "2023-10-09T18:19:23.145168Z",
     "start_time": "2023-10-09T18:19:23.120669Z"
    }
   },
   "id": "ee1083b3bb7aaf41"
  },
  {
   "cell_type": "markdown",
   "source": [
    "## 4. Exclude assets that were never or almost always in maintenance."
   ],
   "metadata": {
    "collapsed": false
   },
   "id": "6757785630f49e31"
  },
  {
   "cell_type": "code",
   "execution_count": 59,
   "outputs": [
    {
     "name": "stderr",
     "output_type": "stream",
     "text": [
      "/var/folders/2k/kp7vx_k946ggnbsk9nnnx0sm0000gp/T/ipykernel_51398/626363650.py:3: SettingWithCopyWarning: \n",
      "A value is trying to be set on a copy of a slice from a DataFrame.\n",
      "Try using .loc[row_indexer,col_indexer] = value instead\n",
      "\n",
      "See the caveats in the documentation: https://pandas.pydata.org/pandas-docs/stable/user_guide/indexing.html#returning-a-view-versus-a-copy\n",
      "  assets_with_maintenance['diff'] = (assets_with_maintenance['count'] - assets_with_maintenance['sum'])/assets_with_maintenance['count']*100\n"
     ]
    },
    {
     "data": {
      "text/plain": "                                     sum   count       diff\nasset_code                                                 \n0365123cd59df1d963e6636d16a2804b   14894   16070   7.317984\n0e0d2c7e8a38891cd48486202e8849f5   20744   21855   5.083505\n0e5f496ccb0bfa76a37d771fe9a4dea7     740   25330  97.078563\n25b14516c5ab78ed3347672730997645   53991   54132   0.260474\n3294d0997aab7753e044a79e6e2aa915      26   29514  99.911906\n3dfa06ba4c9becbb5ffbeb40d9b2f308   25390   26249   3.272506\n4600499b623817d0e4ff062805e7019b      80     512  84.375000\n47c678492b8a4ef9e8821bf6aa6e9088   79980   80779   0.989118\n48dae21f66dd7f90ca47956c18213f43      28   28264  99.900934\n4b3d6d68dffd7210f038e668ecafab54   33699   34065   1.074417\n57aba1d5ec5943d70ec8d0fc74ee6259   57450   57608   0.274267\n5976dbf31c22f2b01c224707f89e21bb      14   68507  99.979564\n602985d76c856c1b4c26915575adbe13    7960   61375  87.030550\n630306105fb835c017786d54e33be001    7794    7864   0.890132\n630e47544807093663313d1fdfb4bd73   28922  258556  88.814029\n70bc5f574e0a313420b1618a793b9344   11020   11522   4.356882\n76c24b4e991cbbb2953aeaabdb8054c9      16  327464  99.995114\n90d45282e87ac3ecb3578f03775dcbac    2134    2229   4.262001\nb21b1ba46ec478ee0bc7287d7887c849    1956    2702  27.609178\nbb48c9ed82a886aea955299d3c3adc3d   10650   10858   1.915638\nbbbbf35a95c8ec28f1c2a92b13e43708    4648    5128   9.360374\nd0eef70df23bf5e68d75f6ed19934dbb   26486   39452  32.865254\nd7002b9ffa2f5d604fda030f3ad1682d    1846    2694  31.477357\nd84abeece25b9b67956649682d40a076   29827   30927   3.556763\ne4b07aea0b950a397989c1d716bb7f2b    1130   15429  92.676129\ne732753220e8868d1b87335c3ed8c16a  135214  153783  12.074807\nffe6dac68e2c4b78c43d7b308c4e5dae     692   74694  99.073553",
      "text/html": "<div>\n<style scoped>\n    .dataframe tbody tr th:only-of-type {\n        vertical-align: middle;\n    }\n\n    .dataframe tbody tr th {\n        vertical-align: top;\n    }\n\n    .dataframe thead th {\n        text-align: right;\n    }\n</style>\n<table border=\"1\" class=\"dataframe\">\n  <thead>\n    <tr style=\"text-align: right;\">\n      <th></th>\n      <th>sum</th>\n      <th>count</th>\n      <th>diff</th>\n    </tr>\n    <tr>\n      <th>asset_code</th>\n      <th></th>\n      <th></th>\n      <th></th>\n    </tr>\n  </thead>\n  <tbody>\n    <tr>\n      <th>0365123cd59df1d963e6636d16a2804b</th>\n      <td>14894</td>\n      <td>16070</td>\n      <td>7.317984</td>\n    </tr>\n    <tr>\n      <th>0e0d2c7e8a38891cd48486202e8849f5</th>\n      <td>20744</td>\n      <td>21855</td>\n      <td>5.083505</td>\n    </tr>\n    <tr>\n      <th>0e5f496ccb0bfa76a37d771fe9a4dea7</th>\n      <td>740</td>\n      <td>25330</td>\n      <td>97.078563</td>\n    </tr>\n    <tr>\n      <th>25b14516c5ab78ed3347672730997645</th>\n      <td>53991</td>\n      <td>54132</td>\n      <td>0.260474</td>\n    </tr>\n    <tr>\n      <th>3294d0997aab7753e044a79e6e2aa915</th>\n      <td>26</td>\n      <td>29514</td>\n      <td>99.911906</td>\n    </tr>\n    <tr>\n      <th>3dfa06ba4c9becbb5ffbeb40d9b2f308</th>\n      <td>25390</td>\n      <td>26249</td>\n      <td>3.272506</td>\n    </tr>\n    <tr>\n      <th>4600499b623817d0e4ff062805e7019b</th>\n      <td>80</td>\n      <td>512</td>\n      <td>84.375000</td>\n    </tr>\n    <tr>\n      <th>47c678492b8a4ef9e8821bf6aa6e9088</th>\n      <td>79980</td>\n      <td>80779</td>\n      <td>0.989118</td>\n    </tr>\n    <tr>\n      <th>48dae21f66dd7f90ca47956c18213f43</th>\n      <td>28</td>\n      <td>28264</td>\n      <td>99.900934</td>\n    </tr>\n    <tr>\n      <th>4b3d6d68dffd7210f038e668ecafab54</th>\n      <td>33699</td>\n      <td>34065</td>\n      <td>1.074417</td>\n    </tr>\n    <tr>\n      <th>57aba1d5ec5943d70ec8d0fc74ee6259</th>\n      <td>57450</td>\n      <td>57608</td>\n      <td>0.274267</td>\n    </tr>\n    <tr>\n      <th>5976dbf31c22f2b01c224707f89e21bb</th>\n      <td>14</td>\n      <td>68507</td>\n      <td>99.979564</td>\n    </tr>\n    <tr>\n      <th>602985d76c856c1b4c26915575adbe13</th>\n      <td>7960</td>\n      <td>61375</td>\n      <td>87.030550</td>\n    </tr>\n    <tr>\n      <th>630306105fb835c017786d54e33be001</th>\n      <td>7794</td>\n      <td>7864</td>\n      <td>0.890132</td>\n    </tr>\n    <tr>\n      <th>630e47544807093663313d1fdfb4bd73</th>\n      <td>28922</td>\n      <td>258556</td>\n      <td>88.814029</td>\n    </tr>\n    <tr>\n      <th>70bc5f574e0a313420b1618a793b9344</th>\n      <td>11020</td>\n      <td>11522</td>\n      <td>4.356882</td>\n    </tr>\n    <tr>\n      <th>76c24b4e991cbbb2953aeaabdb8054c9</th>\n      <td>16</td>\n      <td>327464</td>\n      <td>99.995114</td>\n    </tr>\n    <tr>\n      <th>90d45282e87ac3ecb3578f03775dcbac</th>\n      <td>2134</td>\n      <td>2229</td>\n      <td>4.262001</td>\n    </tr>\n    <tr>\n      <th>b21b1ba46ec478ee0bc7287d7887c849</th>\n      <td>1956</td>\n      <td>2702</td>\n      <td>27.609178</td>\n    </tr>\n    <tr>\n      <th>bb48c9ed82a886aea955299d3c3adc3d</th>\n      <td>10650</td>\n      <td>10858</td>\n      <td>1.915638</td>\n    </tr>\n    <tr>\n      <th>bbbbf35a95c8ec28f1c2a92b13e43708</th>\n      <td>4648</td>\n      <td>5128</td>\n      <td>9.360374</td>\n    </tr>\n    <tr>\n      <th>d0eef70df23bf5e68d75f6ed19934dbb</th>\n      <td>26486</td>\n      <td>39452</td>\n      <td>32.865254</td>\n    </tr>\n    <tr>\n      <th>d7002b9ffa2f5d604fda030f3ad1682d</th>\n      <td>1846</td>\n      <td>2694</td>\n      <td>31.477357</td>\n    </tr>\n    <tr>\n      <th>d84abeece25b9b67956649682d40a076</th>\n      <td>29827</td>\n      <td>30927</td>\n      <td>3.556763</td>\n    </tr>\n    <tr>\n      <th>e4b07aea0b950a397989c1d716bb7f2b</th>\n      <td>1130</td>\n      <td>15429</td>\n      <td>92.676129</td>\n    </tr>\n    <tr>\n      <th>e732753220e8868d1b87335c3ed8c16a</th>\n      <td>135214</td>\n      <td>153783</td>\n      <td>12.074807</td>\n    </tr>\n    <tr>\n      <th>ffe6dac68e2c4b78c43d7b308c4e5dae</th>\n      <td>692</td>\n      <td>74694</td>\n      <td>99.073553</td>\n    </tr>\n  </tbody>\n</table>\n</div>"
     },
     "execution_count": 59,
     "metadata": {},
     "output_type": "execute_result"
    }
   ],
   "source": [
    "any_data_assets = df_united.groupby('asset_code')['maintenance'].agg(['sum','count'])\n",
    "assets_with_maintenance = any_data_assets[any_data_assets['sum'] >0]\n",
    "assets_with_maintenance['diff'] = (assets_with_maintenance['count'] - assets_with_maintenance['sum'])/assets_with_maintenance['count']*100\n",
    "assets_with_maintenance"
   ],
   "metadata": {
    "collapsed": false,
    "ExecuteTime": {
     "end_time": "2023-10-09T18:24:47.443098Z",
     "start_time": "2023-10-09T18:24:47.123780Z"
    }
   },
   "id": "4e607ebbba21d107"
  },
  {
   "cell_type": "code",
   "execution_count": 60,
   "outputs": [
    {
     "data": {
      "text/plain": "                                     sum   count       diff\nasset_code                                                 \n0365123cd59df1d963e6636d16a2804b   14894   16070   7.317984\n0e0d2c7e8a38891cd48486202e8849f5   20744   21855   5.083505\n0e5f496ccb0bfa76a37d771fe9a4dea7     740   25330  97.078563\n3294d0997aab7753e044a79e6e2aa915      26   29514  99.911906\n4600499b623817d0e4ff062805e7019b      80     512  84.375000\n48dae21f66dd7f90ca47956c18213f43      28   28264  99.900934\n5976dbf31c22f2b01c224707f89e21bb      14   68507  99.979564\n602985d76c856c1b4c26915575adbe13    7960   61375  87.030550\n630e47544807093663313d1fdfb4bd73   28922  258556  88.814029\n76c24b4e991cbbb2953aeaabdb8054c9      16  327464  99.995114\nb21b1ba46ec478ee0bc7287d7887c849    1956    2702  27.609178\nbbbbf35a95c8ec28f1c2a92b13e43708    4648    5128   9.360374\nd0eef70df23bf5e68d75f6ed19934dbb   26486   39452  32.865254\nd7002b9ffa2f5d604fda030f3ad1682d    1846    2694  31.477357\ne4b07aea0b950a397989c1d716bb7f2b    1130   15429  92.676129\ne732753220e8868d1b87335c3ed8c16a  135214  153783  12.074807\nffe6dac68e2c4b78c43d7b308c4e5dae     692   74694  99.073553",
      "text/html": "<div>\n<style scoped>\n    .dataframe tbody tr th:only-of-type {\n        vertical-align: middle;\n    }\n\n    .dataframe tbody tr th {\n        vertical-align: top;\n    }\n\n    .dataframe thead th {\n        text-align: right;\n    }\n</style>\n<table border=\"1\" class=\"dataframe\">\n  <thead>\n    <tr style=\"text-align: right;\">\n      <th></th>\n      <th>sum</th>\n      <th>count</th>\n      <th>diff</th>\n    </tr>\n    <tr>\n      <th>asset_code</th>\n      <th></th>\n      <th></th>\n      <th></th>\n    </tr>\n  </thead>\n  <tbody>\n    <tr>\n      <th>0365123cd59df1d963e6636d16a2804b</th>\n      <td>14894</td>\n      <td>16070</td>\n      <td>7.317984</td>\n    </tr>\n    <tr>\n      <th>0e0d2c7e8a38891cd48486202e8849f5</th>\n      <td>20744</td>\n      <td>21855</td>\n      <td>5.083505</td>\n    </tr>\n    <tr>\n      <th>0e5f496ccb0bfa76a37d771fe9a4dea7</th>\n      <td>740</td>\n      <td>25330</td>\n      <td>97.078563</td>\n    </tr>\n    <tr>\n      <th>3294d0997aab7753e044a79e6e2aa915</th>\n      <td>26</td>\n      <td>29514</td>\n      <td>99.911906</td>\n    </tr>\n    <tr>\n      <th>4600499b623817d0e4ff062805e7019b</th>\n      <td>80</td>\n      <td>512</td>\n      <td>84.375000</td>\n    </tr>\n    <tr>\n      <th>48dae21f66dd7f90ca47956c18213f43</th>\n      <td>28</td>\n      <td>28264</td>\n      <td>99.900934</td>\n    </tr>\n    <tr>\n      <th>5976dbf31c22f2b01c224707f89e21bb</th>\n      <td>14</td>\n      <td>68507</td>\n      <td>99.979564</td>\n    </tr>\n    <tr>\n      <th>602985d76c856c1b4c26915575adbe13</th>\n      <td>7960</td>\n      <td>61375</td>\n      <td>87.030550</td>\n    </tr>\n    <tr>\n      <th>630e47544807093663313d1fdfb4bd73</th>\n      <td>28922</td>\n      <td>258556</td>\n      <td>88.814029</td>\n    </tr>\n    <tr>\n      <th>76c24b4e991cbbb2953aeaabdb8054c9</th>\n      <td>16</td>\n      <td>327464</td>\n      <td>99.995114</td>\n    </tr>\n    <tr>\n      <th>b21b1ba46ec478ee0bc7287d7887c849</th>\n      <td>1956</td>\n      <td>2702</td>\n      <td>27.609178</td>\n    </tr>\n    <tr>\n      <th>bbbbf35a95c8ec28f1c2a92b13e43708</th>\n      <td>4648</td>\n      <td>5128</td>\n      <td>9.360374</td>\n    </tr>\n    <tr>\n      <th>d0eef70df23bf5e68d75f6ed19934dbb</th>\n      <td>26486</td>\n      <td>39452</td>\n      <td>32.865254</td>\n    </tr>\n    <tr>\n      <th>d7002b9ffa2f5d604fda030f3ad1682d</th>\n      <td>1846</td>\n      <td>2694</td>\n      <td>31.477357</td>\n    </tr>\n    <tr>\n      <th>e4b07aea0b950a397989c1d716bb7f2b</th>\n      <td>1130</td>\n      <td>15429</td>\n      <td>92.676129</td>\n    </tr>\n    <tr>\n      <th>e732753220e8868d1b87335c3ed8c16a</th>\n      <td>135214</td>\n      <td>153783</td>\n      <td>12.074807</td>\n    </tr>\n    <tr>\n      <th>ffe6dac68e2c4b78c43d7b308c4e5dae</th>\n      <td>692</td>\n      <td>74694</td>\n      <td>99.073553</td>\n    </tr>\n  </tbody>\n</table>\n</div>"
     },
     "execution_count": 60,
     "metadata": {},
     "output_type": "execute_result"
    }
   ],
   "source": [
    "asset_for_model = assets_with_maintenance[assets_with_maintenance['diff']>5]\n",
    "asset_for_model"
   ],
   "metadata": {
    "collapsed": false,
    "ExecuteTime": {
     "end_time": "2023-10-09T18:27:27.675937Z",
     "start_time": "2023-10-09T18:27:27.644902Z"
    }
   },
   "id": "fa55e7240db1469a"
  },
  {
   "cell_type": "markdown",
   "source": [
    " ## From 60 assets only 17 are suitable for a model (threshold: less than 95% measurements in maintenance)"
   ],
   "metadata": {
    "collapsed": false
   },
   "id": "dc65b1bd1fe6831f"
  },
  {
   "cell_type": "code",
   "execution_count": 61,
   "outputs": [
    {
     "data": {
      "text/plain": "['d823afa44245f7aeee4333b30b951f90',\n '14ff01562cb5256e7059e3b3e0d38c5d',\n '1a1f3f87910ca6e29543b0205de708e9',\n '23dd942a301bf6e936ae44fe1913b00d',\n 'f6db2e6a5768418f61351ee2b389f21d',\n '47c678492b8a4ef9e8821bf6aa6e9088',\n '57aba1d5ec5943d70ec8d0fc74ee6259',\n '25b14516c5ab78ed3347672730997645',\n '56afe1198249b716070a5f65aeb000bd',\n '4b3d6d68dffd7210f038e668ecafab54',\n 'd84abeece25b9b67956649682d40a076',\n 'f0e62c0d7c98d3ae3e27a3c6dd4bd49f',\n '3dfa06ba4c9becbb5ffbeb40d9b2f308',\n '17f66ebeb86e77de0a96840bead21127',\n 'ce4a93b509b0ff09ce57d8109a32370d',\n 'f6d6f43f49775b6c0006c2c82ea279ca',\n '6efb30dd2b79051d8282c4c27b7390bc',\n '4d5135c1774284c10bc35a936ad445f2',\n 'f89ec638e616242965eef552d8fce449',\n '70bc5f574e0a313420b1618a793b9344',\n 'bb48c9ed82a886aea955299d3c3adc3d',\n 'b7eff7b81cfbda434d445a171bdb6020',\n 'c3489cc3541660e450a5311114b4bba9',\n '34fe96f06b62f9f849fde92d9c9374d6',\n '630306105fb835c017786d54e33be001',\n '54b4f3081b41d55cdf71b1ad8bde5c23',\n '01305fdba7a7c5b8bb94391666f8ed05',\n '79b64ec2b4172a7de37897359b3daa3d',\n 'cc5fd82542f4d890d9edd9dc660759f9',\n 'b1b49107b14f06aa807cebc5720ba95e',\n 'f5011ef461e16ff185b5331bdace7436',\n '6bd3d9e3267670d3120c4f50b8094c0f',\n '8ecd9626e6cc6d0e71b9e23221b5360e',\n '90d45282e87ac3ecb3578f03775dcbac',\n '903460e4221fdf4139aaed686f1df971',\n '7e9e9047606a7b1f4ef58705d30a435c',\n 'ae41418723425f52c52be5993505a1cc',\n '6b830b2c020485159175f15d35a8cb33',\n '20787f57028eede5e595a2e921be696d',\n 'a62f56daf691399bd15adbb7a99555cd',\n '5ecec77cbb8a5b1ff943c1de573044e3',\n 'be84093f49f7332ed00a4b148513fd8a',\n 'c30f281d8f65f185ce2d67991fb04149']"
     },
     "execution_count": 61,
     "metadata": {},
     "output_type": "execute_result"
    }
   ],
   "source": [
    "assets_to_del = [i for i in df_united.asset_code.value_counts().index if i not in asset_for_model.index]\n",
    "assets_to_del"
   ],
   "metadata": {
    "collapsed": false,
    "ExecuteTime": {
     "end_time": "2023-10-09T18:34:05.137439Z",
     "start_time": "2023-10-09T18:34:05.130835Z"
    }
   },
   "id": "2c43da23ca709413"
  },
  {
   "cell_type": "code",
   "execution_count": 62,
   "outputs": [],
   "source": [
    "df_united = df_united.set_index('asset_code').drop(assets_to_del, axis = 0)"
   ],
   "metadata": {
    "collapsed": false,
    "ExecuteTime": {
     "end_time": "2023-10-09T18:35:30.842841Z",
     "start_time": "2023-10-09T18:35:25.480086Z"
    }
   },
   "id": "c5025e42eb639fb"
  },
  {
   "cell_type": "code",
   "execution_count": 63,
   "outputs": [
    {
     "data": {
      "text/plain": "(1131329, 24)"
     },
     "execution_count": 63,
     "metadata": {},
     "output_type": "execute_result"
    }
   ],
   "source": [
    "df_united.shape"
   ],
   "metadata": {
    "collapsed": false,
    "ExecuteTime": {
     "end_time": "2023-10-09T18:35:41.260962Z",
     "start_time": "2023-10-09T18:35:41.229265Z"
    }
   },
   "id": "5ee1fa8e0a32c64d"
  },
  {
   "cell_type": "code",
   "execution_count": 65,
   "outputs": [],
   "source": [
    "df_united.to_csv('./data/itter5.csv')"
   ],
   "metadata": {
    "collapsed": false,
    "ExecuteTime": {
     "end_time": "2023-10-09T18:39:31.051796Z",
     "start_time": "2023-10-09T18:39:13.281589Z"
    }
   },
   "id": "f0ddbb495a303de0"
  },
  {
   "cell_type": "code",
   "execution_count": 66,
   "outputs": [],
   "source": [
    "df_united = pd.read_csv('./data/itter5.csv')"
   ],
   "metadata": {
    "collapsed": false,
    "ExecuteTime": {
     "end_time": "2023-10-09T18:39:42.717216Z",
     "start_time": "2023-10-09T18:39:34.170930Z"
    }
   },
   "id": "8b1f7ea05a35ae63"
  },
  {
   "cell_type": "code",
   "execution_count": 67,
   "outputs": [
    {
     "data": {
      "text/plain": "                          asset_code              device_serial_number  \\\n0   e4b07aea0b950a397989c1d716bb7f2b  02975c615594fa329b2e5a6f6d69d527   \n1   e4b07aea0b950a397989c1d716bb7f2b  02975c615594fa329b2e5a6f6d69d527   \n2   e4b07aea0b950a397989c1d716bb7f2b  02975c615594fa329b2e5a6f6d69d527   \n3   e4b07aea0b950a397989c1d716bb7f2b  02975c615594fa329b2e5a6f6d69d527   \n4   e4b07aea0b950a397989c1d716bb7f2b  02975c615594fa329b2e5a6f6d69d527   \n5   e4b07aea0b950a397989c1d716bb7f2b  02975c615594fa329b2e5a6f6d69d527   \n6   e4b07aea0b950a397989c1d716bb7f2b  02975c615594fa329b2e5a6f6d69d527   \n7   e4b07aea0b950a397989c1d716bb7f2b  02975c615594fa329b2e5a6f6d69d527   \n8   e4b07aea0b950a397989c1d716bb7f2b  02975c615594fa329b2e5a6f6d69d527   \n9   e4b07aea0b950a397989c1d716bb7f2b  02975c615594fa329b2e5a6f6d69d527   \n10  e4b07aea0b950a397989c1d716bb7f2b  02975c615594fa329b2e5a6f6d69d527   \n11  e4b07aea0b950a397989c1d716bb7f2b  02975c615594fa329b2e5a6f6d69d527   \n12  e4b07aea0b950a397989c1d716bb7f2b  02975c615594fa329b2e5a6f6d69d527   \n13  e4b07aea0b950a397989c1d716bb7f2b  02975c615594fa329b2e5a6f6d69d527   \n14  e4b07aea0b950a397989c1d716bb7f2b  02975c615594fa329b2e5a6f6d69d527   \n15  e4b07aea0b950a397989c1d716bb7f2b  02975c615594fa329b2e5a6f6d69d527   \n16  e4b07aea0b950a397989c1d716bb7f2b  02975c615594fa329b2e5a6f6d69d527   \n17  e4b07aea0b950a397989c1d716bb7f2b  02975c615594fa329b2e5a6f6d69d527   \n18  e4b07aea0b950a397989c1d716bb7f2b  02975c615594fa329b2e5a6f6d69d527   \n19  e4b07aea0b950a397989c1d716bb7f2b  02975c615594fa329b2e5a6f6d69d527   \n\n               date_add    asset_class asset_maintenance_class  \\\n0   2023-05-26 22:00:35  FL - FORKLIFT                GSE-M-FL   \n1   2023-05-26 22:00:35  FL - FORKLIFT                GSE-M-FL   \n2   2023-05-26 22:01:04  FL - FORKLIFT                GSE-M-FL   \n3   2023-05-26 22:01:04  FL - FORKLIFT                GSE-M-FL   \n4   2023-05-26 22:01:34  FL - FORKLIFT                GSE-M-FL   \n5   2023-05-26 22:01:34  FL - FORKLIFT                GSE-M-FL   \n6   2023-05-26 22:02:04  FL - FORKLIFT                GSE-M-FL   \n7   2023-05-26 22:02:04  FL - FORKLIFT                GSE-M-FL   \n8   2023-05-26 22:02:34  FL - FORKLIFT                GSE-M-FL   \n9   2023-05-26 22:02:34  FL - FORKLIFT                GSE-M-FL   \n10  2023-05-27 12:40:31  FL - FORKLIFT                GSE-M-FL   \n11  2023-05-27 12:40:31  FL - FORKLIFT                GSE-M-FL   \n12  2023-05-27 12:40:58  FL - FORKLIFT                GSE-M-FL   \n13  2023-05-27 12:40:58  FL - FORKLIFT                GSE-M-FL   \n14  2023-05-27 12:55:42  FL - FORKLIFT                GSE-M-FL   \n15  2023-05-27 12:55:42  FL - FORKLIFT                GSE-M-FL   \n16  2023-05-27 12:55:52  FL - FORKLIFT                GSE-M-FL   \n17  2023-05-27 12:55:52  FL - FORKLIFT                GSE-M-FL   \n18  2023-05-27 12:56:02  FL - FORKLIFT                GSE-M-FL   \n19  2023-05-27 12:56:12  FL - FORKLIFT                GSE-M-FL   \n\n    is_asset_motorized asset_department asset_energy_type  \\\n0                 True         AO-CARGO               DSL   \n1                 True         AO-CARGO               DSL   \n2                 True         AO-CARGO               DSL   \n3                 True         AO-CARGO               DSL   \n4                 True         AO-CARGO               DSL   \n5                 True         AO-CARGO               DSL   \n6                 True         AO-CARGO               DSL   \n7                 True         AO-CARGO               DSL   \n8                 True         AO-CARGO               DSL   \n9                 True         AO-CARGO               DSL   \n10                True         AO-CARGO               DSL   \n11                True         AO-CARGO               DSL   \n12                True         AO-CARGO               DSL   \n13                True         AO-CARGO               DSL   \n14                True         AO-CARGO               DSL   \n15                True         AO-CARGO               DSL   \n16                True         AO-CARGO               DSL   \n17                True         AO-CARGO               DSL   \n18                True         AO-CARGO               DSL   \n19                True         AO-CARGO               DSL   \n\n             manufacturer_short_name asset_model  ...  \\\n0   e96631e72480d283f74b42e8903b0344      H210XL  ...   \n1   e96631e72480d283f74b42e8903b0344      H210XL  ...   \n2   e96631e72480d283f74b42e8903b0344      H210XL  ...   \n3   e96631e72480d283f74b42e8903b0344      H210XL  ...   \n4   e96631e72480d283f74b42e8903b0344      H210XL  ...   \n5   e96631e72480d283f74b42e8903b0344      H210XL  ...   \n6   e96631e72480d283f74b42e8903b0344      H210XL  ...   \n7   e96631e72480d283f74b42e8903b0344      H210XL  ...   \n8   e96631e72480d283f74b42e8903b0344      H210XL  ...   \n9   e96631e72480d283f74b42e8903b0344      H210XL  ...   \n10  e96631e72480d283f74b42e8903b0344      H210XL  ...   \n11  e96631e72480d283f74b42e8903b0344      H210XL  ...   \n12  e96631e72480d283f74b42e8903b0344      H210XL  ...   \n13  e96631e72480d283f74b42e8903b0344      H210XL  ...   \n14  e96631e72480d283f74b42e8903b0344      H210XL  ...   \n15  e96631e72480d283f74b42e8903b0344      H210XL  ...   \n16  e96631e72480d283f74b42e8903b0344      H210XL  ...   \n17  e96631e72480d283f74b42e8903b0344      H210XL  ...   \n18  e96631e72480d283f74b42e8903b0344      H210XL  ...   \n19  e96631e72480d283f74b42e8903b0344      H210XL  ...   \n\n                                 zone_id  gate_number  geofence_kind  \\\n0   5edbfd7d-01ce-b39e-da73-ba45d73e8953          NaN            NaN   \n1   b675d382-2a22-0d5c-637f-1b097dc7028c          NaN            ORD   \n2   b675d382-2a22-0d5c-637f-1b097dc7028c          NaN            ORD   \n3   5edbfd7d-01ce-b39e-da73-ba45d73e8953          NaN            NaN   \n4   5edbfd7d-01ce-b39e-da73-ba45d73e8953          NaN            NaN   \n5   b675d382-2a22-0d5c-637f-1b097dc7028c          NaN            ORD   \n6   b675d382-2a22-0d5c-637f-1b097dc7028c          NaN            ORD   \n7   5edbfd7d-01ce-b39e-da73-ba45d73e8953          NaN            NaN   \n8   b675d382-2a22-0d5c-637f-1b097dc7028c          NaN            ORD   \n9   5edbfd7d-01ce-b39e-da73-ba45d73e8953          NaN            NaN   \n10  5edbfd7d-01ce-b39e-da73-ba45d73e8953          NaN            NaN   \n11  b675d382-2a22-0d5c-637f-1b097dc7028c          NaN            ORD   \n12  b675d382-2a22-0d5c-637f-1b097dc7028c          NaN            ORD   \n13  5edbfd7d-01ce-b39e-da73-ba45d73e8953          NaN            NaN   \n14  5edbfd7d-01ce-b39e-da73-ba45d73e8953          NaN            NaN   \n15  b675d382-2a22-0d5c-637f-1b097dc7028c          NaN            ORD   \n16  5edbfd7d-01ce-b39e-da73-ba45d73e8953          NaN            NaN   \n17  b675d382-2a22-0d5c-637f-1b097dc7028c          NaN            ORD   \n18  b675d382-2a22-0d5c-637f-1b097dc7028c          NaN            ORD   \n19  b675d382-2a22-0d5c-637f-1b097dc7028c          NaN            ORD   \n\n    asset_engine_hours  asset_idle_indicator engine_running_indicator  \\\n0               3820.0                 False                    False   \n1               3820.0                 False                    False   \n2               3820.0                 False                    False   \n3               3820.0                 False                    False   \n4               3820.0                 False                    False   \n5               3820.0                 False                    False   \n6               3820.0                 False                    False   \n7               3820.0                 False                    False   \n8               3820.0                 False                    False   \n9               3820.0                 False                    False   \n10              3820.0                 False                    False   \n11              3820.0                 False                    False   \n12              3820.0                 False                    False   \n13              3820.0                 False                    False   \n14              3820.0                 False                    False   \n15              3820.0                 False                    False   \n16              3820.0                 False                    False   \n17              3820.0                 False                    False   \n18              3820.0                 False                    False   \n19              3820.0                 False                    False   \n\n   asset_working_indicator asset_moving_indicator  is_asset_in_shop  \\\n0                    False                  False              True   \n1                    False                  False              True   \n2                    False                  False              True   \n3                    False                  False              True   \n4                    False                  False              True   \n5                    False                  False              True   \n6                    False                  False              True   \n7                    False                  False              True   \n8                    False                  False              True   \n9                    False                  False              True   \n10                   False                  False              True   \n11                   False                  False              True   \n12                   False                  False              True   \n13                   False                  False              True   \n14                   False                   True              True   \n15                   False                   True              True   \n16                   False                   True              True   \n17                   False                   True              True   \n18                   False                   True             False   \n19                   False                   True              True   \n\n   maintenance  \n0            0  \n1            0  \n2            0  \n3            0  \n4            0  \n5            0  \n6            0  \n7            0  \n8            0  \n9            0  \n10           0  \n11           0  \n12           0  \n13           0  \n14           0  \n15           0  \n16           0  \n17           0  \n18           0  \n19           0  \n\n[20 rows x 25 columns]",
      "text/html": "<div>\n<style scoped>\n    .dataframe tbody tr th:only-of-type {\n        vertical-align: middle;\n    }\n\n    .dataframe tbody tr th {\n        vertical-align: top;\n    }\n\n    .dataframe thead th {\n        text-align: right;\n    }\n</style>\n<table border=\"1\" class=\"dataframe\">\n  <thead>\n    <tr style=\"text-align: right;\">\n      <th></th>\n      <th>asset_code</th>\n      <th>device_serial_number</th>\n      <th>date_add</th>\n      <th>asset_class</th>\n      <th>asset_maintenance_class</th>\n      <th>is_asset_motorized</th>\n      <th>asset_department</th>\n      <th>asset_energy_type</th>\n      <th>manufacturer_short_name</th>\n      <th>asset_model</th>\n      <th>...</th>\n      <th>zone_id</th>\n      <th>gate_number</th>\n      <th>geofence_kind</th>\n      <th>asset_engine_hours</th>\n      <th>asset_idle_indicator</th>\n      <th>engine_running_indicator</th>\n      <th>asset_working_indicator</th>\n      <th>asset_moving_indicator</th>\n      <th>is_asset_in_shop</th>\n      <th>maintenance</th>\n    </tr>\n  </thead>\n  <tbody>\n    <tr>\n      <th>0</th>\n      <td>e4b07aea0b950a397989c1d716bb7f2b</td>\n      <td>02975c615594fa329b2e5a6f6d69d527</td>\n      <td>2023-05-26 22:00:35</td>\n      <td>FL - FORKLIFT</td>\n      <td>GSE-M-FL</td>\n      <td>True</td>\n      <td>AO-CARGO</td>\n      <td>DSL</td>\n      <td>e96631e72480d283f74b42e8903b0344</td>\n      <td>H210XL</td>\n      <td>...</td>\n      <td>5edbfd7d-01ce-b39e-da73-ba45d73e8953</td>\n      <td>NaN</td>\n      <td>NaN</td>\n      <td>3820.0</td>\n      <td>False</td>\n      <td>False</td>\n      <td>False</td>\n      <td>False</td>\n      <td>True</td>\n      <td>0</td>\n    </tr>\n    <tr>\n      <th>1</th>\n      <td>e4b07aea0b950a397989c1d716bb7f2b</td>\n      <td>02975c615594fa329b2e5a6f6d69d527</td>\n      <td>2023-05-26 22:00:35</td>\n      <td>FL - FORKLIFT</td>\n      <td>GSE-M-FL</td>\n      <td>True</td>\n      <td>AO-CARGO</td>\n      <td>DSL</td>\n      <td>e96631e72480d283f74b42e8903b0344</td>\n      <td>H210XL</td>\n      <td>...</td>\n      <td>b675d382-2a22-0d5c-637f-1b097dc7028c</td>\n      <td>NaN</td>\n      <td>ORD</td>\n      <td>3820.0</td>\n      <td>False</td>\n      <td>False</td>\n      <td>False</td>\n      <td>False</td>\n      <td>True</td>\n      <td>0</td>\n    </tr>\n    <tr>\n      <th>2</th>\n      <td>e4b07aea0b950a397989c1d716bb7f2b</td>\n      <td>02975c615594fa329b2e5a6f6d69d527</td>\n      <td>2023-05-26 22:01:04</td>\n      <td>FL - FORKLIFT</td>\n      <td>GSE-M-FL</td>\n      <td>True</td>\n      <td>AO-CARGO</td>\n      <td>DSL</td>\n      <td>e96631e72480d283f74b42e8903b0344</td>\n      <td>H210XL</td>\n      <td>...</td>\n      <td>b675d382-2a22-0d5c-637f-1b097dc7028c</td>\n      <td>NaN</td>\n      <td>ORD</td>\n      <td>3820.0</td>\n      <td>False</td>\n      <td>False</td>\n      <td>False</td>\n      <td>False</td>\n      <td>True</td>\n      <td>0</td>\n    </tr>\n    <tr>\n      <th>3</th>\n      <td>e4b07aea0b950a397989c1d716bb7f2b</td>\n      <td>02975c615594fa329b2e5a6f6d69d527</td>\n      <td>2023-05-26 22:01:04</td>\n      <td>FL - FORKLIFT</td>\n      <td>GSE-M-FL</td>\n      <td>True</td>\n      <td>AO-CARGO</td>\n      <td>DSL</td>\n      <td>e96631e72480d283f74b42e8903b0344</td>\n      <td>H210XL</td>\n      <td>...</td>\n      <td>5edbfd7d-01ce-b39e-da73-ba45d73e8953</td>\n      <td>NaN</td>\n      <td>NaN</td>\n      <td>3820.0</td>\n      <td>False</td>\n      <td>False</td>\n      <td>False</td>\n      <td>False</td>\n      <td>True</td>\n      <td>0</td>\n    </tr>\n    <tr>\n      <th>4</th>\n      <td>e4b07aea0b950a397989c1d716bb7f2b</td>\n      <td>02975c615594fa329b2e5a6f6d69d527</td>\n      <td>2023-05-26 22:01:34</td>\n      <td>FL - FORKLIFT</td>\n      <td>GSE-M-FL</td>\n      <td>True</td>\n      <td>AO-CARGO</td>\n      <td>DSL</td>\n      <td>e96631e72480d283f74b42e8903b0344</td>\n      <td>H210XL</td>\n      <td>...</td>\n      <td>5edbfd7d-01ce-b39e-da73-ba45d73e8953</td>\n      <td>NaN</td>\n      <td>NaN</td>\n      <td>3820.0</td>\n      <td>False</td>\n      <td>False</td>\n      <td>False</td>\n      <td>False</td>\n      <td>True</td>\n      <td>0</td>\n    </tr>\n    <tr>\n      <th>5</th>\n      <td>e4b07aea0b950a397989c1d716bb7f2b</td>\n      <td>02975c615594fa329b2e5a6f6d69d527</td>\n      <td>2023-05-26 22:01:34</td>\n      <td>FL - FORKLIFT</td>\n      <td>GSE-M-FL</td>\n      <td>True</td>\n      <td>AO-CARGO</td>\n      <td>DSL</td>\n      <td>e96631e72480d283f74b42e8903b0344</td>\n      <td>H210XL</td>\n      <td>...</td>\n      <td>b675d382-2a22-0d5c-637f-1b097dc7028c</td>\n      <td>NaN</td>\n      <td>ORD</td>\n      <td>3820.0</td>\n      <td>False</td>\n      <td>False</td>\n      <td>False</td>\n      <td>False</td>\n      <td>True</td>\n      <td>0</td>\n    </tr>\n    <tr>\n      <th>6</th>\n      <td>e4b07aea0b950a397989c1d716bb7f2b</td>\n      <td>02975c615594fa329b2e5a6f6d69d527</td>\n      <td>2023-05-26 22:02:04</td>\n      <td>FL - FORKLIFT</td>\n      <td>GSE-M-FL</td>\n      <td>True</td>\n      <td>AO-CARGO</td>\n      <td>DSL</td>\n      <td>e96631e72480d283f74b42e8903b0344</td>\n      <td>H210XL</td>\n      <td>...</td>\n      <td>b675d382-2a22-0d5c-637f-1b097dc7028c</td>\n      <td>NaN</td>\n      <td>ORD</td>\n      <td>3820.0</td>\n      <td>False</td>\n      <td>False</td>\n      <td>False</td>\n      <td>False</td>\n      <td>True</td>\n      <td>0</td>\n    </tr>\n    <tr>\n      <th>7</th>\n      <td>e4b07aea0b950a397989c1d716bb7f2b</td>\n      <td>02975c615594fa329b2e5a6f6d69d527</td>\n      <td>2023-05-26 22:02:04</td>\n      <td>FL - FORKLIFT</td>\n      <td>GSE-M-FL</td>\n      <td>True</td>\n      <td>AO-CARGO</td>\n      <td>DSL</td>\n      <td>e96631e72480d283f74b42e8903b0344</td>\n      <td>H210XL</td>\n      <td>...</td>\n      <td>5edbfd7d-01ce-b39e-da73-ba45d73e8953</td>\n      <td>NaN</td>\n      <td>NaN</td>\n      <td>3820.0</td>\n      <td>False</td>\n      <td>False</td>\n      <td>False</td>\n      <td>False</td>\n      <td>True</td>\n      <td>0</td>\n    </tr>\n    <tr>\n      <th>8</th>\n      <td>e4b07aea0b950a397989c1d716bb7f2b</td>\n      <td>02975c615594fa329b2e5a6f6d69d527</td>\n      <td>2023-05-26 22:02:34</td>\n      <td>FL - FORKLIFT</td>\n      <td>GSE-M-FL</td>\n      <td>True</td>\n      <td>AO-CARGO</td>\n      <td>DSL</td>\n      <td>e96631e72480d283f74b42e8903b0344</td>\n      <td>H210XL</td>\n      <td>...</td>\n      <td>b675d382-2a22-0d5c-637f-1b097dc7028c</td>\n      <td>NaN</td>\n      <td>ORD</td>\n      <td>3820.0</td>\n      <td>False</td>\n      <td>False</td>\n      <td>False</td>\n      <td>False</td>\n      <td>True</td>\n      <td>0</td>\n    </tr>\n    <tr>\n      <th>9</th>\n      <td>e4b07aea0b950a397989c1d716bb7f2b</td>\n      <td>02975c615594fa329b2e5a6f6d69d527</td>\n      <td>2023-05-26 22:02:34</td>\n      <td>FL - FORKLIFT</td>\n      <td>GSE-M-FL</td>\n      <td>True</td>\n      <td>AO-CARGO</td>\n      <td>DSL</td>\n      <td>e96631e72480d283f74b42e8903b0344</td>\n      <td>H210XL</td>\n      <td>...</td>\n      <td>5edbfd7d-01ce-b39e-da73-ba45d73e8953</td>\n      <td>NaN</td>\n      <td>NaN</td>\n      <td>3820.0</td>\n      <td>False</td>\n      <td>False</td>\n      <td>False</td>\n      <td>False</td>\n      <td>True</td>\n      <td>0</td>\n    </tr>\n    <tr>\n      <th>10</th>\n      <td>e4b07aea0b950a397989c1d716bb7f2b</td>\n      <td>02975c615594fa329b2e5a6f6d69d527</td>\n      <td>2023-05-27 12:40:31</td>\n      <td>FL - FORKLIFT</td>\n      <td>GSE-M-FL</td>\n      <td>True</td>\n      <td>AO-CARGO</td>\n      <td>DSL</td>\n      <td>e96631e72480d283f74b42e8903b0344</td>\n      <td>H210XL</td>\n      <td>...</td>\n      <td>5edbfd7d-01ce-b39e-da73-ba45d73e8953</td>\n      <td>NaN</td>\n      <td>NaN</td>\n      <td>3820.0</td>\n      <td>False</td>\n      <td>False</td>\n      <td>False</td>\n      <td>False</td>\n      <td>True</td>\n      <td>0</td>\n    </tr>\n    <tr>\n      <th>11</th>\n      <td>e4b07aea0b950a397989c1d716bb7f2b</td>\n      <td>02975c615594fa329b2e5a6f6d69d527</td>\n      <td>2023-05-27 12:40:31</td>\n      <td>FL - FORKLIFT</td>\n      <td>GSE-M-FL</td>\n      <td>True</td>\n      <td>AO-CARGO</td>\n      <td>DSL</td>\n      <td>e96631e72480d283f74b42e8903b0344</td>\n      <td>H210XL</td>\n      <td>...</td>\n      <td>b675d382-2a22-0d5c-637f-1b097dc7028c</td>\n      <td>NaN</td>\n      <td>ORD</td>\n      <td>3820.0</td>\n      <td>False</td>\n      <td>False</td>\n      <td>False</td>\n      <td>False</td>\n      <td>True</td>\n      <td>0</td>\n    </tr>\n    <tr>\n      <th>12</th>\n      <td>e4b07aea0b950a397989c1d716bb7f2b</td>\n      <td>02975c615594fa329b2e5a6f6d69d527</td>\n      <td>2023-05-27 12:40:58</td>\n      <td>FL - FORKLIFT</td>\n      <td>GSE-M-FL</td>\n      <td>True</td>\n      <td>AO-CARGO</td>\n      <td>DSL</td>\n      <td>e96631e72480d283f74b42e8903b0344</td>\n      <td>H210XL</td>\n      <td>...</td>\n      <td>b675d382-2a22-0d5c-637f-1b097dc7028c</td>\n      <td>NaN</td>\n      <td>ORD</td>\n      <td>3820.0</td>\n      <td>False</td>\n      <td>False</td>\n      <td>False</td>\n      <td>False</td>\n      <td>True</td>\n      <td>0</td>\n    </tr>\n    <tr>\n      <th>13</th>\n      <td>e4b07aea0b950a397989c1d716bb7f2b</td>\n      <td>02975c615594fa329b2e5a6f6d69d527</td>\n      <td>2023-05-27 12:40:58</td>\n      <td>FL - FORKLIFT</td>\n      <td>GSE-M-FL</td>\n      <td>True</td>\n      <td>AO-CARGO</td>\n      <td>DSL</td>\n      <td>e96631e72480d283f74b42e8903b0344</td>\n      <td>H210XL</td>\n      <td>...</td>\n      <td>5edbfd7d-01ce-b39e-da73-ba45d73e8953</td>\n      <td>NaN</td>\n      <td>NaN</td>\n      <td>3820.0</td>\n      <td>False</td>\n      <td>False</td>\n      <td>False</td>\n      <td>False</td>\n      <td>True</td>\n      <td>0</td>\n    </tr>\n    <tr>\n      <th>14</th>\n      <td>e4b07aea0b950a397989c1d716bb7f2b</td>\n      <td>02975c615594fa329b2e5a6f6d69d527</td>\n      <td>2023-05-27 12:55:42</td>\n      <td>FL - FORKLIFT</td>\n      <td>GSE-M-FL</td>\n      <td>True</td>\n      <td>AO-CARGO</td>\n      <td>DSL</td>\n      <td>e96631e72480d283f74b42e8903b0344</td>\n      <td>H210XL</td>\n      <td>...</td>\n      <td>5edbfd7d-01ce-b39e-da73-ba45d73e8953</td>\n      <td>NaN</td>\n      <td>NaN</td>\n      <td>3820.0</td>\n      <td>False</td>\n      <td>False</td>\n      <td>False</td>\n      <td>True</td>\n      <td>True</td>\n      <td>0</td>\n    </tr>\n    <tr>\n      <th>15</th>\n      <td>e4b07aea0b950a397989c1d716bb7f2b</td>\n      <td>02975c615594fa329b2e5a6f6d69d527</td>\n      <td>2023-05-27 12:55:42</td>\n      <td>FL - FORKLIFT</td>\n      <td>GSE-M-FL</td>\n      <td>True</td>\n      <td>AO-CARGO</td>\n      <td>DSL</td>\n      <td>e96631e72480d283f74b42e8903b0344</td>\n      <td>H210XL</td>\n      <td>...</td>\n      <td>b675d382-2a22-0d5c-637f-1b097dc7028c</td>\n      <td>NaN</td>\n      <td>ORD</td>\n      <td>3820.0</td>\n      <td>False</td>\n      <td>False</td>\n      <td>False</td>\n      <td>True</td>\n      <td>True</td>\n      <td>0</td>\n    </tr>\n    <tr>\n      <th>16</th>\n      <td>e4b07aea0b950a397989c1d716bb7f2b</td>\n      <td>02975c615594fa329b2e5a6f6d69d527</td>\n      <td>2023-05-27 12:55:52</td>\n      <td>FL - FORKLIFT</td>\n      <td>GSE-M-FL</td>\n      <td>True</td>\n      <td>AO-CARGO</td>\n      <td>DSL</td>\n      <td>e96631e72480d283f74b42e8903b0344</td>\n      <td>H210XL</td>\n      <td>...</td>\n      <td>5edbfd7d-01ce-b39e-da73-ba45d73e8953</td>\n      <td>NaN</td>\n      <td>NaN</td>\n      <td>3820.0</td>\n      <td>False</td>\n      <td>False</td>\n      <td>False</td>\n      <td>True</td>\n      <td>True</td>\n      <td>0</td>\n    </tr>\n    <tr>\n      <th>17</th>\n      <td>e4b07aea0b950a397989c1d716bb7f2b</td>\n      <td>02975c615594fa329b2e5a6f6d69d527</td>\n      <td>2023-05-27 12:55:52</td>\n      <td>FL - FORKLIFT</td>\n      <td>GSE-M-FL</td>\n      <td>True</td>\n      <td>AO-CARGO</td>\n      <td>DSL</td>\n      <td>e96631e72480d283f74b42e8903b0344</td>\n      <td>H210XL</td>\n      <td>...</td>\n      <td>b675d382-2a22-0d5c-637f-1b097dc7028c</td>\n      <td>NaN</td>\n      <td>ORD</td>\n      <td>3820.0</td>\n      <td>False</td>\n      <td>False</td>\n      <td>False</td>\n      <td>True</td>\n      <td>True</td>\n      <td>0</td>\n    </tr>\n    <tr>\n      <th>18</th>\n      <td>e4b07aea0b950a397989c1d716bb7f2b</td>\n      <td>02975c615594fa329b2e5a6f6d69d527</td>\n      <td>2023-05-27 12:56:02</td>\n      <td>FL - FORKLIFT</td>\n      <td>GSE-M-FL</td>\n      <td>True</td>\n      <td>AO-CARGO</td>\n      <td>DSL</td>\n      <td>e96631e72480d283f74b42e8903b0344</td>\n      <td>H210XL</td>\n      <td>...</td>\n      <td>b675d382-2a22-0d5c-637f-1b097dc7028c</td>\n      <td>NaN</td>\n      <td>ORD</td>\n      <td>3820.0</td>\n      <td>False</td>\n      <td>False</td>\n      <td>False</td>\n      <td>True</td>\n      <td>False</td>\n      <td>0</td>\n    </tr>\n    <tr>\n      <th>19</th>\n      <td>e4b07aea0b950a397989c1d716bb7f2b</td>\n      <td>02975c615594fa329b2e5a6f6d69d527</td>\n      <td>2023-05-27 12:56:12</td>\n      <td>FL - FORKLIFT</td>\n      <td>GSE-M-FL</td>\n      <td>True</td>\n      <td>AO-CARGO</td>\n      <td>DSL</td>\n      <td>e96631e72480d283f74b42e8903b0344</td>\n      <td>H210XL</td>\n      <td>...</td>\n      <td>b675d382-2a22-0d5c-637f-1b097dc7028c</td>\n      <td>NaN</td>\n      <td>ORD</td>\n      <td>3820.0</td>\n      <td>False</td>\n      <td>False</td>\n      <td>False</td>\n      <td>True</td>\n      <td>True</td>\n      <td>0</td>\n    </tr>\n  </tbody>\n</table>\n<p>20 rows × 25 columns</p>\n</div>"
     },
     "execution_count": 67,
     "metadata": {},
     "output_type": "execute_result"
    }
   ],
   "source": [
    "df_united.head(20)"
   ],
   "metadata": {
    "collapsed": false,
    "ExecuteTime": {
     "end_time": "2023-10-09T18:39:54.080535Z",
     "start_time": "2023-10-09T18:39:53.997563Z"
    }
   },
   "id": "9451d0f5f373f0b3"
  },
  {
   "cell_type": "markdown",
   "source": [
    "## 5. For the same asset and the same time there is a duplication in geofence_kind and zone_id. Keep the one that in not NaN.\n"
   ],
   "metadata": {
    "collapsed": false
   },
   "id": "a33e8cbb463a6235"
  },
  {
   "cell_type": "code",
   "execution_count": 69,
   "outputs": [],
   "source": [
    "df_united['date_add'] = pd.to_datetime(df_united[\"date_add\"], format='%Y-%m-%d %H:%M:%S')"
   ],
   "metadata": {
    "collapsed": false,
    "ExecuteTime": {
     "end_time": "2023-10-09T18:52:43.487290Z",
     "start_time": "2023-10-09T18:52:42.874679Z"
    }
   },
   "id": "d81ba6637156270a"
  },
  {
   "cell_type": "code",
   "execution_count": 70,
   "outputs": [],
   "source": [
    "def hlp3(df):\n",
    "    if df.shape[0] > 1:\n",
    "        df1 = df.dropna(axis=0)\n",
    "        if df1.shape[0] > 0: return df1.head(1)\n",
    "        else: return df.head(1)\n",
    "    return df\n",
    "df_united_1 = df_united.groupby(['asset_code','date_add'])[['geofence_kind', 'zone_id']].apply(hlp3).reset_index(['asset_code','date_add'])"
   ],
   "metadata": {
    "collapsed": false,
    "ExecuteTime": {
     "end_time": "2023-10-09T19:17:37.533018Z",
     "start_time": "2023-10-09T18:53:01.239813Z"
    }
   },
   "id": "f6a3ec00dbfbdcf2"
  },
  {
   "cell_type": "code",
   "execution_count": 81,
   "outputs": [
    {
     "data": {
      "text/plain": "Index([      1,       2,       5,       6,       8,      11,      12,      15,\n            17,      18,\n       ...\n       1131307, 1131310, 1131311, 1131313, 1131316, 1131318, 1131320, 1131322,\n       1131324, 1131327],\n      dtype='int64', length=499597)"
     },
     "execution_count": 81,
     "metadata": {},
     "output_type": "execute_result"
    }
   ],
   "source": [
    "df_united_1.index.sort_values()"
   ],
   "metadata": {
    "collapsed": false,
    "ExecuteTime": {
     "end_time": "2023-10-09T19:29:15.932098Z",
     "start_time": "2023-10-09T19:29:15.882390Z"
    }
   },
   "id": "e533c38048e73360"
  },
  {
   "cell_type": "code",
   "execution_count": 72,
   "outputs": [],
   "source": [
    "df_united_no_dupl = df_united.loc[df_united_1.index]"
   ],
   "metadata": {
    "collapsed": false,
    "ExecuteTime": {
     "end_time": "2023-10-09T19:18:52.368842Z",
     "start_time": "2023-10-09T19:18:52.229077Z"
    }
   },
   "id": "db7fbcc7e8c2fa25"
  },
  {
   "cell_type": "code",
   "execution_count": 73,
   "outputs": [
    {
     "data": {
      "text/plain": "(499597, 25)"
     },
     "execution_count": 73,
     "metadata": {},
     "output_type": "execute_result"
    }
   ],
   "source": [
    "df_united_no_dupl.shape"
   ],
   "metadata": {
    "collapsed": false,
    "ExecuteTime": {
     "end_time": "2023-10-09T19:19:12.664882Z",
     "start_time": "2023-10-09T19:19:12.637480Z"
    }
   },
   "id": "bd6143dfdc0c4556"
  },
  {
   "cell_type": "code",
   "execution_count": 79,
   "outputs": [
    {
     "data": {
      "text/plain": "                               asset_code              device_serial_number  \\\n1092407  0365123cd59df1d963e6636d16a2804b  758aeb5735823d2c56d27802a63059f4   \n1092408  0365123cd59df1d963e6636d16a2804b  758aeb5735823d2c56d27802a63059f4   \n1092409  0365123cd59df1d963e6636d16a2804b  758aeb5735823d2c56d27802a63059f4   \n1092410  0365123cd59df1d963e6636d16a2804b  758aeb5735823d2c56d27802a63059f4   \n1092411  0365123cd59df1d963e6636d16a2804b  758aeb5735823d2c56d27802a63059f4   \n...                                   ...                               ...   \n235229   ffe6dac68e2c4b78c43d7b308c4e5dae  9a679fc95713126dc6ae8afdbdbc6f66   \n235231   ffe6dac68e2c4b78c43d7b308c4e5dae  9a679fc95713126dc6ae8afdbdbc6f66   \n235247   ffe6dac68e2c4b78c43d7b308c4e5dae  9a679fc95713126dc6ae8afdbdbc6f66   \n235250   ffe6dac68e2c4b78c43d7b308c4e5dae  9a679fc95713126dc6ae8afdbdbc6f66   \n235252   ffe6dac68e2c4b78c43d7b308c4e5dae  9a679fc95713126dc6ae8afdbdbc6f66   \n\n                   date_add             asset_class asset_maintenance_class  \\\n1092407 2022-10-07 19:45:02  FL - FORKLIFT 36000LBS                GSE-M-FL   \n1092408 2022-10-07 19:46:54  FL - FORKLIFT 36000LBS                GSE-M-FL   \n1092409 2022-10-07 19:47:24  FL - FORKLIFT 36000LBS                GSE-M-FL   \n1092410 2022-10-07 19:47:25  FL - FORKLIFT 36000LBS                GSE-M-FL   \n1092411 2022-10-07 19:47:55  FL - FORKLIFT 36000LBS                GSE-M-FL   \n...                     ...                     ...                     ...   \n235229  2023-07-26 17:49:34   FL - FORKLIFT 3000LBS                GSE-M-FL   \n235231  2023-07-26 18:21:14   FL - FORKLIFT 3000LBS                GSE-M-FL   \n235247  2023-07-26 19:17:25   FL - FORKLIFT 3000LBS                GSE-M-FL   \n235250  2023-07-26 20:31:38   FL - FORKLIFT 3000LBS                GSE-M-FL   \n235252  2023-07-26 21:13:10   FL - FORKLIFT 3000LBS                GSE-M-FL   \n\n         is_asset_motorized asset_department asset_energy_type  \\\n1092407                True        TO-GSE MX               DSL   \n1092408                True        TO-GSE MX               DSL   \n1092409                True        TO-GSE MX               DSL   \n1092410                True        TO-GSE MX               DSL   \n1092411                True        TO-GSE MX               DSL   \n...                     ...              ...               ...   \n235229                 True        TO-STORES                 B   \n235231                 True        TO-STORES                 B   \n235247                 True        TO-STORES                 B   \n235250                 True        TO-STORES                 B   \n235252                 True        TO-STORES                 B   \n\n                  manufacturer_short_name asset_model  ...  \\\n1092407  e96631e72480d283f74b42e8903b0344   H360-48HD  ...   \n1092408  e96631e72480d283f74b42e8903b0344   H360-48HD  ...   \n1092409  e96631e72480d283f74b42e8903b0344   H360-48HD  ...   \n1092410  e96631e72480d283f74b42e8903b0344   H360-48HD  ...   \n1092411  e96631e72480d283f74b42e8903b0344   H360-48HD  ...   \n...                                   ...         ...  ...   \n235229   e96631e72480d283f74b42e8903b0344       E35XM  ...   \n235231   e96631e72480d283f74b42e8903b0344       E35XM  ...   \n235247   e96631e72480d283f74b42e8903b0344       E35XM  ...   \n235250   e96631e72480d283f74b42e8903b0344       E35XM  ...   \n235252   e96631e72480d283f74b42e8903b0344       E35XM  ...   \n\n                                      zone_id  gate_number  geofence_kind  \\\n1092407  b675d382-2a22-0d5c-637f-1b097dc7028c          NaN            ORD   \n1092408  b675d382-2a22-0d5c-637f-1b097dc7028c          NaN            ORD   \n1092409  b675d382-2a22-0d5c-637f-1b097dc7028c          NaN            ORD   \n1092410  b675d382-2a22-0d5c-637f-1b097dc7028c          NaN            ORD   \n1092411  b675d382-2a22-0d5c-637f-1b097dc7028c          NaN            ORD   \n...                                       ...          ...            ...   \n235229   b675d382-2a22-0d5c-637f-1b097dc7028c          NaN            ORD   \n235231   b675d382-2a22-0d5c-637f-1b097dc7028c          NaN            ORD   \n235247   b675d382-2a22-0d5c-637f-1b097dc7028c          NaN            ORD   \n235250   b675d382-2a22-0d5c-637f-1b097dc7028c          NaN            ORD   \n235252   b675d382-2a22-0d5c-637f-1b097dc7028c          NaN            ORD   \n\n         asset_engine_hours  asset_idle_indicator engine_running_indicator  \\\n1092407               128.0                 False                    False   \n1092408               128.0                 False                    False   \n1092409               128.0                 False                    False   \n1092410               128.0                 False                     True   \n1092411               128.0                 False                     True   \n...                     ...                   ...                      ...   \n235229                  NaN                   NaN                      NaN   \n235231                  NaN                   NaN                      NaN   \n235247                  NaN                   NaN                      NaN   \n235250                  NaN                   NaN                      NaN   \n235252                  NaN                   NaN                      NaN   \n\n        asset_working_indicator asset_moving_indicator  is_asset_in_shop  \\\n1092407                   False                    NaN             False   \n1092408                   False                    NaN             False   \n1092409                   False                  False             False   \n1092410                    True                  False             False   \n1092411                    True                  False             False   \n...                         ...                    ...               ...   \n235229                      NaN                    NaN              True   \n235231                      NaN                    NaN              True   \n235247                      NaN                    NaN              True   \n235250                      NaN                    NaN              True   \n235252                      NaN                    NaN              True   \n\n        maintenance  \n1092407           0  \n1092408           0  \n1092409           0  \n1092410           0  \n1092411           0  \n...             ...  \n235229            0  \n235231            0  \n235247            0  \n235250            0  \n235252            0  \n\n[499597 rows x 25 columns]",
      "text/html": "<div>\n<style scoped>\n    .dataframe tbody tr th:only-of-type {\n        vertical-align: middle;\n    }\n\n    .dataframe tbody tr th {\n        vertical-align: top;\n    }\n\n    .dataframe thead th {\n        text-align: right;\n    }\n</style>\n<table border=\"1\" class=\"dataframe\">\n  <thead>\n    <tr style=\"text-align: right;\">\n      <th></th>\n      <th>asset_code</th>\n      <th>device_serial_number</th>\n      <th>date_add</th>\n      <th>asset_class</th>\n      <th>asset_maintenance_class</th>\n      <th>is_asset_motorized</th>\n      <th>asset_department</th>\n      <th>asset_energy_type</th>\n      <th>manufacturer_short_name</th>\n      <th>asset_model</th>\n      <th>...</th>\n      <th>zone_id</th>\n      <th>gate_number</th>\n      <th>geofence_kind</th>\n      <th>asset_engine_hours</th>\n      <th>asset_idle_indicator</th>\n      <th>engine_running_indicator</th>\n      <th>asset_working_indicator</th>\n      <th>asset_moving_indicator</th>\n      <th>is_asset_in_shop</th>\n      <th>maintenance</th>\n    </tr>\n  </thead>\n  <tbody>\n    <tr>\n      <th>1092407</th>\n      <td>0365123cd59df1d963e6636d16a2804b</td>\n      <td>758aeb5735823d2c56d27802a63059f4</td>\n      <td>2022-10-07 19:45:02</td>\n      <td>FL - FORKLIFT 36000LBS</td>\n      <td>GSE-M-FL</td>\n      <td>True</td>\n      <td>TO-GSE MX</td>\n      <td>DSL</td>\n      <td>e96631e72480d283f74b42e8903b0344</td>\n      <td>H360-48HD</td>\n      <td>...</td>\n      <td>b675d382-2a22-0d5c-637f-1b097dc7028c</td>\n      <td>NaN</td>\n      <td>ORD</td>\n      <td>128.0</td>\n      <td>False</td>\n      <td>False</td>\n      <td>False</td>\n      <td>NaN</td>\n      <td>False</td>\n      <td>0</td>\n    </tr>\n    <tr>\n      <th>1092408</th>\n      <td>0365123cd59df1d963e6636d16a2804b</td>\n      <td>758aeb5735823d2c56d27802a63059f4</td>\n      <td>2022-10-07 19:46:54</td>\n      <td>FL - FORKLIFT 36000LBS</td>\n      <td>GSE-M-FL</td>\n      <td>True</td>\n      <td>TO-GSE MX</td>\n      <td>DSL</td>\n      <td>e96631e72480d283f74b42e8903b0344</td>\n      <td>H360-48HD</td>\n      <td>...</td>\n      <td>b675d382-2a22-0d5c-637f-1b097dc7028c</td>\n      <td>NaN</td>\n      <td>ORD</td>\n      <td>128.0</td>\n      <td>False</td>\n      <td>False</td>\n      <td>False</td>\n      <td>NaN</td>\n      <td>False</td>\n      <td>0</td>\n    </tr>\n    <tr>\n      <th>1092409</th>\n      <td>0365123cd59df1d963e6636d16a2804b</td>\n      <td>758aeb5735823d2c56d27802a63059f4</td>\n      <td>2022-10-07 19:47:24</td>\n      <td>FL - FORKLIFT 36000LBS</td>\n      <td>GSE-M-FL</td>\n      <td>True</td>\n      <td>TO-GSE MX</td>\n      <td>DSL</td>\n      <td>e96631e72480d283f74b42e8903b0344</td>\n      <td>H360-48HD</td>\n      <td>...</td>\n      <td>b675d382-2a22-0d5c-637f-1b097dc7028c</td>\n      <td>NaN</td>\n      <td>ORD</td>\n      <td>128.0</td>\n      <td>False</td>\n      <td>False</td>\n      <td>False</td>\n      <td>False</td>\n      <td>False</td>\n      <td>0</td>\n    </tr>\n    <tr>\n      <th>1092410</th>\n      <td>0365123cd59df1d963e6636d16a2804b</td>\n      <td>758aeb5735823d2c56d27802a63059f4</td>\n      <td>2022-10-07 19:47:25</td>\n      <td>FL - FORKLIFT 36000LBS</td>\n      <td>GSE-M-FL</td>\n      <td>True</td>\n      <td>TO-GSE MX</td>\n      <td>DSL</td>\n      <td>e96631e72480d283f74b42e8903b0344</td>\n      <td>H360-48HD</td>\n      <td>...</td>\n      <td>b675d382-2a22-0d5c-637f-1b097dc7028c</td>\n      <td>NaN</td>\n      <td>ORD</td>\n      <td>128.0</td>\n      <td>False</td>\n      <td>True</td>\n      <td>True</td>\n      <td>False</td>\n      <td>False</td>\n      <td>0</td>\n    </tr>\n    <tr>\n      <th>1092411</th>\n      <td>0365123cd59df1d963e6636d16a2804b</td>\n      <td>758aeb5735823d2c56d27802a63059f4</td>\n      <td>2022-10-07 19:47:55</td>\n      <td>FL - FORKLIFT 36000LBS</td>\n      <td>GSE-M-FL</td>\n      <td>True</td>\n      <td>TO-GSE MX</td>\n      <td>DSL</td>\n      <td>e96631e72480d283f74b42e8903b0344</td>\n      <td>H360-48HD</td>\n      <td>...</td>\n      <td>b675d382-2a22-0d5c-637f-1b097dc7028c</td>\n      <td>NaN</td>\n      <td>ORD</td>\n      <td>128.0</td>\n      <td>False</td>\n      <td>True</td>\n      <td>True</td>\n      <td>False</td>\n      <td>False</td>\n      <td>0</td>\n    </tr>\n    <tr>\n      <th>...</th>\n      <td>...</td>\n      <td>...</td>\n      <td>...</td>\n      <td>...</td>\n      <td>...</td>\n      <td>...</td>\n      <td>...</td>\n      <td>...</td>\n      <td>...</td>\n      <td>...</td>\n      <td>...</td>\n      <td>...</td>\n      <td>...</td>\n      <td>...</td>\n      <td>...</td>\n      <td>...</td>\n      <td>...</td>\n      <td>...</td>\n      <td>...</td>\n      <td>...</td>\n      <td>...</td>\n    </tr>\n    <tr>\n      <th>235229</th>\n      <td>ffe6dac68e2c4b78c43d7b308c4e5dae</td>\n      <td>9a679fc95713126dc6ae8afdbdbc6f66</td>\n      <td>2023-07-26 17:49:34</td>\n      <td>FL - FORKLIFT 3000LBS</td>\n      <td>GSE-M-FL</td>\n      <td>True</td>\n      <td>TO-STORES</td>\n      <td>B</td>\n      <td>e96631e72480d283f74b42e8903b0344</td>\n      <td>E35XM</td>\n      <td>...</td>\n      <td>b675d382-2a22-0d5c-637f-1b097dc7028c</td>\n      <td>NaN</td>\n      <td>ORD</td>\n      <td>NaN</td>\n      <td>NaN</td>\n      <td>NaN</td>\n      <td>NaN</td>\n      <td>NaN</td>\n      <td>True</td>\n      <td>0</td>\n    </tr>\n    <tr>\n      <th>235231</th>\n      <td>ffe6dac68e2c4b78c43d7b308c4e5dae</td>\n      <td>9a679fc95713126dc6ae8afdbdbc6f66</td>\n      <td>2023-07-26 18:21:14</td>\n      <td>FL - FORKLIFT 3000LBS</td>\n      <td>GSE-M-FL</td>\n      <td>True</td>\n      <td>TO-STORES</td>\n      <td>B</td>\n      <td>e96631e72480d283f74b42e8903b0344</td>\n      <td>E35XM</td>\n      <td>...</td>\n      <td>b675d382-2a22-0d5c-637f-1b097dc7028c</td>\n      <td>NaN</td>\n      <td>ORD</td>\n      <td>NaN</td>\n      <td>NaN</td>\n      <td>NaN</td>\n      <td>NaN</td>\n      <td>NaN</td>\n      <td>True</td>\n      <td>0</td>\n    </tr>\n    <tr>\n      <th>235247</th>\n      <td>ffe6dac68e2c4b78c43d7b308c4e5dae</td>\n      <td>9a679fc95713126dc6ae8afdbdbc6f66</td>\n      <td>2023-07-26 19:17:25</td>\n      <td>FL - FORKLIFT 3000LBS</td>\n      <td>GSE-M-FL</td>\n      <td>True</td>\n      <td>TO-STORES</td>\n      <td>B</td>\n      <td>e96631e72480d283f74b42e8903b0344</td>\n      <td>E35XM</td>\n      <td>...</td>\n      <td>b675d382-2a22-0d5c-637f-1b097dc7028c</td>\n      <td>NaN</td>\n      <td>ORD</td>\n      <td>NaN</td>\n      <td>NaN</td>\n      <td>NaN</td>\n      <td>NaN</td>\n      <td>NaN</td>\n      <td>True</td>\n      <td>0</td>\n    </tr>\n    <tr>\n      <th>235250</th>\n      <td>ffe6dac68e2c4b78c43d7b308c4e5dae</td>\n      <td>9a679fc95713126dc6ae8afdbdbc6f66</td>\n      <td>2023-07-26 20:31:38</td>\n      <td>FL - FORKLIFT 3000LBS</td>\n      <td>GSE-M-FL</td>\n      <td>True</td>\n      <td>TO-STORES</td>\n      <td>B</td>\n      <td>e96631e72480d283f74b42e8903b0344</td>\n      <td>E35XM</td>\n      <td>...</td>\n      <td>b675d382-2a22-0d5c-637f-1b097dc7028c</td>\n      <td>NaN</td>\n      <td>ORD</td>\n      <td>NaN</td>\n      <td>NaN</td>\n      <td>NaN</td>\n      <td>NaN</td>\n      <td>NaN</td>\n      <td>True</td>\n      <td>0</td>\n    </tr>\n    <tr>\n      <th>235252</th>\n      <td>ffe6dac68e2c4b78c43d7b308c4e5dae</td>\n      <td>9a679fc95713126dc6ae8afdbdbc6f66</td>\n      <td>2023-07-26 21:13:10</td>\n      <td>FL - FORKLIFT 3000LBS</td>\n      <td>GSE-M-FL</td>\n      <td>True</td>\n      <td>TO-STORES</td>\n      <td>B</td>\n      <td>e96631e72480d283f74b42e8903b0344</td>\n      <td>E35XM</td>\n      <td>...</td>\n      <td>b675d382-2a22-0d5c-637f-1b097dc7028c</td>\n      <td>NaN</td>\n      <td>ORD</td>\n      <td>NaN</td>\n      <td>NaN</td>\n      <td>NaN</td>\n      <td>NaN</td>\n      <td>NaN</td>\n      <td>True</td>\n      <td>0</td>\n    </tr>\n  </tbody>\n</table>\n<p>499597 rows × 25 columns</p>\n</div>"
     },
     "execution_count": 79,
     "metadata": {},
     "output_type": "execute_result"
    }
   ],
   "source": [
    "df_united_no_dupl"
   ],
   "metadata": {
    "collapsed": false,
    "ExecuteTime": {
     "end_time": "2023-10-09T19:27:16.403149Z",
     "start_time": "2023-10-09T19:27:15.537400Z"
    }
   },
   "id": "eb4a2a34407f805f"
  },
  {
   "cell_type": "code",
   "execution_count": 82,
   "outputs": [],
   "source": [
    "df_united_no_dupl.to_csv('./data/model.csv')"
   ],
   "metadata": {
    "collapsed": false,
    "ExecuteTime": {
     "end_time": "2023-10-09T19:30:46.133338Z",
     "start_time": "2023-10-09T19:30:37.567748Z"
    }
   },
   "id": "f9ef93a0b90f4d68"
  },
  {
   "cell_type": "markdown",
   "source": [
    "## 6. Delete columns that mostly n/a."
   ],
   "metadata": {
    "collapsed": false
   },
   "id": "135c90b2ce9137d6"
  },
  {
   "cell_type": "code",
   "execution_count": 19,
   "outputs": [
    {
     "data": {
      "text/plain": "Index(['asset_code', 'device_serial_number', 'date_add', 'asset_class',\n       'asset_maintenance_class', 'is_asset_motorized', 'asset_department',\n       'asset_energy_type', 'manufacturer_short_name', 'asset_model',\n       'asset_status_code', 'device_battery_level_percentage', 'asset_speed',\n       'latitude_degrees', 'longitude_degrees', 'zone_id', 'gate_number',\n       'geofence_kind', 'asset_engine_hours', 'asset_idle_indicator',\n       'engine_running_indicator', 'asset_working_indicator',\n       'asset_moving_indicator', 'is_asset_in_shop', 'maintenance'],\n      dtype='object')"
     },
     "execution_count": 19,
     "metadata": {},
     "output_type": "execute_result"
    }
   ],
   "source": [
    "df_united.columns"
   ],
   "metadata": {
    "collapsed": false,
    "ExecuteTime": {
     "end_time": "2023-10-09T17:09:53.078604Z",
     "start_time": "2023-10-09T17:09:53.047026Z"
    }
   },
   "id": "f4879f0dabb1256c"
  },
  {
   "cell_type": "code",
   "execution_count": 75,
   "outputs": [
    {
     "data": {
      "text/plain": "asset_code                              0\ndevice_serial_number                    0\ndate_add                                0\nasset_class                             0\nasset_maintenance_class                 0\nis_asset_motorized                      0\nasset_department                        0\nasset_energy_type                     286\nmanufacturer_short_name                 0\nasset_model                             0\nasset_status_code                       0\ndevice_battery_level_percentage         0\nasset_speed                         89381\nlatitude_degrees                        0\nlongitude_degrees                       0\nzone_id                                 0\ngate_number                        476348\ngeofence_kind                           0\nasset_engine_hours                  89374\nasset_idle_indicator                89374\nengine_running_indicator            89374\nasset_working_indicator             89374\nasset_moving_indicator              89381\nis_asset_in_shop                        0\nmaintenance                             0\ndtype: int64"
     },
     "execution_count": 75,
     "metadata": {},
     "output_type": "execute_result"
    }
   ],
   "source": [
    "df_united_no_dupl.isna().sum(axis = 0)"
   ],
   "metadata": {
    "collapsed": false,
    "ExecuteTime": {
     "end_time": "2023-10-09T19:23:54.356948Z",
     "start_time": "2023-10-09T19:23:54.037577Z"
    }
   },
   "id": "a305a26b6ae82911"
  },
  {
   "cell_type": "code",
   "execution_count": 68,
   "outputs": [
    {
     "data": {
      "text/plain": "Index(['device_serial_number', 'zone_id', 'gate_number', 'is_asset_in_shop'], dtype='object')"
     },
     "execution_count": 68,
     "metadata": {},
     "output_type": "execute_result"
    }
   ],
   "source": [
    "col_model_minus = df_united.columns[[1,15,16, 23]]\n",
    "col_model_minus"
   ],
   "metadata": {
    "collapsed": false,
    "ExecuteTime": {
     "end_time": "2023-10-08T18:38:55.428690Z",
     "start_time": "2023-10-08T18:38:55.404202Z"
    }
   },
   "id": "c07cca2039b1bad4"
  },
  {
   "cell_type": "code",
   "execution_count": 69,
   "outputs": [
    {
     "data": {
      "text/plain": "['asset_code',\n 'date_add',\n 'asset_class',\n 'asset_maintenance_class',\n 'is_asset_motorized',\n 'asset_department',\n 'asset_energy_type',\n 'manufacturer_short_name',\n 'asset_model',\n 'asset_status_code',\n 'device_battery_level_percentage',\n 'asset_speed',\n 'latitude_degrees',\n 'longitude_degrees',\n 'geofence_kind',\n 'asset_engine_hours',\n 'asset_idle_indicator',\n 'engine_running_indicator',\n 'asset_working_indicator',\n 'asset_moving_indicator',\n 'maintanence']"
     },
     "execution_count": 69,
     "metadata": {},
     "output_type": "execute_result"
    }
   ],
   "source": [
    "col_model = [ i for i in df_united.columns if i not in col_model_minus]\n",
    "col_model"
   ],
   "metadata": {
    "collapsed": false,
    "ExecuteTime": {
     "end_time": "2023-10-08T18:38:59.772133Z",
     "start_time": "2023-10-08T18:38:59.765665Z"
    }
   },
   "id": "6e547f04fbc4dbe6"
  },
  {
   "cell_type": "code",
   "execution_count": 70,
   "outputs": [
    {
     "data": {
      "text/plain": "                         asset_code             date_add    asset_class  \\\n0  f0e62c0d7c98d3ae3e27a3c6dd4bd49f  2022-07-30 20:56:39  FL - FORKLIFT   \n1  f0e62c0d7c98d3ae3e27a3c6dd4bd49f  2022-07-30 20:56:39  FL - FORKLIFT   \n2  f0e62c0d7c98d3ae3e27a3c6dd4bd49f  2022-07-30 20:56:49  FL - FORKLIFT   \n3  f0e62c0d7c98d3ae3e27a3c6dd4bd49f  2022-07-30 20:56:49  FL - FORKLIFT   \n4  f0e62c0d7c98d3ae3e27a3c6dd4bd49f  2022-07-30 20:57:09  FL - FORKLIFT   \n5  f0e62c0d7c98d3ae3e27a3c6dd4bd49f  2022-07-30 20:57:09  FL - FORKLIFT   \n6  f0e62c0d7c98d3ae3e27a3c6dd4bd49f  2022-07-30 20:57:35  FL - FORKLIFT   \n7  f0e62c0d7c98d3ae3e27a3c6dd4bd49f  2022-07-30 20:57:35  FL - FORKLIFT   \n8  f0e62c0d7c98d3ae3e27a3c6dd4bd49f  2022-07-30 20:57:48  FL - FORKLIFT   \n9  f0e62c0d7c98d3ae3e27a3c6dd4bd49f  2022-07-30 20:57:48  FL - FORKLIFT   \n\n  asset_maintenance_class  is_asset_motorized asset_department  \\\n0                GSE-M-FL                True         AO-CARGO   \n1                GSE-M-FL                True         AO-CARGO   \n2                GSE-M-FL                True         AO-CARGO   \n3                GSE-M-FL                True         AO-CARGO   \n4                GSE-M-FL                True         AO-CARGO   \n5                GSE-M-FL                True         AO-CARGO   \n6                GSE-M-FL                True         AO-CARGO   \n7                GSE-M-FL                True         AO-CARGO   \n8                GSE-M-FL                True         AO-CARGO   \n9                GSE-M-FL                True         AO-CARGO   \n\n  asset_energy_type           manufacturer_short_name asset_model  \\\n0                 B  e96631e72480d283f74b42e8903b0344    E50XM-33   \n1                 B  e96631e72480d283f74b42e8903b0344    E50XM-33   \n2                 B  e96631e72480d283f74b42e8903b0344    E50XM-33   \n3                 B  e96631e72480d283f74b42e8903b0344    E50XM-33   \n4                 B  e96631e72480d283f74b42e8903b0344    E50XM-33   \n5                 B  e96631e72480d283f74b42e8903b0344    E50XM-33   \n6                 B  e96631e72480d283f74b42e8903b0344    E50XM-33   \n7                 B  e96631e72480d283f74b42e8903b0344    E50XM-33   \n8                 B  e96631e72480d283f74b42e8903b0344    E50XM-33   \n9                 B  e96631e72480d283f74b42e8903b0344    E50XM-33   \n\n  asset_status_code  ...  asset_speed  latitude_degrees  longitude_degrees  \\\n0                 A  ...          0.0         41.996888         -87.931771   \n1                 A  ...          0.0         41.996888         -87.931771   \n2                 A  ...          0.0         41.996888         -87.931771   \n3                 A  ...          0.0         41.996888         -87.931771   \n4                 A  ...          0.0         41.996888         -87.931771   \n5                 A  ...          0.0         41.996888         -87.931771   \n6                 A  ...          0.0         41.996888         -87.931771   \n7                 A  ...          0.0         41.996888         -87.931771   \n8                 A  ...          0.0         41.996101         -87.930390   \n9                 A  ...          0.0         41.996101         -87.930390   \n\n   geofence_kind asset_engine_hours  asset_idle_indicator  \\\n0            NaN                0.0                 False   \n1            ORD                0.0                 False   \n2            NaN                0.0                 False   \n3            ORD                0.0                 False   \n4            ORD                0.0                 False   \n5            NaN                0.0                 False   \n6            NaN                0.0                 False   \n7            ORD                0.0                 False   \n8            NaN                0.0                 False   \n9            ORD                0.0                 False   \n\n  engine_running_indicator asset_working_indicator asset_moving_indicator  \\\n0                     True                    True                  False   \n1                     True                    True                  False   \n2                     True                    True                  False   \n3                     True                    True                  False   \n4                     True                    True                  False   \n5                     True                    True                  False   \n6                     True                    True                  False   \n7                     True                    True                  False   \n8                     True                    True                  False   \n9                     True                    True                  False   \n\n  maintanence  \n0           0  \n1           0  \n2           0  \n3           0  \n4           0  \n5           0  \n6           0  \n7           0  \n8           0  \n9           0  \n\n[10 rows x 21 columns]",
      "text/html": "<div>\n<style scoped>\n    .dataframe tbody tr th:only-of-type {\n        vertical-align: middle;\n    }\n\n    .dataframe tbody tr th {\n        vertical-align: top;\n    }\n\n    .dataframe thead th {\n        text-align: right;\n    }\n</style>\n<table border=\"1\" class=\"dataframe\">\n  <thead>\n    <tr style=\"text-align: right;\">\n      <th></th>\n      <th>asset_code</th>\n      <th>date_add</th>\n      <th>asset_class</th>\n      <th>asset_maintenance_class</th>\n      <th>is_asset_motorized</th>\n      <th>asset_department</th>\n      <th>asset_energy_type</th>\n      <th>manufacturer_short_name</th>\n      <th>asset_model</th>\n      <th>asset_status_code</th>\n      <th>...</th>\n      <th>asset_speed</th>\n      <th>latitude_degrees</th>\n      <th>longitude_degrees</th>\n      <th>geofence_kind</th>\n      <th>asset_engine_hours</th>\n      <th>asset_idle_indicator</th>\n      <th>engine_running_indicator</th>\n      <th>asset_working_indicator</th>\n      <th>asset_moving_indicator</th>\n      <th>maintanence</th>\n    </tr>\n  </thead>\n  <tbody>\n    <tr>\n      <th>0</th>\n      <td>f0e62c0d7c98d3ae3e27a3c6dd4bd49f</td>\n      <td>2022-07-30 20:56:39</td>\n      <td>FL - FORKLIFT</td>\n      <td>GSE-M-FL</td>\n      <td>True</td>\n      <td>AO-CARGO</td>\n      <td>B</td>\n      <td>e96631e72480d283f74b42e8903b0344</td>\n      <td>E50XM-33</td>\n      <td>A</td>\n      <td>...</td>\n      <td>0.0</td>\n      <td>41.996888</td>\n      <td>-87.931771</td>\n      <td>NaN</td>\n      <td>0.0</td>\n      <td>False</td>\n      <td>True</td>\n      <td>True</td>\n      <td>False</td>\n      <td>0</td>\n    </tr>\n    <tr>\n      <th>1</th>\n      <td>f0e62c0d7c98d3ae3e27a3c6dd4bd49f</td>\n      <td>2022-07-30 20:56:39</td>\n      <td>FL - FORKLIFT</td>\n      <td>GSE-M-FL</td>\n      <td>True</td>\n      <td>AO-CARGO</td>\n      <td>B</td>\n      <td>e96631e72480d283f74b42e8903b0344</td>\n      <td>E50XM-33</td>\n      <td>A</td>\n      <td>...</td>\n      <td>0.0</td>\n      <td>41.996888</td>\n      <td>-87.931771</td>\n      <td>ORD</td>\n      <td>0.0</td>\n      <td>False</td>\n      <td>True</td>\n      <td>True</td>\n      <td>False</td>\n      <td>0</td>\n    </tr>\n    <tr>\n      <th>2</th>\n      <td>f0e62c0d7c98d3ae3e27a3c6dd4bd49f</td>\n      <td>2022-07-30 20:56:49</td>\n      <td>FL - FORKLIFT</td>\n      <td>GSE-M-FL</td>\n      <td>True</td>\n      <td>AO-CARGO</td>\n      <td>B</td>\n      <td>e96631e72480d283f74b42e8903b0344</td>\n      <td>E50XM-33</td>\n      <td>A</td>\n      <td>...</td>\n      <td>0.0</td>\n      <td>41.996888</td>\n      <td>-87.931771</td>\n      <td>NaN</td>\n      <td>0.0</td>\n      <td>False</td>\n      <td>True</td>\n      <td>True</td>\n      <td>False</td>\n      <td>0</td>\n    </tr>\n    <tr>\n      <th>3</th>\n      <td>f0e62c0d7c98d3ae3e27a3c6dd4bd49f</td>\n      <td>2022-07-30 20:56:49</td>\n      <td>FL - FORKLIFT</td>\n      <td>GSE-M-FL</td>\n      <td>True</td>\n      <td>AO-CARGO</td>\n      <td>B</td>\n      <td>e96631e72480d283f74b42e8903b0344</td>\n      <td>E50XM-33</td>\n      <td>A</td>\n      <td>...</td>\n      <td>0.0</td>\n      <td>41.996888</td>\n      <td>-87.931771</td>\n      <td>ORD</td>\n      <td>0.0</td>\n      <td>False</td>\n      <td>True</td>\n      <td>True</td>\n      <td>False</td>\n      <td>0</td>\n    </tr>\n    <tr>\n      <th>4</th>\n      <td>f0e62c0d7c98d3ae3e27a3c6dd4bd49f</td>\n      <td>2022-07-30 20:57:09</td>\n      <td>FL - FORKLIFT</td>\n      <td>GSE-M-FL</td>\n      <td>True</td>\n      <td>AO-CARGO</td>\n      <td>B</td>\n      <td>e96631e72480d283f74b42e8903b0344</td>\n      <td>E50XM-33</td>\n      <td>A</td>\n      <td>...</td>\n      <td>0.0</td>\n      <td>41.996888</td>\n      <td>-87.931771</td>\n      <td>ORD</td>\n      <td>0.0</td>\n      <td>False</td>\n      <td>True</td>\n      <td>True</td>\n      <td>False</td>\n      <td>0</td>\n    </tr>\n    <tr>\n      <th>5</th>\n      <td>f0e62c0d7c98d3ae3e27a3c6dd4bd49f</td>\n      <td>2022-07-30 20:57:09</td>\n      <td>FL - FORKLIFT</td>\n      <td>GSE-M-FL</td>\n      <td>True</td>\n      <td>AO-CARGO</td>\n      <td>B</td>\n      <td>e96631e72480d283f74b42e8903b0344</td>\n      <td>E50XM-33</td>\n      <td>A</td>\n      <td>...</td>\n      <td>0.0</td>\n      <td>41.996888</td>\n      <td>-87.931771</td>\n      <td>NaN</td>\n      <td>0.0</td>\n      <td>False</td>\n      <td>True</td>\n      <td>True</td>\n      <td>False</td>\n      <td>0</td>\n    </tr>\n    <tr>\n      <th>6</th>\n      <td>f0e62c0d7c98d3ae3e27a3c6dd4bd49f</td>\n      <td>2022-07-30 20:57:35</td>\n      <td>FL - FORKLIFT</td>\n      <td>GSE-M-FL</td>\n      <td>True</td>\n      <td>AO-CARGO</td>\n      <td>B</td>\n      <td>e96631e72480d283f74b42e8903b0344</td>\n      <td>E50XM-33</td>\n      <td>A</td>\n      <td>...</td>\n      <td>0.0</td>\n      <td>41.996888</td>\n      <td>-87.931771</td>\n      <td>NaN</td>\n      <td>0.0</td>\n      <td>False</td>\n      <td>True</td>\n      <td>True</td>\n      <td>False</td>\n      <td>0</td>\n    </tr>\n    <tr>\n      <th>7</th>\n      <td>f0e62c0d7c98d3ae3e27a3c6dd4bd49f</td>\n      <td>2022-07-30 20:57:35</td>\n      <td>FL - FORKLIFT</td>\n      <td>GSE-M-FL</td>\n      <td>True</td>\n      <td>AO-CARGO</td>\n      <td>B</td>\n      <td>e96631e72480d283f74b42e8903b0344</td>\n      <td>E50XM-33</td>\n      <td>A</td>\n      <td>...</td>\n      <td>0.0</td>\n      <td>41.996888</td>\n      <td>-87.931771</td>\n      <td>ORD</td>\n      <td>0.0</td>\n      <td>False</td>\n      <td>True</td>\n      <td>True</td>\n      <td>False</td>\n      <td>0</td>\n    </tr>\n    <tr>\n      <th>8</th>\n      <td>f0e62c0d7c98d3ae3e27a3c6dd4bd49f</td>\n      <td>2022-07-30 20:57:48</td>\n      <td>FL - FORKLIFT</td>\n      <td>GSE-M-FL</td>\n      <td>True</td>\n      <td>AO-CARGO</td>\n      <td>B</td>\n      <td>e96631e72480d283f74b42e8903b0344</td>\n      <td>E50XM-33</td>\n      <td>A</td>\n      <td>...</td>\n      <td>0.0</td>\n      <td>41.996101</td>\n      <td>-87.930390</td>\n      <td>NaN</td>\n      <td>0.0</td>\n      <td>False</td>\n      <td>True</td>\n      <td>True</td>\n      <td>False</td>\n      <td>0</td>\n    </tr>\n    <tr>\n      <th>9</th>\n      <td>f0e62c0d7c98d3ae3e27a3c6dd4bd49f</td>\n      <td>2022-07-30 20:57:48</td>\n      <td>FL - FORKLIFT</td>\n      <td>GSE-M-FL</td>\n      <td>True</td>\n      <td>AO-CARGO</td>\n      <td>B</td>\n      <td>e96631e72480d283f74b42e8903b0344</td>\n      <td>E50XM-33</td>\n      <td>A</td>\n      <td>...</td>\n      <td>0.0</td>\n      <td>41.996101</td>\n      <td>-87.930390</td>\n      <td>ORD</td>\n      <td>0.0</td>\n      <td>False</td>\n      <td>True</td>\n      <td>True</td>\n      <td>False</td>\n      <td>0</td>\n    </tr>\n  </tbody>\n</table>\n<p>10 rows × 21 columns</p>\n</div>"
     },
     "execution_count": 70,
     "metadata": {},
     "output_type": "execute_result"
    }
   ],
   "source": [
    "df_united = df_united[col_model]\n",
    "df_united.head(10)"
   ],
   "metadata": {
    "collapsed": false,
    "ExecuteTime": {
     "end_time": "2023-10-08T18:39:04.925598Z",
     "start_time": "2023-10-08T18:39:04.523262Z"
    }
   },
   "id": "2fd040b1ab21743"
  },
  {
   "cell_type": "code",
   "execution_count": 71,
   "outputs": [
    {
     "data": {
      "text/plain": "(3624366, 21)"
     },
     "execution_count": 71,
     "metadata": {},
     "output_type": "execute_result"
    }
   ],
   "source": [
    "indx = df_united.duplicated(keep='first')\n",
    "df_united = df_united[~indx]\n",
    "df_united.shape"
   ],
   "metadata": {
    "collapsed": false,
    "ExecuteTime": {
     "end_time": "2023-10-08T18:39:15.051960Z",
     "start_time": "2023-10-08T18:39:09.521106Z"
    }
   },
   "id": "49dc3f68b9789c63"
  },
  {
   "cell_type": "code",
   "execution_count": 72,
   "outputs": [],
   "source": [
    "df_united.to_csv('./data/itter4.csv', index=False)"
   ],
   "metadata": {
    "collapsed": false,
    "ExecuteTime": {
     "end_time": "2023-10-08T18:40:00.334969Z",
     "start_time": "2023-10-08T18:39:19.358153Z"
    }
   },
   "id": "fc76051666daa3c3"
  },
  {
   "cell_type": "markdown",
   "source": [
    "# STOP"
   ],
   "metadata": {
    "collapsed": false
   },
   "id": "3a39c1a355b80fee"
  },
  {
   "cell_type": "code",
   "execution_count": 169,
   "outputs": [
    {
     "data": {
      "text/plain": "'630e47544807093663313d1fdfb4bd73'"
     },
     "execution_count": 169,
     "metadata": {},
     "output_type": "execute_result"
    }
   ],
   "source": [
    "asset_to_des = temp.index.unique()[11]\n",
    "asset_to_des"
   ],
   "metadata": {
    "collapsed": false,
    "ExecuteTime": {
     "end_time": "2023-10-08T19:57:07.898229Z",
     "start_time": "2023-10-08T19:57:07.839449Z"
    }
   },
   "id": "1cee4f6ecf853f3"
  },
  {
   "cell_type": "code",
   "execution_count": 170,
   "outputs": [],
   "source": [
    "temp_des = temp.loc[asset_to_des]"
   ],
   "metadata": {
    "collapsed": false,
    "ExecuteTime": {
     "end_time": "2023-10-08T19:57:27.026628Z",
     "start_time": "2023-10-08T19:57:26.944957Z"
    }
   },
   "id": "5b1aef8272604d6a"
  },
  {
   "cell_type": "code",
   "execution_count": 171,
   "outputs": [
    {
     "data": {
      "text/plain": "(258556, 20)"
     },
     "execution_count": 171,
     "metadata": {},
     "output_type": "execute_result"
    }
   ],
   "source": [
    "temp_des.shape"
   ],
   "metadata": {
    "collapsed": false,
    "ExecuteTime": {
     "end_time": "2023-10-08T19:57:36.856776Z",
     "start_time": "2023-10-08T19:57:36.779541Z"
    }
   },
   "id": "3b9f8ec94387041d"
  },
  {
   "cell_type": "code",
   "execution_count": 172,
   "outputs": [],
   "source": [
    "temp_des_timemaint = temp_des[['date_add','asset_engine_hours','maintanence']]"
   ],
   "metadata": {
    "collapsed": false,
    "ExecuteTime": {
     "end_time": "2023-10-08T19:57:44.354153Z",
     "start_time": "2023-10-08T19:57:44.336857Z"
    }
   },
   "id": "2749d218ab965828"
  },
  {
   "cell_type": "code",
   "execution_count": 126,
   "outputs": [],
   "source": [
    "import seaborn as sns\n",
    "import matplotlib.pyplot as plt"
   ],
   "metadata": {
    "collapsed": false,
    "ExecuteTime": {
     "end_time": "2023-10-08T19:34:23.506482Z",
     "start_time": "2023-10-08T19:34:23.502647Z"
    }
   },
   "id": "ea5b0c8595dd4e5d"
  },
  {
   "cell_type": "code",
   "execution_count": 173,
   "outputs": [
    {
     "name": "stderr",
     "output_type": "stream",
     "text": [
      "/Users/sbashkatov/Desktop/all_code/environments/python_ml/venv/lib/python3.11/site-packages/seaborn/_oldcore.py:1498: FutureWarning: is_categorical_dtype is deprecated and will be removed in a future version. Use isinstance(dtype, CategoricalDtype) instead\n",
      "  if pd.api.types.is_categorical_dtype(vector):\n",
      "/Users/sbashkatov/Desktop/all_code/environments/python_ml/venv/lib/python3.11/site-packages/seaborn/_oldcore.py:1498: FutureWarning: is_categorical_dtype is deprecated and will be removed in a future version. Use isinstance(dtype, CategoricalDtype) instead\n",
      "  if pd.api.types.is_categorical_dtype(vector):\n"
     ]
    },
    {
     "data": {
      "text/plain": "<Axes: xlabel='date_add', ylabel='maintanence'>"
     },
     "execution_count": 173,
     "metadata": {},
     "output_type": "execute_result"
    },
    {
     "data": {
      "text/plain": "<Figure size 640x480 with 1 Axes>",
      "image/png": "[encoded data removed]"
     },
     "metadata": {},
     "output_type": "display_data"
    }
   ],
   "source": [
    "sns.scatterplot(x = temp_des_timemaint['date_add'], y = temp_des_timemaint['maintanence'])\n",
    "# sns.scatterplot(x = temp_des_timemaint['asset_engine_hours'], y = temp_des_timemaint['maintanence'])"
   ],
   "metadata": {
    "collapsed": false,
    "ExecuteTime": {
     "end_time": "2023-10-08T19:57:50.538446Z",
     "start_time": "2023-10-08T19:57:49.291053Z"
    }
   },
   "id": "7f10f42a7b5b2fd5"
  },
  {
   "cell_type": "code",
   "execution_count": 174,
   "outputs": [
    {
     "name": "stderr",
     "output_type": "stream",
     "text": [
      "/Users/sbashkatov/Desktop/all_code/environments/python_ml/venv/lib/python3.11/site-packages/seaborn/_oldcore.py:1498: FutureWarning: is_categorical_dtype is deprecated and will be removed in a future version. Use isinstance(dtype, CategoricalDtype) instead\n",
      "  if pd.api.types.is_categorical_dtype(vector):\n",
      "/Users/sbashkatov/Desktop/all_code/environments/python_ml/venv/lib/python3.11/site-packages/seaborn/_oldcore.py:1498: FutureWarning: is_categorical_dtype is deprecated and will be removed in a future version. Use isinstance(dtype, CategoricalDtype) instead\n",
      "  if pd.api.types.is_categorical_dtype(vector):\n"
     ]
    },
    {
     "data": {
      "text/plain": "<Axes: xlabel='asset_engine_hours', ylabel='maintanence'>"
     },
     "execution_count": 174,
     "metadata": {},
     "output_type": "execute_result"
    },
    {
     "data": {
      "text/plain": "<Figure size 640x480 with 1 Axes>",
      "image/png": "[encoded data removed]"
     },
     "metadata": {},
     "output_type": "display_data"
    }
   ],
   "source": [
    "sns.scatterplot(x = temp_des_timemaint['asset_engine_hours'], y = temp_des_timemaint['maintanence'])"
   ],
   "metadata": {
    "collapsed": false,
    "ExecuteTime": {
     "end_time": "2023-10-08T19:58:03.121292Z",
     "start_time": "2023-10-08T19:58:01.977993Z"
    }
   },
   "id": "6a3845d9a177a4b"
  },
  {
   "cell_type": "code",
   "execution_count": 167,
   "outputs": [
    {
     "data": {
      "text/plain": "asset_engine_hours\n3820.0    15429\nName: count, dtype: int64"
     },
     "execution_count": 167,
     "metadata": {},
     "output_type": "execute_result"
    }
   ],
   "source": [
    "temp_des_timemaint.asset_engine_hours.value_counts()"
   ],
   "metadata": {
    "collapsed": false,
    "ExecuteTime": {
     "end_time": "2023-10-08T19:55:47.554018Z",
     "start_time": "2023-10-08T19:55:47.541572Z"
    }
   },
   "id": "c2ef586af9a32dcc"
  },
  {
   "cell_type": "code",
   "execution_count": 142,
   "outputs": [
    {
     "data": {
      "text/plain": "asset_engine_hours\n2975.000000     18035\n3820.000000     14299\n4034.929722     11158\n3037.660000      6558\n27258.000000     5753\n                ...  \n4801.949444         1\n27313.586111        1\n27269.418056        1\n27278.636667        1\n3060.503056         1\nName: count, Length: 13724, dtype: int64"
     },
     "execution_count": 142,
     "metadata": {},
     "output_type": "execute_result"
    }
   ],
   "source": [
    "temp[temp.maintanence == 0]['asset_engine_hours'].value_counts()"
   ],
   "metadata": {
    "collapsed": false,
    "ExecuteTime": {
     "end_time": "2023-10-08T19:42:08.750146Z",
     "start_time": "2023-10-08T19:42:08.545047Z"
    }
   },
   "id": "3072d8943bc8aa55"
  },
  {
   "cell_type": "code",
   "execution_count": 153,
   "outputs": [
    {
     "data": {
      "text/plain": "                                          min          mean           max\nasset_code                                                               \n0e5f496ccb0bfa76a37d771fe9a4dea7  1455.070556   1492.112625   1532.515556\n3294d0997aab7753e044a79e6e2aa915   379.100000    493.424515    577.213056\n4600499b623817d0e4ff062805e7019b     0.000000    825.568750    852.200000\n48dae21f66dd7f90ca47956c18213f43     0.000000  27286.096770  27331.241944\n5976dbf31c22f2b01c224707f89e21bb     0.000000   3013.075063   3078.606111\n602985d76c856c1b4c26915575adbe13  4782.000000   4918.396325   5047.649722\n630e47544807093663313d1fdfb4bd73   252.000000    873.899931   1437.918889\n76c24b4e991cbbb2953aeaabdb8054c9          NaN           NaN           NaN\nb21b1ba46ec478ee0bc7287d7887c849     0.000000   2191.547240   2203.490556\nd0eef70df23bf5e68d75f6ed19934dbb     0.000000   4184.760701   4396.750556\nd7002b9ffa2f5d604fda030f3ad1682d  1138.997222   1146.688842   1152.188056\ne4b07aea0b950a397989c1d716bb7f2b  3820.000000   3820.000000   3820.000000\nffe6dac68e2c4b78c43d7b308c4e5dae     0.000000   5854.637888   5965.086944",
      "text/html": "<div>\n<style scoped>\n    .dataframe tbody tr th:only-of-type {\n        vertical-align: middle;\n    }\n\n    .dataframe tbody tr th {\n        vertical-align: top;\n    }\n\n    .dataframe thead th {\n        text-align: right;\n    }\n</style>\n<table border=\"1\" class=\"dataframe\">\n  <thead>\n    <tr style=\"text-align: right;\">\n      <th></th>\n      <th>min</th>\n      <th>mean</th>\n      <th>max</th>\n    </tr>\n    <tr>\n      <th>asset_code</th>\n      <th></th>\n      <th></th>\n      <th></th>\n    </tr>\n  </thead>\n  <tbody>\n    <tr>\n      <th>0e5f496ccb0bfa76a37d771fe9a4dea7</th>\n      <td>1455.070556</td>\n      <td>1492.112625</td>\n      <td>1532.515556</td>\n    </tr>\n    <tr>\n      <th>3294d0997aab7753e044a79e6e2aa915</th>\n      <td>379.100000</td>\n      <td>493.424515</td>\n      <td>577.213056</td>\n    </tr>\n    <tr>\n      <th>4600499b623817d0e4ff062805e7019b</th>\n      <td>0.000000</td>\n      <td>825.568750</td>\n      <td>852.200000</td>\n    </tr>\n    <tr>\n      <th>48dae21f66dd7f90ca47956c18213f43</th>\n      <td>0.000000</td>\n      <td>27286.096770</td>\n      <td>27331.241944</td>\n    </tr>\n    <tr>\n      <th>5976dbf31c22f2b01c224707f89e21bb</th>\n      <td>0.000000</td>\n      <td>3013.075063</td>\n      <td>3078.606111</td>\n    </tr>\n    <tr>\n      <th>602985d76c856c1b4c26915575adbe13</th>\n      <td>4782.000000</td>\n      <td>4918.396325</td>\n      <td>5047.649722</td>\n    </tr>\n    <tr>\n      <th>630e47544807093663313d1fdfb4bd73</th>\n      <td>252.000000</td>\n      <td>873.899931</td>\n      <td>1437.918889</td>\n    </tr>\n    <tr>\n      <th>76c24b4e991cbbb2953aeaabdb8054c9</th>\n      <td>NaN</td>\n      <td>NaN</td>\n      <td>NaN</td>\n    </tr>\n    <tr>\n      <th>b21b1ba46ec478ee0bc7287d7887c849</th>\n      <td>0.000000</td>\n      <td>2191.547240</td>\n      <td>2203.490556</td>\n    </tr>\n    <tr>\n      <th>d0eef70df23bf5e68d75f6ed19934dbb</th>\n      <td>0.000000</td>\n      <td>4184.760701</td>\n      <td>4396.750556</td>\n    </tr>\n    <tr>\n      <th>d7002b9ffa2f5d604fda030f3ad1682d</th>\n      <td>1138.997222</td>\n      <td>1146.688842</td>\n      <td>1152.188056</td>\n    </tr>\n    <tr>\n      <th>e4b07aea0b950a397989c1d716bb7f2b</th>\n      <td>3820.000000</td>\n      <td>3820.000000</td>\n      <td>3820.000000</td>\n    </tr>\n    <tr>\n      <th>ffe6dac68e2c4b78c43d7b308c4e5dae</th>\n      <td>0.000000</td>\n      <td>5854.637888</td>\n      <td>5965.086944</td>\n    </tr>\n  </tbody>\n</table>\n</div>"
     },
     "execution_count": 153,
     "metadata": {},
     "output_type": "execute_result"
    }
   ],
   "source": [
    "temp.groupby('asset_code')['asset_engine_hours'].agg(['min','mean','max'])"
   ],
   "metadata": {
    "collapsed": false,
    "ExecuteTime": {
     "end_time": "2023-10-08T19:52:13.007862Z",
     "start_time": "2023-10-08T19:52:12.867762Z"
    }
   },
   "id": "e082769be34934f6"
  },
  {
   "cell_type": "markdown",
   "source": [
    "# Conclusion:\n",
    "## 1) In the dataset there are only 18 out of 42 columns that posess information and don't duplicate relations.\n",
    "## 2) Dataset size can be reduced almost 3 times without loosing information.\n",
    "## 3) could be interesting to check what models are where never or constantly in maintanence\n",
    "Input file size - 2.1Gb, output - 197.5Mb"
   ],
   "metadata": {
    "collapsed": false
   },
   "id": "c713a769de0b6aa7"
  }
 ],
 "metadata": {
  "kernelspec": {
   "display_name": "Python 3",
   "language": "python",
   "name": "python3"
  },
  "language_info": {
   "codemirror_mode": {
    "name": "ipython",
    "version": 2
   },
   "file_extension": ".py",
   "mimetype": "text/x-python",
   "name": "python",
   "nbconvert_exporter": "python",
   "pygments_lexer": "ipython2",
   "version": "2.7.6"
  }
 },
 "nbformat": 4,
 "nbformat_minor": 5
}
